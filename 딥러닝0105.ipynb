{
  "nbformat": 4,
  "nbformat_minor": 0,
  "metadata": {
    "colab": {
      "provenance": [],
      "authorship_tag": "ABX9TyP+fM8jhmVqZuYu0cNW8HFv",
      "include_colab_link": true
    },
    "kernelspec": {
      "name": "python3",
      "display_name": "Python 3"
    },
    "language_info": {
      "name": "python"
    }
  },
  "cells": [
    {
      "cell_type": "markdown",
      "metadata": {
        "id": "view-in-github",
        "colab_type": "text"
      },
      "source": [
        "<a href=\"https://colab.research.google.com/github/yeseul77/Python/blob/main/240115.ipynb\" target=\"_parent\"><img src=\"https://colab.research.google.com/assets/colab-badge.svg\" alt=\"Open In Colab\"/></a>"
      ]
    },
    {
      "cell_type": "code",
      "execution_count": 5,
      "metadata": {
        "colab": {
          "base_uri": "https://localhost:8080/"
        },
        "id": "zkkDTu-A5MQ2",
        "outputId": "f14182ff-5405-4224-bc19-a5affcaa1672"
      },
      "outputs": [
        {
          "output_type": "stream",
          "name": "stdout",
          "text": [
            "Drive already mounted at /content/drive; to attempt to forcibly remount, call drive.mount(\"/content/drive\", force_remount=True).\n"
          ]
        }
      ],
      "source": [
        "from google.colab import drive\n",
        "drive.mount('/content/drive')\n",
        "\n",
        "Mounted at /content/drive"
      ]
    },
    {
      "cell_type": "code",
      "source": [
        "import numpy as np\n",
        "import matplotlib.pyplot as plt\n"
      ],
      "metadata": {
        "id": "gMjKU8y-6jlV"
      },
      "execution_count": 6,
      "outputs": []
    },
    {
      "cell_type": "code",
      "source": [
        "x = np.array([1,2,3,4]) #벡터\n",
        "y = np.array([1,0,1,0]) #벡터\n"
      ],
      "metadata": {
        "id": "umcbrmI5611f"
      },
      "execution_count": 7,
      "outputs": []
    },
    {
      "cell_type": "code",
      "source": [
        "x"
      ],
      "metadata": {
        "colab": {
          "base_uri": "https://localhost:8080/"
        },
        "id": "p9F8JFOZ7DVI",
        "outputId": "79f9fc8c-4e9f-4f0d-f8d9-dade3739fc1a"
      },
      "execution_count": 10,
      "outputs": [
        {
          "output_type": "execute_result",
          "data": {
            "text/plain": [
              "array([1, 2, 3, 4])"
            ]
          },
          "metadata": {},
          "execution_count": 10
        }
      ]
    },
    {
      "cell_type": "code",
      "source": [
        "y"
      ],
      "metadata": {
        "colab": {
          "base_uri": "https://localhost:8080/"
        },
        "id": "1IoTl_vG7DXr",
        "outputId": "ec1d2a4f-9831-4d0a-9114-559d8347706f"
      },
      "execution_count": 11,
      "outputs": [
        {
          "output_type": "execute_result",
          "data": {
            "text/plain": [
              "array([1, 0, 1, 0])"
            ]
          },
          "metadata": {},
          "execution_count": 11
        }
      ]
    },
    {
      "cell_type": "code",
      "source": [
        "y.shape #벡터의 사이즈를 알 수 있음 shape\n",
        "x+y"
      ],
      "metadata": {
        "colab": {
          "base_uri": "https://localhost:8080/"
        },
        "id": "VL6yVzRe7DaX",
        "outputId": "a2421b93-2603-454e-deac-4b00359682ac"
      },
      "execution_count": 14,
      "outputs": [
        {
          "output_type": "execute_result",
          "data": {
            "text/plain": [
              "array([2, 2, 4, 4])"
            ]
          },
          "metadata": {},
          "execution_count": 14
        }
      ]
    },
    {
      "cell_type": "code",
      "source": [
        "x-y"
      ],
      "metadata": {
        "colab": {
          "base_uri": "https://localhost:8080/"
        },
        "id": "QAiTc4xX7YRw",
        "outputId": "987e4081-98b8-4e51-c14c-ba7e595280d1"
      },
      "execution_count": 15,
      "outputs": [
        {
          "output_type": "execute_result",
          "data": {
            "text/plain": [
              "array([0, 2, 2, 4])"
            ]
          },
          "metadata": {},
          "execution_count": 15
        }
      ]
    },
    {
      "cell_type": "code",
      "source": [
        "x"
      ],
      "metadata": {
        "colab": {
          "base_uri": "https://localhost:8080/"
        },
        "id": "aNH5NLDW7lzo",
        "outputId": "5eb971ba-6227-407e-8073-a5f30776b053"
      },
      "execution_count": 17,
      "outputs": [
        {
          "output_type": "execute_result",
          "data": {
            "text/plain": [
              "array([1, 2, 3, 4])"
            ]
          },
          "metadata": {},
          "execution_count": 17
        }
      ]
    },
    {
      "cell_type": "code",
      "source": [
        "#스칼라\n",
        "a = 10"
      ],
      "metadata": {
        "id": "0r14AJ8a7YUa"
      },
      "execution_count": 16,
      "outputs": []
    },
    {
      "cell_type": "code",
      "source": [
        "x*a  #각 요소에 스칼라값을 곱해줌"
      ],
      "metadata": {
        "colab": {
          "base_uri": "https://localhost:8080/"
        },
        "id": "xVwn4_7X7l2Z",
        "outputId": "c9966017-3145-489c-de1c-f99ef679b88d"
      },
      "execution_count": 18,
      "outputs": [
        {
          "output_type": "execute_result",
          "data": {
            "text/plain": [
              "array([10, 20, 30, 40])"
            ]
          },
          "metadata": {},
          "execution_count": 18
        }
      ]
    },
    {
      "cell_type": "code",
      "source": [
        "x-a  # 브로드 캐스팅"
      ],
      "metadata": {
        "colab": {
          "base_uri": "https://localhost:8080/"
        },
        "id": "OIjrqeou7vzY",
        "outputId": "a9119d57-ee28-40ba-f8f9-68a4e06a6b49"
      },
      "execution_count": 19,
      "outputs": [
        {
          "output_type": "execute_result",
          "data": {
            "text/plain": [
              "array([-9, -8, -7, -6])"
            ]
          },
          "metadata": {},
          "execution_count": 19
        }
      ]
    },
    {
      "cell_type": "code",
      "source": [
        "x"
      ],
      "metadata": {
        "colab": {
          "base_uri": "https://localhost:8080/"
        },
        "id": "4YC9WA237l5b",
        "outputId": "f0de0bc9-f211-4009-c0d2-f70e9826768c"
      },
      "execution_count": 20,
      "outputs": [
        {
          "output_type": "execute_result",
          "data": {
            "text/plain": [
              "array([1, 2, 3, 4])"
            ]
          },
          "metadata": {},
          "execution_count": 20
        }
      ]
    },
    {
      "cell_type": "code",
      "source": [
        "y"
      ],
      "metadata": {
        "colab": {
          "base_uri": "https://localhost:8080/"
        },
        "id": "O794cstm704d",
        "outputId": "025d0920-5c0a-46d6-e2a9-4730e9c178b6"
      },
      "execution_count": 21,
      "outputs": [
        {
          "output_type": "execute_result",
          "data": {
            "text/plain": [
              "array([1, 0, 1, 0])"
            ]
          },
          "metadata": {},
          "execution_count": 21
        }
      ]
    },
    {
      "cell_type": "code",
      "source": [
        "np.dot(x,y) #(4,1)*(4,1)->(1,4)*(4,1)"
      ],
      "metadata": {
        "colab": {
          "base_uri": "https://localhost:8080/"
        },
        "id": "_heawJ44706-",
        "outputId": "11671031-70e1-44e5-c8d1-ca5aa43b35ad"
      },
      "execution_count": 22,
      "outputs": [
        {
          "output_type": "execute_result",
          "data": {
            "text/plain": [
              "4"
            ]
          },
          "metadata": {},
          "execution_count": 22
        }
      ]
    },
    {
      "cell_type": "code",
      "source": [
        "x.T #trans 자리를 바꿔줌 ,x백터를 자리변환해줌"
      ],
      "metadata": {
        "colab": {
          "base_uri": "https://localhost:8080/"
        },
        "id": "xT4NtyFb8aQp",
        "outputId": "34e96c6d-45c6-4c1a-ce99-11c1f2d85f24"
      },
      "execution_count": 23,
      "outputs": [
        {
          "output_type": "execute_result",
          "data": {
            "text/plain": [
              "array([1, 2, 3, 4])"
            ]
          },
          "metadata": {},
          "execution_count": 23
        }
      ]
    },
    {
      "cell_type": "code",
      "source": [
        "x.T @ y ,# x백터를 자리변환후 y와 내적연산"
      ],
      "metadata": {
        "colab": {
          "base_uri": "https://localhost:8080/"
        },
        "id": "OzdUOy4Y8aTi",
        "outputId": "48113ec5-f33e-4dba-ec9e-4cba9e16bc08"
      },
      "execution_count": 24,
      "outputs": [
        {
          "output_type": "execute_result",
          "data": {
            "text/plain": [
              "(4,)"
            ]
          },
          "metadata": {},
          "execution_count": 24
        }
      ]
    },
    {
      "cell_type": "code",
      "source": [
        "np.dot(x,y)"
      ],
      "metadata": {
        "colab": {
          "base_uri": "https://localhost:8080/"
        },
        "id": "cD_NO2EP8aWo",
        "outputId": "53b3ead8-a320-48ad-a286-73f5d386281e"
      },
      "execution_count": 25,
      "outputs": [
        {
          "output_type": "execute_result",
          "data": {
            "text/plain": [
              "4"
            ]
          },
          "metadata": {},
          "execution_count": 25
        }
      ]
    },
    {
      "cell_type": "code",
      "source": [
        "import pandas as pd\n",
        "import requests\n",
        "from PIL import Image\n",
        "from io import BytesIO\n",
        "import cv2"
      ],
      "metadata": {
        "id": "vray1JY77YW1"
      },
      "execution_count": 26,
      "outputs": []
    },
    {
      "cell_type": "code",
      "source": [
        "version_json=requests.get('https://ddragon.leagueoflegends.com/api/versions.json').json()"
      ],
      "metadata": {
        "id": "SpVE2-8v-lP8"
      },
      "execution_count": 29,
      "outputs": []
    },
    {
      "cell_type": "code",
      "source": [
        "version_currrent=version_json[0]"
      ],
      "metadata": {
        "id": "T7cRh5Oj-297"
      },
      "execution_count": 31,
      "outputs": []
    },
    {
      "cell_type": "code",
      "source": [
        "version_currrent"
      ],
      "metadata": {
        "colab": {
          "base_uri": "https://localhost:8080/",
          "height": 35
        },
        "id": "prsMZ7_W-3BM",
        "outputId": "8647e1f1-235c-45c4-af8d-62b399c2c81f"
      },
      "execution_count": 47,
      "outputs": [
        {
          "output_type": "execute_result",
          "data": {
            "text/plain": [
              "'14.1.1'"
            ],
            "application/vnd.google.colaboratory.intrinsic+json": {
              "type": "string"
            }
          },
          "metadata": {},
          "execution_count": 47
        }
      ]
    },
    {
      "cell_type": "code",
      "source": [
        "\n",
        "champion_url = f'https://ddragon.leagueoflegends.com/cdn/{version_current}/data/ko_KR/champion.json'\n",
        "champion_json = requests.get(champion_url).json()"
      ],
      "metadata": {
        "id": "0omXpJYK_Nlb"
      },
      "execution_count": 49,
      "outputs": []
    },
    {
      "cell_type": "code",
      "source": [
        "import requests\n",
        "version_currrent= \"14.1.1\"\n",
        "champion_url = f'https://ddragon.leagueoflegends.com/cdn/{version_current}/data/ko_KR/champion.json'\n",
        "champion_json = requests.get(champion_url).json()\n"
      ],
      "metadata": {
        "id": "iRkhCoN1_NoY"
      },
      "execution_count": 52,
      "outputs": []
    },
    {
      "cell_type": "code",
      "source": [
        "champion_json['data'].keys()"
      ],
      "metadata": {
        "colab": {
          "base_uri": "https://localhost:8080/"
        },
        "id": "O4lnz7fcS8S_",
        "outputId": "c64ef315-84d5-4538-b285-df59c986e9fb"
      },
      "execution_count": 53,
      "outputs": [
        {
          "output_type": "execute_result",
          "data": {
            "text/plain": [
              "dict_keys(['Aatrox', 'Ahri', 'Akali', 'Alistar', 'Amumu', 'Anivia', 'Annie', 'Aphelios', 'Ashe', 'AurelionSol', 'Azir', 'Bard', 'Blitzcrank', 'Brand', 'Braum', 'Caitlyn', 'Camille', 'Cassiopeia', 'Chogath', 'Corki', 'Darius', 'Diana', 'Draven', 'DrMundo', 'Ekko', 'Elise', 'Evelynn', 'Ezreal', 'Fiddlesticks', 'Fiora', 'Fizz', 'Galio', 'Gangplank', 'Garen', 'Gnar', 'Gragas', 'Graves', 'Hecarim', 'Heimerdinger', 'Illaoi', 'Irelia', 'Ivern', 'Janna', 'JarvanIV', 'Jax', 'Jayce', 'Jhin', 'Jinx', 'Kaisa', 'Kalista', 'Karma', 'Karthus', 'Kassadin', 'Katarina', 'Kayle', 'Kayn', 'Kennen', 'Khazix', 'Kindred', 'Kled', 'KogMaw', 'Leblanc', 'LeeSin', 'Leona', 'Lillia', 'Lissandra', 'Lucian', 'Lulu', 'Lux', 'Malphite', 'Malzahar', 'Maokai', 'MasterYi', 'MissFortune', 'MonkeyKing', 'Mordekaiser', 'Morgana', 'Nami', 'Nasus', 'Nautilus', 'Neeko', 'Nidalee', 'Nocturne', 'Nunu', 'Olaf', 'Orianna', 'Ornn', 'Pantheon', 'Poppy', 'Pyke', 'Qiyana', 'Quinn', 'Rakan', 'Rammus', 'RekSai', 'Rell', 'Renekton', 'Rengar', 'Riven', 'Rumble', 'Ryze', 'Samira', 'Sejuani', 'Senna', 'Seraphine', 'Sett', 'Shaco', 'Shen', 'Shyvana', 'Singed', 'Sion', 'Sivir', 'Skarner', 'Sona', 'Soraka', 'Swain', 'Sylas', 'Syndra', 'TahmKench', 'Taliyah', 'Talon', 'Taric', 'Teemo', 'Thresh', 'Tristana', 'Trundle', 'Tryndamere', 'TwistedFate', 'Twitch', 'Udyr', 'Urgot', 'Varus', 'Vayne', 'Veigar', 'Velkoz', 'Vi', 'Viktor', 'Vladimir', 'Volibear', 'Warwick', 'Xayah', 'Xerath', 'XinZhao', 'Yasuo', 'Yone', 'Yorick', 'Yuumi', 'Zac', 'Zed', 'Ziggs', 'Zilean', 'Zoe', 'Zyra'])"
            ]
          },
          "metadata": {},
          "execution_count": 53
        }
      ]
    },
    {
      "cell_type": "code",
      "source": [
        "champion_json['data']['Aatrox']"
      ],
      "metadata": {
        "colab": {
          "base_uri": "https://localhost:8080/"
        },
        "id": "NaNxEAquTI-6",
        "outputId": "24d8dc36-6229-42f0-e385-485b48cef2c1"
      },
      "execution_count": 55,
      "outputs": [
        {
          "output_type": "execute_result",
          "data": {
            "text/plain": [
              "{'version': '11.1.1',\n",
              " 'id': 'Aatrox',\n",
              " 'key': '266',\n",
              " 'name': '아트록스',\n",
              " 'title': '다르킨의 검',\n",
              " 'blurb': '한때는 공허에 맞서 싸웠던 슈리마의 명예로운 수호자 아트록스와 그의 종족은 결국 공허보다 위험한 존재가 되어 룬테라의 존속을 위협했지만, 교활한 필멸자의 마법에 속아넘어가 패배하게 되었다. 수백 년에 걸친 봉인 끝에, 아트록스는 자신의 정기가 깃든 마법 무기를 휘두르는 어리석은 자들을 타락시키고 육신을 바꾸는 것으로 다시 한번 자유의 길을 찾아내었다. 이제 이전의 잔혹한 모습을 닮은 육체를 차지한 아트록스는 세상의 종말과 오랫동안 기다려온 복수를...',\n",
              " 'info': {'attack': 8, 'defense': 4, 'magic': 3, 'difficulty': 4},\n",
              " 'image': {'full': 'Aatrox.png',\n",
              "  'sprite': 'champion0.png',\n",
              "  'group': 'champion',\n",
              "  'x': 0,\n",
              "  'y': 0,\n",
              "  'w': 48,\n",
              "  'h': 48},\n",
              " 'tags': ['Fighter', 'Tank'],\n",
              " 'partype': '피의 샘',\n",
              " 'stats': {'hp': 580,\n",
              "  'hpperlevel': 90,\n",
              "  'mp': 0,\n",
              "  'mpperlevel': 0,\n",
              "  'movespeed': 345,\n",
              "  'armor': 38,\n",
              "  'armorperlevel': 3.25,\n",
              "  'spellblock': 32,\n",
              "  'spellblockperlevel': 1.25,\n",
              "  'attackrange': 175,\n",
              "  'hpregen': 3,\n",
              "  'hpregenperlevel': 1,\n",
              "  'mpregen': 0,\n",
              "  'mpregenperlevel': 0,\n",
              "  'crit': 0,\n",
              "  'critperlevel': 0,\n",
              "  'attackdamage': 60,\n",
              "  'attackdamageperlevel': 5,\n",
              "  'attackspeedperlevel': 2.5,\n",
              "  'attackspeed': 0.651}}"
            ]
          },
          "metadata": {},
          "execution_count": 55
        }
      ]
    },
    {
      "cell_type": "code",
      "source": [
        "champion_img_url = f'https://ddragon.leagueoflegends.com/cdn/{version_current}/img/champion/'\n",
        "for champion_name, data in champion_json['data'].items():\n",
        "    print(champion_name, champion_img_url + data['image']['full'])"
      ],
      "metadata": {
        "colab": {
          "base_uri": "https://localhost:8080/"
        },
        "id": "SxevAfr_TJBy",
        "outputId": "00db5848-e586-45b3-c457-84fb3f5f9dee"
      },
      "execution_count": 57,
      "outputs": [
        {
          "output_type": "stream",
          "name": "stdout",
          "text": [
            "Aatrox https://ddragon.leagueoflegends.com/cdn/11.1.1/img/champion/Aatrox.png\n",
            "Ahri https://ddragon.leagueoflegends.com/cdn/11.1.1/img/champion/Ahri.png\n",
            "Akali https://ddragon.leagueoflegends.com/cdn/11.1.1/img/champion/Akali.png\n",
            "Alistar https://ddragon.leagueoflegends.com/cdn/11.1.1/img/champion/Alistar.png\n",
            "Amumu https://ddragon.leagueoflegends.com/cdn/11.1.1/img/champion/Amumu.png\n",
            "Anivia https://ddragon.leagueoflegends.com/cdn/11.1.1/img/champion/Anivia.png\n",
            "Annie https://ddragon.leagueoflegends.com/cdn/11.1.1/img/champion/Annie.png\n",
            "Aphelios https://ddragon.leagueoflegends.com/cdn/11.1.1/img/champion/Aphelios.png\n",
            "Ashe https://ddragon.leagueoflegends.com/cdn/11.1.1/img/champion/Ashe.png\n",
            "AurelionSol https://ddragon.leagueoflegends.com/cdn/11.1.1/img/champion/AurelionSol.png\n",
            "Azir https://ddragon.leagueoflegends.com/cdn/11.1.1/img/champion/Azir.png\n",
            "Bard https://ddragon.leagueoflegends.com/cdn/11.1.1/img/champion/Bard.png\n",
            "Blitzcrank https://ddragon.leagueoflegends.com/cdn/11.1.1/img/champion/Blitzcrank.png\n",
            "Brand https://ddragon.leagueoflegends.com/cdn/11.1.1/img/champion/Brand.png\n",
            "Braum https://ddragon.leagueoflegends.com/cdn/11.1.1/img/champion/Braum.png\n",
            "Caitlyn https://ddragon.leagueoflegends.com/cdn/11.1.1/img/champion/Caitlyn.png\n",
            "Camille https://ddragon.leagueoflegends.com/cdn/11.1.1/img/champion/Camille.png\n",
            "Cassiopeia https://ddragon.leagueoflegends.com/cdn/11.1.1/img/champion/Cassiopeia.png\n",
            "Chogath https://ddragon.leagueoflegends.com/cdn/11.1.1/img/champion/Chogath.png\n",
            "Corki https://ddragon.leagueoflegends.com/cdn/11.1.1/img/champion/Corki.png\n",
            "Darius https://ddragon.leagueoflegends.com/cdn/11.1.1/img/champion/Darius.png\n",
            "Diana https://ddragon.leagueoflegends.com/cdn/11.1.1/img/champion/Diana.png\n",
            "Draven https://ddragon.leagueoflegends.com/cdn/11.1.1/img/champion/Draven.png\n",
            "DrMundo https://ddragon.leagueoflegends.com/cdn/11.1.1/img/champion/DrMundo.png\n",
            "Ekko https://ddragon.leagueoflegends.com/cdn/11.1.1/img/champion/Ekko.png\n",
            "Elise https://ddragon.leagueoflegends.com/cdn/11.1.1/img/champion/Elise.png\n",
            "Evelynn https://ddragon.leagueoflegends.com/cdn/11.1.1/img/champion/Evelynn.png\n",
            "Ezreal https://ddragon.leagueoflegends.com/cdn/11.1.1/img/champion/Ezreal.png\n",
            "Fiddlesticks https://ddragon.leagueoflegends.com/cdn/11.1.1/img/champion/Fiddlesticks.png\n",
            "Fiora https://ddragon.leagueoflegends.com/cdn/11.1.1/img/champion/Fiora.png\n",
            "Fizz https://ddragon.leagueoflegends.com/cdn/11.1.1/img/champion/Fizz.png\n",
            "Galio https://ddragon.leagueoflegends.com/cdn/11.1.1/img/champion/Galio.png\n",
            "Gangplank https://ddragon.leagueoflegends.com/cdn/11.1.1/img/champion/Gangplank.png\n",
            "Garen https://ddragon.leagueoflegends.com/cdn/11.1.1/img/champion/Garen.png\n",
            "Gnar https://ddragon.leagueoflegends.com/cdn/11.1.1/img/champion/Gnar.png\n",
            "Gragas https://ddragon.leagueoflegends.com/cdn/11.1.1/img/champion/Gragas.png\n",
            "Graves https://ddragon.leagueoflegends.com/cdn/11.1.1/img/champion/Graves.png\n",
            "Hecarim https://ddragon.leagueoflegends.com/cdn/11.1.1/img/champion/Hecarim.png\n",
            "Heimerdinger https://ddragon.leagueoflegends.com/cdn/11.1.1/img/champion/Heimerdinger.png\n",
            "Illaoi https://ddragon.leagueoflegends.com/cdn/11.1.1/img/champion/Illaoi.png\n",
            "Irelia https://ddragon.leagueoflegends.com/cdn/11.1.1/img/champion/Irelia.png\n",
            "Ivern https://ddragon.leagueoflegends.com/cdn/11.1.1/img/champion/Ivern.png\n",
            "Janna https://ddragon.leagueoflegends.com/cdn/11.1.1/img/champion/Janna.png\n",
            "JarvanIV https://ddragon.leagueoflegends.com/cdn/11.1.1/img/champion/JarvanIV.png\n",
            "Jax https://ddragon.leagueoflegends.com/cdn/11.1.1/img/champion/Jax.png\n",
            "Jayce https://ddragon.leagueoflegends.com/cdn/11.1.1/img/champion/Jayce.png\n",
            "Jhin https://ddragon.leagueoflegends.com/cdn/11.1.1/img/champion/Jhin.png\n",
            "Jinx https://ddragon.leagueoflegends.com/cdn/11.1.1/img/champion/Jinx.png\n",
            "Kaisa https://ddragon.leagueoflegends.com/cdn/11.1.1/img/champion/Kaisa.png\n",
            "Kalista https://ddragon.leagueoflegends.com/cdn/11.1.1/img/champion/Kalista.png\n",
            "Karma https://ddragon.leagueoflegends.com/cdn/11.1.1/img/champion/Karma.png\n",
            "Karthus https://ddragon.leagueoflegends.com/cdn/11.1.1/img/champion/Karthus.png\n",
            "Kassadin https://ddragon.leagueoflegends.com/cdn/11.1.1/img/champion/Kassadin.png\n",
            "Katarina https://ddragon.leagueoflegends.com/cdn/11.1.1/img/champion/Katarina.png\n",
            "Kayle https://ddragon.leagueoflegends.com/cdn/11.1.1/img/champion/Kayle.png\n",
            "Kayn https://ddragon.leagueoflegends.com/cdn/11.1.1/img/champion/Kayn.png\n",
            "Kennen https://ddragon.leagueoflegends.com/cdn/11.1.1/img/champion/Kennen.png\n",
            "Khazix https://ddragon.leagueoflegends.com/cdn/11.1.1/img/champion/Khazix.png\n",
            "Kindred https://ddragon.leagueoflegends.com/cdn/11.1.1/img/champion/Kindred.png\n",
            "Kled https://ddragon.leagueoflegends.com/cdn/11.1.1/img/champion/Kled.png\n",
            "KogMaw https://ddragon.leagueoflegends.com/cdn/11.1.1/img/champion/KogMaw.png\n",
            "Leblanc https://ddragon.leagueoflegends.com/cdn/11.1.1/img/champion/Leblanc.png\n",
            "LeeSin https://ddragon.leagueoflegends.com/cdn/11.1.1/img/champion/LeeSin.png\n",
            "Leona https://ddragon.leagueoflegends.com/cdn/11.1.1/img/champion/Leona.png\n",
            "Lillia https://ddragon.leagueoflegends.com/cdn/11.1.1/img/champion/Lillia.png\n",
            "Lissandra https://ddragon.leagueoflegends.com/cdn/11.1.1/img/champion/Lissandra.png\n",
            "Lucian https://ddragon.leagueoflegends.com/cdn/11.1.1/img/champion/Lucian.png\n",
            "Lulu https://ddragon.leagueoflegends.com/cdn/11.1.1/img/champion/Lulu.png\n",
            "Lux https://ddragon.leagueoflegends.com/cdn/11.1.1/img/champion/Lux.png\n",
            "Malphite https://ddragon.leagueoflegends.com/cdn/11.1.1/img/champion/Malphite.png\n",
            "Malzahar https://ddragon.leagueoflegends.com/cdn/11.1.1/img/champion/Malzahar.png\n",
            "Maokai https://ddragon.leagueoflegends.com/cdn/11.1.1/img/champion/Maokai.png\n",
            "MasterYi https://ddragon.leagueoflegends.com/cdn/11.1.1/img/champion/MasterYi.png\n",
            "MissFortune https://ddragon.leagueoflegends.com/cdn/11.1.1/img/champion/MissFortune.png\n",
            "MonkeyKing https://ddragon.leagueoflegends.com/cdn/11.1.1/img/champion/MonkeyKing.png\n",
            "Mordekaiser https://ddragon.leagueoflegends.com/cdn/11.1.1/img/champion/Mordekaiser.png\n",
            "Morgana https://ddragon.leagueoflegends.com/cdn/11.1.1/img/champion/Morgana.png\n",
            "Nami https://ddragon.leagueoflegends.com/cdn/11.1.1/img/champion/Nami.png\n",
            "Nasus https://ddragon.leagueoflegends.com/cdn/11.1.1/img/champion/Nasus.png\n",
            "Nautilus https://ddragon.leagueoflegends.com/cdn/11.1.1/img/champion/Nautilus.png\n",
            "Neeko https://ddragon.leagueoflegends.com/cdn/11.1.1/img/champion/Neeko.png\n",
            "Nidalee https://ddragon.leagueoflegends.com/cdn/11.1.1/img/champion/Nidalee.png\n",
            "Nocturne https://ddragon.leagueoflegends.com/cdn/11.1.1/img/champion/Nocturne.png\n",
            "Nunu https://ddragon.leagueoflegends.com/cdn/11.1.1/img/champion/Nunu.png\n",
            "Olaf https://ddragon.leagueoflegends.com/cdn/11.1.1/img/champion/Olaf.png\n",
            "Orianna https://ddragon.leagueoflegends.com/cdn/11.1.1/img/champion/Orianna.png\n",
            "Ornn https://ddragon.leagueoflegends.com/cdn/11.1.1/img/champion/Ornn.png\n",
            "Pantheon https://ddragon.leagueoflegends.com/cdn/11.1.1/img/champion/Pantheon.png\n",
            "Poppy https://ddragon.leagueoflegends.com/cdn/11.1.1/img/champion/Poppy.png\n",
            "Pyke https://ddragon.leagueoflegends.com/cdn/11.1.1/img/champion/Pyke.png\n",
            "Qiyana https://ddragon.leagueoflegends.com/cdn/11.1.1/img/champion/Qiyana.png\n",
            "Quinn https://ddragon.leagueoflegends.com/cdn/11.1.1/img/champion/Quinn.png\n",
            "Rakan https://ddragon.leagueoflegends.com/cdn/11.1.1/img/champion/Rakan.png\n",
            "Rammus https://ddragon.leagueoflegends.com/cdn/11.1.1/img/champion/Rammus.png\n",
            "RekSai https://ddragon.leagueoflegends.com/cdn/11.1.1/img/champion/RekSai.png\n",
            "Rell https://ddragon.leagueoflegends.com/cdn/11.1.1/img/champion/Rell.png\n",
            "Renekton https://ddragon.leagueoflegends.com/cdn/11.1.1/img/champion/Renekton.png\n",
            "Rengar https://ddragon.leagueoflegends.com/cdn/11.1.1/img/champion/Rengar.png\n",
            "Riven https://ddragon.leagueoflegends.com/cdn/11.1.1/img/champion/Riven.png\n",
            "Rumble https://ddragon.leagueoflegends.com/cdn/11.1.1/img/champion/Rumble.png\n",
            "Ryze https://ddragon.leagueoflegends.com/cdn/11.1.1/img/champion/Ryze.png\n",
            "Samira https://ddragon.leagueoflegends.com/cdn/11.1.1/img/champion/Samira.png\n",
            "Sejuani https://ddragon.leagueoflegends.com/cdn/11.1.1/img/champion/Sejuani.png\n",
            "Senna https://ddragon.leagueoflegends.com/cdn/11.1.1/img/champion/Senna.png\n",
            "Seraphine https://ddragon.leagueoflegends.com/cdn/11.1.1/img/champion/Seraphine.png\n",
            "Sett https://ddragon.leagueoflegends.com/cdn/11.1.1/img/champion/Sett.png\n",
            "Shaco https://ddragon.leagueoflegends.com/cdn/11.1.1/img/champion/Shaco.png\n",
            "Shen https://ddragon.leagueoflegends.com/cdn/11.1.1/img/champion/Shen.png\n",
            "Shyvana https://ddragon.leagueoflegends.com/cdn/11.1.1/img/champion/Shyvana.png\n",
            "Singed https://ddragon.leagueoflegends.com/cdn/11.1.1/img/champion/Singed.png\n",
            "Sion https://ddragon.leagueoflegends.com/cdn/11.1.1/img/champion/Sion.png\n",
            "Sivir https://ddragon.leagueoflegends.com/cdn/11.1.1/img/champion/Sivir.png\n",
            "Skarner https://ddragon.leagueoflegends.com/cdn/11.1.1/img/champion/Skarner.png\n",
            "Sona https://ddragon.leagueoflegends.com/cdn/11.1.1/img/champion/Sona.png\n",
            "Soraka https://ddragon.leagueoflegends.com/cdn/11.1.1/img/champion/Soraka.png\n",
            "Swain https://ddragon.leagueoflegends.com/cdn/11.1.1/img/champion/Swain.png\n",
            "Sylas https://ddragon.leagueoflegends.com/cdn/11.1.1/img/champion/Sylas.png\n",
            "Syndra https://ddragon.leagueoflegends.com/cdn/11.1.1/img/champion/Syndra.png\n",
            "TahmKench https://ddragon.leagueoflegends.com/cdn/11.1.1/img/champion/TahmKench.png\n",
            "Taliyah https://ddragon.leagueoflegends.com/cdn/11.1.1/img/champion/Taliyah.png\n",
            "Talon https://ddragon.leagueoflegends.com/cdn/11.1.1/img/champion/Talon.png\n",
            "Taric https://ddragon.leagueoflegends.com/cdn/11.1.1/img/champion/Taric.png\n",
            "Teemo https://ddragon.leagueoflegends.com/cdn/11.1.1/img/champion/Teemo.png\n",
            "Thresh https://ddragon.leagueoflegends.com/cdn/11.1.1/img/champion/Thresh.png\n",
            "Tristana https://ddragon.leagueoflegends.com/cdn/11.1.1/img/champion/Tristana.png\n",
            "Trundle https://ddragon.leagueoflegends.com/cdn/11.1.1/img/champion/Trundle.png\n",
            "Tryndamere https://ddragon.leagueoflegends.com/cdn/11.1.1/img/champion/Tryndamere.png\n",
            "TwistedFate https://ddragon.leagueoflegends.com/cdn/11.1.1/img/champion/TwistedFate.png\n",
            "Twitch https://ddragon.leagueoflegends.com/cdn/11.1.1/img/champion/Twitch.png\n",
            "Udyr https://ddragon.leagueoflegends.com/cdn/11.1.1/img/champion/Udyr.png\n",
            "Urgot https://ddragon.leagueoflegends.com/cdn/11.1.1/img/champion/Urgot.png\n",
            "Varus https://ddragon.leagueoflegends.com/cdn/11.1.1/img/champion/Varus.png\n",
            "Vayne https://ddragon.leagueoflegends.com/cdn/11.1.1/img/champion/Vayne.png\n",
            "Veigar https://ddragon.leagueoflegends.com/cdn/11.1.1/img/champion/Veigar.png\n",
            "Velkoz https://ddragon.leagueoflegends.com/cdn/11.1.1/img/champion/Velkoz.png\n",
            "Vi https://ddragon.leagueoflegends.com/cdn/11.1.1/img/champion/Vi.png\n",
            "Viktor https://ddragon.leagueoflegends.com/cdn/11.1.1/img/champion/Viktor.png\n",
            "Vladimir https://ddragon.leagueoflegends.com/cdn/11.1.1/img/champion/Vladimir.png\n",
            "Volibear https://ddragon.leagueoflegends.com/cdn/11.1.1/img/champion/Volibear.png\n",
            "Warwick https://ddragon.leagueoflegends.com/cdn/11.1.1/img/champion/Warwick.png\n",
            "Xayah https://ddragon.leagueoflegends.com/cdn/11.1.1/img/champion/Xayah.png\n",
            "Xerath https://ddragon.leagueoflegends.com/cdn/11.1.1/img/champion/Xerath.png\n",
            "XinZhao https://ddragon.leagueoflegends.com/cdn/11.1.1/img/champion/XinZhao.png\n",
            "Yasuo https://ddragon.leagueoflegends.com/cdn/11.1.1/img/champion/Yasuo.png\n",
            "Yone https://ddragon.leagueoflegends.com/cdn/11.1.1/img/champion/Yone.png\n",
            "Yorick https://ddragon.leagueoflegends.com/cdn/11.1.1/img/champion/Yorick.png\n",
            "Yuumi https://ddragon.leagueoflegends.com/cdn/11.1.1/img/champion/Yuumi.png\n",
            "Zac https://ddragon.leagueoflegends.com/cdn/11.1.1/img/champion/Zac.png\n",
            "Zed https://ddragon.leagueoflegends.com/cdn/11.1.1/img/champion/Zed.png\n",
            "Ziggs https://ddragon.leagueoflegends.com/cdn/11.1.1/img/champion/Ziggs.png\n",
            "Zilean https://ddragon.leagueoflegends.com/cdn/11.1.1/img/champion/Zilean.png\n",
            "Zoe https://ddragon.leagueoflegends.com/cdn/11.1.1/img/champion/Zoe.png\n",
            "Zyra https://ddragon.leagueoflegends.com/cdn/11.1.1/img/champion/Zyra.png\n"
          ]
        }
      ]
    },
    {
      "cell_type": "code",
      "source": [
        "# pil,io를 활용해 이미지를 띄워볼것임\n",
        "jayce_img_url = 'https://ddragon.leagueoflegends.com/cdn/11.1.1/img/champion/Jayce.png'\n",
        "jayce_img_res = requests.get(jayce_img_url)\n",
        "Image.open(BytesIO(jayce_img_res.content))"
      ],
      "metadata": {
        "colab": {
          "base_uri": "https://localhost:8080/",
          "height": 137
        },
        "id": "oB2aW2fuTJEZ",
        "outputId": "88c5ed84-6206-40a6-85cd-c5beb39e2ceb"
      },
      "execution_count": 118,
      "outputs": [
        {
          "output_type": "execute_result",
          "data": {
            "text/plain": [
              "<PIL.PngImagePlugin.PngImageFile image mode=RGB size=120x120>"
            ],
            "image/png": "[encoded data removed]"
          },
          "metadata": {},
          "execution_count": 118
        }
      ]
    },
    {
      "cell_type": "code",
      "source": [
        "Image.open(BytesIO(jayce_img_res.content)).convert('L')"
      ],
      "metadata": {
        "colab": {
          "base_uri": "https://localhost:8080/",
          "height": 137
        },
        "id": "qv34tnJOVRRF",
        "outputId": "250844c9-926e-4230-c09b-a5c55125cf4d"
      },
      "execution_count": 119,
      "outputs": [
        {
          "output_type": "execute_result",
          "data": {
            "text/plain": [
              "<PIL.Image.Image image mode=L size=120x120>"
            ],
            "image/png": "[encoded data removed]"
          },
          "metadata": {},
          "execution_count": 119
        }
      ]
    },
    {
      "cell_type": "code",
      "source": [
        "jayce_img=Image.open(BytesIO(jayce_img_res.content)).convert('L')"
      ],
      "metadata": {
        "id": "J-4O6RT2Wi3y"
      },
      "execution_count": 120,
      "outputs": []
    },
    {
      "cell_type": "code",
      "source": [
        "jayce_img_vector = np.asanyarray(jayce_img, dtype=np.int)"
      ],
      "metadata": {
        "colab": {
          "base_uri": "https://localhost:8080/"
        },
        "id": "1f-WDbDJWjEO",
        "outputId": "de0db332-4011-4695-d059-00426f66a75b"
      },
      "execution_count": 121,
      "outputs": [
        {
          "output_type": "stream",
          "name": "stderr",
          "text": [
            "<ipython-input-121-ecf31b39ce0d>:1: DeprecationWarning: `np.int` is a deprecated alias for the builtin `int`. To silence this warning, use `int` by itself. Doing this will not modify any behavior and is safe. When replacing `np.int`, you may wish to use e.g. `np.int64` or `np.int32` to specify the precision. If you wish to review your current use, check the release note link for additional information.\n",
            "Deprecated in NumPy 1.20; for more details and guidance: https://numpy.org/devdocs/release/1.20.0-notes.html#deprecations\n",
            "  jayce_img_vector = np.asanyarray(jayce_img, dtype=np.int)\n"
          ]
        }
      ]
    },
    {
      "cell_type": "code",
      "source": [
        "jayce_img_vector.shape"
      ],
      "metadata": {
        "colab": {
          "base_uri": "https://localhost:8080/"
        },
        "id": "oZ9NICrcXHLZ",
        "outputId": "063be9ef-06b6-4c2c-abe9-62af7ff04190"
      },
      "execution_count": 122,
      "outputs": [
        {
          "output_type": "execute_result",
          "data": {
            "text/plain": [
              "(120, 120)"
            ]
          },
          "metadata": {},
          "execution_count": 122
        }
      ]
    },
    {
      "cell_type": "code",
      "source": [
        "120*120\n"
      ],
      "metadata": {
        "colab": {
          "base_uri": "https://localhost:8080/"
        },
        "id": "GzVAVf1gXHPg",
        "outputId": "e3c00a8e-096a-4d6d-e474-6153d97c846b"
      },
      "execution_count": 97,
      "outputs": [
        {
          "output_type": "execute_result",
          "data": {
            "text/plain": [
              "14400"
            ]
          },
          "metadata": {},
          "execution_count": 97
        }
      ]
    },
    {
      "cell_type": "code",
      "source": [
        "120*125\n",
        "# jayce_img_vector.reshape(120,125) >>  이건 오류남"
      ],
      "metadata": {
        "colab": {
          "base_uri": "https://localhost:8080/"
        },
        "id": "XwCoyWJlXW15",
        "outputId": "de7f73c4-53f9-4475-d4c0-7482ec3041e3"
      },
      "execution_count": 66,
      "outputs": [
        {
          "output_type": "execute_result",
          "data": {
            "text/plain": [
              "15000"
            ]
          },
          "metadata": {},
          "execution_count": 66
        }
      ]
    },
    {
      "cell_type": "code",
      "source": [
        "#가렌이미지 받아와서 gray 컬러로 출력후 ,\n",
        "#120,120의 가렌 벡터 변수명 : garen_img_vector"
      ],
      "metadata": {
        "id": "ss9_HMfBX5oX"
      },
      "execution_count": null,
      "outputs": []
    },
    {
      "cell_type": "code",
      "source": [
        "garen_img_url ='https://ddragon.leagueoflegends.com/cdn/11.1.1/img/champion/Garen.png'\n",
        "garen_img_res = requests.get(garen_img_url)\n",
        "Image.open(BytesIO(garen_img_res.content))"
      ],
      "metadata": {
        "colab": {
          "base_uri": "https://localhost:8080/",
          "height": 137
        },
        "id": "Oa2zRi1jX5q_",
        "outputId": "a7d78842-1b3e-4cf3-8d92-0530aff7cf83"
      },
      "execution_count": 123,
      "outputs": [
        {
          "output_type": "execute_result",
          "data": {
            "text/plain": [
              "<PIL.PngImagePlugin.PngImageFile image mode=RGB size=120x120>"
            ],
            "image/png": "[encoded data removed]"
          },
          "metadata": {},
          "execution_count": 123
        }
      ]
    },
    {
      "cell_type": "code",
      "source": [
        "Image.open(BytesIO(garen_img_res.content)).convert('L')\n",
        " #'L'흑백(그레이스케일)"
      ],
      "metadata": {
        "colab": {
          "base_uri": "https://localhost:8080/",
          "height": 137
        },
        "id": "NYWysQS9X5tm",
        "outputId": "4161a22c-9d77-4438-aca9-ca102fb60604"
      },
      "execution_count": 124,
      "outputs": [
        {
          "output_type": "execute_result",
          "data": {
            "text/plain": [
              "<PIL.Image.Image image mode=L size=120x120>"
            ],
            "image/png": "[encoded data removed]"
          },
          "metadata": {},
          "execution_count": 124
        }
      ]
    },
    {
      "cell_type": "code",
      "source": [
        "garen_img=Image.open(BytesIO(garen_img_res.content)).convert('L')"
      ],
      "metadata": {
        "id": "1lS90GIJX5wo"
      },
      "execution_count": 125,
      "outputs": []
    },
    {
      "cell_type": "code",
      "source": [
        "garen_img_vector = np.asanyarray(garen_img, dtype=np.int)"
      ],
      "metadata": {
        "colab": {
          "base_uri": "https://localhost:8080/"
        },
        "id": "dcym19T_Yg6C",
        "outputId": "e5df77fb-523e-4efc-971f-d924f77e5009"
      },
      "execution_count": 126,
      "outputs": [
        {
          "output_type": "stream",
          "name": "stderr",
          "text": [
            "<ipython-input-126-00565044efdc>:1: DeprecationWarning: `np.int` is a deprecated alias for the builtin `int`. To silence this warning, use `int` by itself. Doing this will not modify any behavior and is safe. When replacing `np.int`, you may wish to use e.g. `np.int64` or `np.int32` to specify the precision. If you wish to review your current use, check the release note link for additional information.\n",
            "Deprecated in NumPy 1.20; for more details and guidance: https://numpy.org/devdocs/release/1.20.0-notes.html#deprecations\n",
            "  garen_img_vector = np.asanyarray(garen_img, dtype=np.int)\n"
          ]
        }
      ]
    },
    {
      "cell_type": "code",
      "source": [
        "garen_img_vector=garen_img_vector.reshape(120 * 120)"
      ],
      "metadata": {
        "id": "gMYohsEUYhCH"
      },
      "execution_count": 129,
      "outputs": []
    },
    {
      "cell_type": "code",
      "source": [
        "garen_img_vector"
      ],
      "metadata": {
        "colab": {
          "base_uri": "https://localhost:8080/"
        },
        "id": "ZxG-xSgLYpS1",
        "outputId": "640469e6-eb37-4542-de7a-e62b018fad18"
      },
      "execution_count": 128,
      "outputs": [
        {
          "output_type": "execute_result",
          "data": {
            "text/plain": [
              "array([[1, 1, 1, ..., 1, 1, 1],\n",
              "       [1, 1, 1, ..., 1, 1, 1],\n",
              "       [1, 1, 1, ..., 1, 1, 1],\n",
              "       ...,\n",
              "       [1, 1, 1, ..., 8, 1, 1],\n",
              "       [1, 1, 1, ..., 1, 1, 1],\n",
              "       [1, 1, 1, ..., 1, 1, 1]])"
            ]
          },
          "metadata": {},
          "execution_count": 128
        }
      ]
    },
    {
      "cell_type": "code",
      "source": [
        "Aatrox_img_url = 'https://ddragon.leagueoflegends.com/cdn/14.1.1/img/champion/Aatrox.png'\n",
        "Aatrox_img_res = requests.get(Aatrox_img_url)\n",
        "Aatrox_img = Image.open(BytesIO(Aatrox_img_res.content)).convert('L')\n",
        "Aatrox_img_vector = np.asarray(Aatrox_img, dtype=np.int)\n",
        "Aatrox_img_vector = Aatrox_img_vector.reshape(120 * 120)"
      ],
      "metadata": {
        "colab": {
          "base_uri": "https://localhost:8080/"
        },
        "id": "zpQowBTlYpb-",
        "outputId": "134cfadf-5f39-44a4-d03f-0347fbcf9b59"
      },
      "execution_count": 130,
      "outputs": [
        {
          "output_type": "stream",
          "name": "stderr",
          "text": [
            "<ipython-input-130-b6971f2794b5>:4: DeprecationWarning: `np.int` is a deprecated alias for the builtin `int`. To silence this warning, use `int` by itself. Doing this will not modify any behavior and is safe. When replacing `np.int`, you may wish to use e.g. `np.int64` or `np.int32` to specify the precision. If you wish to review your current use, check the release note link for additional information.\n",
            "Deprecated in NumPy 1.20; for more details and guidance: https://numpy.org/devdocs/release/1.20.0-notes.html#deprecations\n",
            "  Aatrox_img_vector = np.asarray(Aatrox_img, dtype=np.int)\n"
          ]
        }
      ]
    },
    {
      "cell_type": "code",
      "source": [
        "jayce_img_vector\n",
        "garen_img_vector\n",
        "Aatrox_img_vector"
      ],
      "metadata": {
        "colab": {
          "base_uri": "https://localhost:8080/"
        },
        "id": "_DQOfFAdZNYE",
        "outputId": "dfd4ec64-39cd-46b5-9bd2-44637a30eb2b"
      },
      "execution_count": 131,
      "outputs": [
        {
          "output_type": "execute_result",
          "data": {
            "text/plain": [
              "array([1, 1, 1, ..., 1, 1, 1])"
            ]
          },
          "metadata": {},
          "execution_count": 131
        }
      ]
    },
    {
      "cell_type": "code",
      "source": [
        "# 내적 -> return 스칼라."
      ],
      "metadata": {
        "id": "2tcrXLj1a2ix"
      },
      "execution_count": null,
      "outputs": []
    },
    {
      "cell_type": "code",
      "source": [
        "jayce_img_vector = jayce_img_vector.reshape(120 * 120)"
      ],
      "metadata": {
        "id": "g4wfKvrYbGXh"
      },
      "execution_count": 132,
      "outputs": []
    },
    {
      "cell_type": "code",
      "source": [
        "(jayce_img_vector.T @ garen_img_vector),(jayce_img_vector.T @ Aatrox_img_vector)"
      ],
      "metadata": {
        "colab": {
          "base_uri": "https://localhost:8080/"
        },
        "id": "xF0-KuhWbGU4",
        "outputId": "6463b740-c726-4538-d7f5-f7a33e277519"
      },
      "execution_count": 133,
      "outputs": [
        {
          "output_type": "execute_result",
          "data": {
            "text/plain": [
              "(96695273, 50993350)"
            ]
          },
          "metadata": {},
          "execution_count": 133
        }
      ]
    },
    {
      "cell_type": "code",
      "source": [
        "jayce_img_vector"
      ],
      "metadata": {
        "colab": {
          "base_uri": "https://localhost:8080/"
        },
        "id": "PElyIju3fQ3E",
        "outputId": "b328e231-89ad-49eb-9f98-35d1f11cb369"
      },
      "execution_count": 117,
      "outputs": [
        {
          "output_type": "execute_result",
          "data": {
            "text/plain": [
              "array([0, 0, 0, ..., 1, 1, 1])"
            ]
          },
          "metadata": {},
          "execution_count": 117
        }
      ]
    },
    {
      "cell_type": "code",
      "source": [
        "def cos_sim(a,b):\n",
        "  res = np.dot(a,b) /(np.linalg.norm(a)*np.linalg.norm(b))\n",
        "  return res\n",
        "  #np.dot 분모= 크기(노름) 분자 =내적값"
      ],
      "metadata": {
        "id": "O3TrBB4ucyJP"
      },
      "execution_count": 138,
      "outputs": []
    },
    {
      "cell_type": "code",
      "source": [
        "cos_sim(jayce_img_vector, garen_img_vector)\n",
        "#jayce와garen의 유사도"
      ],
      "metadata": {
        "colab": {
          "base_uri": "https://localhost:8080/"
        },
        "id": "Z_EbPDQUdBSb",
        "outputId": "dfa7b152-ce8e-47f4-fba4-cfadae3d08a4"
      },
      "execution_count": 139,
      "outputs": [
        {
          "output_type": "execute_result",
          "data": {
            "text/plain": [
              "0.7397046638337746"
            ]
          },
          "metadata": {},
          "execution_count": 139
        }
      ]
    },
    {
      "cell_type": "code",
      "source": [
        "cos_sim(jayce_img_vector, Aatrox_img_vector)\n",
        "#jayce와Aatrox의 유사도"
      ],
      "metadata": {
        "colab": {
          "base_uri": "https://localhost:8080/"
        },
        "id": "mku4f-WtdBcW",
        "outputId": "6e739d2f-2da0-4bfd-a6f5-fe67419c8188"
      },
      "execution_count": 140,
      "outputs": [
        {
          "output_type": "execute_result",
          "data": {
            "text/plain": [
              "0.6566703221272668"
            ]
          },
          "metadata": {},
          "execution_count": 140
        }
      ]
    },
    {
      "cell_type": "code",
      "source": [
        "len(champion_json['data'])"
      ],
      "metadata": {
        "colab": {
          "base_uri": "https://localhost:8080/"
        },
        "id": "pAOT6IIkgUB8",
        "outputId": "76e1dd97-5b38-4850-f207-d815a0c6ffd4"
      },
      "execution_count": 142,
      "outputs": [
        {
          "output_type": "execute_result",
          "data": {
            "text/plain": [
              "153"
            ]
          },
          "metadata": {},
          "execution_count": 142
        }
      ]
    },
    {
      "cell_type": "code",
      "source": [
        "champ2img={}\n",
        "champion_img_url = f'https://ddragon.leagueoflegends.com/cdn/{version_current}/img/champion/'\n",
        "for champion_name, data in champion_json['data'].items():\n",
        "    print(champion_name, champion_img_url + data['image']['full'])"
      ],
      "metadata": {
        "colab": {
          "base_uri": "https://localhost:8080/"
        },
        "id": "dCwAFp0ukXWF",
        "outputId": "9b853a74-0960-4f12-ac9c-3230bd570f99"
      },
      "execution_count": 143,
      "outputs": [
        {
          "output_type": "stream",
          "name": "stdout",
          "text": [
            "Aatrox https://ddragon.leagueoflegends.com/cdn/11.1.1/img/champion/Aatrox.png\n",
            "Ahri https://ddragon.leagueoflegends.com/cdn/11.1.1/img/champion/Ahri.png\n",
            "Akali https://ddragon.leagueoflegends.com/cdn/11.1.1/img/champion/Akali.png\n",
            "Alistar https://ddragon.leagueoflegends.com/cdn/11.1.1/img/champion/Alistar.png\n",
            "Amumu https://ddragon.leagueoflegends.com/cdn/11.1.1/img/champion/Amumu.png\n",
            "Anivia https://ddragon.leagueoflegends.com/cdn/11.1.1/img/champion/Anivia.png\n",
            "Annie https://ddragon.leagueoflegends.com/cdn/11.1.1/img/champion/Annie.png\n",
            "Aphelios https://ddragon.leagueoflegends.com/cdn/11.1.1/img/champion/Aphelios.png\n",
            "Ashe https://ddragon.leagueoflegends.com/cdn/11.1.1/img/champion/Ashe.png\n",
            "AurelionSol https://ddragon.leagueoflegends.com/cdn/11.1.1/img/champion/AurelionSol.png\n",
            "Azir https://ddragon.leagueoflegends.com/cdn/11.1.1/img/champion/Azir.png\n",
            "Bard https://ddragon.leagueoflegends.com/cdn/11.1.1/img/champion/Bard.png\n",
            "Blitzcrank https://ddragon.leagueoflegends.com/cdn/11.1.1/img/champion/Blitzcrank.png\n",
            "Brand https://ddragon.leagueoflegends.com/cdn/11.1.1/img/champion/Brand.png\n",
            "Braum https://ddragon.leagueoflegends.com/cdn/11.1.1/img/champion/Braum.png\n",
            "Caitlyn https://ddragon.leagueoflegends.com/cdn/11.1.1/img/champion/Caitlyn.png\n",
            "Camille https://ddragon.leagueoflegends.com/cdn/11.1.1/img/champion/Camille.png\n",
            "Cassiopeia https://ddragon.leagueoflegends.com/cdn/11.1.1/img/champion/Cassiopeia.png\n",
            "Chogath https://ddragon.leagueoflegends.com/cdn/11.1.1/img/champion/Chogath.png\n",
            "Corki https://ddragon.leagueoflegends.com/cdn/11.1.1/img/champion/Corki.png\n",
            "Darius https://ddragon.leagueoflegends.com/cdn/11.1.1/img/champion/Darius.png\n",
            "Diana https://ddragon.leagueoflegends.com/cdn/11.1.1/img/champion/Diana.png\n",
            "Draven https://ddragon.leagueoflegends.com/cdn/11.1.1/img/champion/Draven.png\n",
            "DrMundo https://ddragon.leagueoflegends.com/cdn/11.1.1/img/champion/DrMundo.png\n",
            "Ekko https://ddragon.leagueoflegends.com/cdn/11.1.1/img/champion/Ekko.png\n",
            "Elise https://ddragon.leagueoflegends.com/cdn/11.1.1/img/champion/Elise.png\n",
            "Evelynn https://ddragon.leagueoflegends.com/cdn/11.1.1/img/champion/Evelynn.png\n",
            "Ezreal https://ddragon.leagueoflegends.com/cdn/11.1.1/img/champion/Ezreal.png\n",
            "Fiddlesticks https://ddragon.leagueoflegends.com/cdn/11.1.1/img/champion/Fiddlesticks.png\n",
            "Fiora https://ddragon.leagueoflegends.com/cdn/11.1.1/img/champion/Fiora.png\n",
            "Fizz https://ddragon.leagueoflegends.com/cdn/11.1.1/img/champion/Fizz.png\n",
            "Galio https://ddragon.leagueoflegends.com/cdn/11.1.1/img/champion/Galio.png\n",
            "Gangplank https://ddragon.leagueoflegends.com/cdn/11.1.1/img/champion/Gangplank.png\n",
            "Garen https://ddragon.leagueoflegends.com/cdn/11.1.1/img/champion/Garen.png\n",
            "Gnar https://ddragon.leagueoflegends.com/cdn/11.1.1/img/champion/Gnar.png\n",
            "Gragas https://ddragon.leagueoflegends.com/cdn/11.1.1/img/champion/Gragas.png\n",
            "Graves https://ddragon.leagueoflegends.com/cdn/11.1.1/img/champion/Graves.png\n",
            "Hecarim https://ddragon.leagueoflegends.com/cdn/11.1.1/img/champion/Hecarim.png\n",
            "Heimerdinger https://ddragon.leagueoflegends.com/cdn/11.1.1/img/champion/Heimerdinger.png\n",
            "Illaoi https://ddragon.leagueoflegends.com/cdn/11.1.1/img/champion/Illaoi.png\n",
            "Irelia https://ddragon.leagueoflegends.com/cdn/11.1.1/img/champion/Irelia.png\n",
            "Ivern https://ddragon.leagueoflegends.com/cdn/11.1.1/img/champion/Ivern.png\n",
            "Janna https://ddragon.leagueoflegends.com/cdn/11.1.1/img/champion/Janna.png\n",
            "JarvanIV https://ddragon.leagueoflegends.com/cdn/11.1.1/img/champion/JarvanIV.png\n",
            "Jax https://ddragon.leagueoflegends.com/cdn/11.1.1/img/champion/Jax.png\n",
            "Jayce https://ddragon.leagueoflegends.com/cdn/11.1.1/img/champion/Jayce.png\n",
            "Jhin https://ddragon.leagueoflegends.com/cdn/11.1.1/img/champion/Jhin.png\n",
            "Jinx https://ddragon.leagueoflegends.com/cdn/11.1.1/img/champion/Jinx.png\n",
            "Kaisa https://ddragon.leagueoflegends.com/cdn/11.1.1/img/champion/Kaisa.png\n",
            "Kalista https://ddragon.leagueoflegends.com/cdn/11.1.1/img/champion/Kalista.png\n",
            "Karma https://ddragon.leagueoflegends.com/cdn/11.1.1/img/champion/Karma.png\n",
            "Karthus https://ddragon.leagueoflegends.com/cdn/11.1.1/img/champion/Karthus.png\n",
            "Kassadin https://ddragon.leagueoflegends.com/cdn/11.1.1/img/champion/Kassadin.png\n",
            "Katarina https://ddragon.leagueoflegends.com/cdn/11.1.1/img/champion/Katarina.png\n",
            "Kayle https://ddragon.leagueoflegends.com/cdn/11.1.1/img/champion/Kayle.png\n",
            "Kayn https://ddragon.leagueoflegends.com/cdn/11.1.1/img/champion/Kayn.png\n",
            "Kennen https://ddragon.leagueoflegends.com/cdn/11.1.1/img/champion/Kennen.png\n",
            "Khazix https://ddragon.leagueoflegends.com/cdn/11.1.1/img/champion/Khazix.png\n",
            "Kindred https://ddragon.leagueoflegends.com/cdn/11.1.1/img/champion/Kindred.png\n",
            "Kled https://ddragon.leagueoflegends.com/cdn/11.1.1/img/champion/Kled.png\n",
            "KogMaw https://ddragon.leagueoflegends.com/cdn/11.1.1/img/champion/KogMaw.png\n",
            "Leblanc https://ddragon.leagueoflegends.com/cdn/11.1.1/img/champion/Leblanc.png\n",
            "LeeSin https://ddragon.leagueoflegends.com/cdn/11.1.1/img/champion/LeeSin.png\n",
            "Leona https://ddragon.leagueoflegends.com/cdn/11.1.1/img/champion/Leona.png\n",
            "Lillia https://ddragon.leagueoflegends.com/cdn/11.1.1/img/champion/Lillia.png\n",
            "Lissandra https://ddragon.leagueoflegends.com/cdn/11.1.1/img/champion/Lissandra.png\n",
            "Lucian https://ddragon.leagueoflegends.com/cdn/11.1.1/img/champion/Lucian.png\n",
            "Lulu https://ddragon.leagueoflegends.com/cdn/11.1.1/img/champion/Lulu.png\n",
            "Lux https://ddragon.leagueoflegends.com/cdn/11.1.1/img/champion/Lux.png\n",
            "Malphite https://ddragon.leagueoflegends.com/cdn/11.1.1/img/champion/Malphite.png\n",
            "Malzahar https://ddragon.leagueoflegends.com/cdn/11.1.1/img/champion/Malzahar.png\n",
            "Maokai https://ddragon.leagueoflegends.com/cdn/11.1.1/img/champion/Maokai.png\n",
            "MasterYi https://ddragon.leagueoflegends.com/cdn/11.1.1/img/champion/MasterYi.png\n",
            "MissFortune https://ddragon.leagueoflegends.com/cdn/11.1.1/img/champion/MissFortune.png\n",
            "MonkeyKing https://ddragon.leagueoflegends.com/cdn/11.1.1/img/champion/MonkeyKing.png\n",
            "Mordekaiser https://ddragon.leagueoflegends.com/cdn/11.1.1/img/champion/Mordekaiser.png\n",
            "Morgana https://ddragon.leagueoflegends.com/cdn/11.1.1/img/champion/Morgana.png\n",
            "Nami https://ddragon.leagueoflegends.com/cdn/11.1.1/img/champion/Nami.png\n",
            "Nasus https://ddragon.leagueoflegends.com/cdn/11.1.1/img/champion/Nasus.png\n",
            "Nautilus https://ddragon.leagueoflegends.com/cdn/11.1.1/img/champion/Nautilus.png\n",
            "Neeko https://ddragon.leagueoflegends.com/cdn/11.1.1/img/champion/Neeko.png\n",
            "Nidalee https://ddragon.leagueoflegends.com/cdn/11.1.1/img/champion/Nidalee.png\n",
            "Nocturne https://ddragon.leagueoflegends.com/cdn/11.1.1/img/champion/Nocturne.png\n",
            "Nunu https://ddragon.leagueoflegends.com/cdn/11.1.1/img/champion/Nunu.png\n",
            "Olaf https://ddragon.leagueoflegends.com/cdn/11.1.1/img/champion/Olaf.png\n",
            "Orianna https://ddragon.leagueoflegends.com/cdn/11.1.1/img/champion/Orianna.png\n",
            "Ornn https://ddragon.leagueoflegends.com/cdn/11.1.1/img/champion/Ornn.png\n",
            "Pantheon https://ddragon.leagueoflegends.com/cdn/11.1.1/img/champion/Pantheon.png\n",
            "Poppy https://ddragon.leagueoflegends.com/cdn/11.1.1/img/champion/Poppy.png\n",
            "Pyke https://ddragon.leagueoflegends.com/cdn/11.1.1/img/champion/Pyke.png\n",
            "Qiyana https://ddragon.leagueoflegends.com/cdn/11.1.1/img/champion/Qiyana.png\n",
            "Quinn https://ddragon.leagueoflegends.com/cdn/11.1.1/img/champion/Quinn.png\n",
            "Rakan https://ddragon.leagueoflegends.com/cdn/11.1.1/img/champion/Rakan.png\n",
            "Rammus https://ddragon.leagueoflegends.com/cdn/11.1.1/img/champion/Rammus.png\n",
            "RekSai https://ddragon.leagueoflegends.com/cdn/11.1.1/img/champion/RekSai.png\n",
            "Rell https://ddragon.leagueoflegends.com/cdn/11.1.1/img/champion/Rell.png\n",
            "Renekton https://ddragon.leagueoflegends.com/cdn/11.1.1/img/champion/Renekton.png\n",
            "Rengar https://ddragon.leagueoflegends.com/cdn/11.1.1/img/champion/Rengar.png\n",
            "Riven https://ddragon.leagueoflegends.com/cdn/11.1.1/img/champion/Riven.png\n",
            "Rumble https://ddragon.leagueoflegends.com/cdn/11.1.1/img/champion/Rumble.png\n",
            "Ryze https://ddragon.leagueoflegends.com/cdn/11.1.1/img/champion/Ryze.png\n",
            "Samira https://ddragon.leagueoflegends.com/cdn/11.1.1/img/champion/Samira.png\n",
            "Sejuani https://ddragon.leagueoflegends.com/cdn/11.1.1/img/champion/Sejuani.png\n",
            "Senna https://ddragon.leagueoflegends.com/cdn/11.1.1/img/champion/Senna.png\n",
            "Seraphine https://ddragon.leagueoflegends.com/cdn/11.1.1/img/champion/Seraphine.png\n",
            "Sett https://ddragon.leagueoflegends.com/cdn/11.1.1/img/champion/Sett.png\n",
            "Shaco https://ddragon.leagueoflegends.com/cdn/11.1.1/img/champion/Shaco.png\n",
            "Shen https://ddragon.leagueoflegends.com/cdn/11.1.1/img/champion/Shen.png\n",
            "Shyvana https://ddragon.leagueoflegends.com/cdn/11.1.1/img/champion/Shyvana.png\n",
            "Singed https://ddragon.leagueoflegends.com/cdn/11.1.1/img/champion/Singed.png\n",
            "Sion https://ddragon.leagueoflegends.com/cdn/11.1.1/img/champion/Sion.png\n",
            "Sivir https://ddragon.leagueoflegends.com/cdn/11.1.1/img/champion/Sivir.png\n",
            "Skarner https://ddragon.leagueoflegends.com/cdn/11.1.1/img/champion/Skarner.png\n",
            "Sona https://ddragon.leagueoflegends.com/cdn/11.1.1/img/champion/Sona.png\n",
            "Soraka https://ddragon.leagueoflegends.com/cdn/11.1.1/img/champion/Soraka.png\n",
            "Swain https://ddragon.leagueoflegends.com/cdn/11.1.1/img/champion/Swain.png\n",
            "Sylas https://ddragon.leagueoflegends.com/cdn/11.1.1/img/champion/Sylas.png\n",
            "Syndra https://ddragon.leagueoflegends.com/cdn/11.1.1/img/champion/Syndra.png\n",
            "TahmKench https://ddragon.leagueoflegends.com/cdn/11.1.1/img/champion/TahmKench.png\n",
            "Taliyah https://ddragon.leagueoflegends.com/cdn/11.1.1/img/champion/Taliyah.png\n",
            "Talon https://ddragon.leagueoflegends.com/cdn/11.1.1/img/champion/Talon.png\n",
            "Taric https://ddragon.leagueoflegends.com/cdn/11.1.1/img/champion/Taric.png\n",
            "Teemo https://ddragon.leagueoflegends.com/cdn/11.1.1/img/champion/Teemo.png\n",
            "Thresh https://ddragon.leagueoflegends.com/cdn/11.1.1/img/champion/Thresh.png\n",
            "Tristana https://ddragon.leagueoflegends.com/cdn/11.1.1/img/champion/Tristana.png\n",
            "Trundle https://ddragon.leagueoflegends.com/cdn/11.1.1/img/champion/Trundle.png\n",
            "Tryndamere https://ddragon.leagueoflegends.com/cdn/11.1.1/img/champion/Tryndamere.png\n",
            "TwistedFate https://ddragon.leagueoflegends.com/cdn/11.1.1/img/champion/TwistedFate.png\n",
            "Twitch https://ddragon.leagueoflegends.com/cdn/11.1.1/img/champion/Twitch.png\n",
            "Udyr https://ddragon.leagueoflegends.com/cdn/11.1.1/img/champion/Udyr.png\n",
            "Urgot https://ddragon.leagueoflegends.com/cdn/11.1.1/img/champion/Urgot.png\n",
            "Varus https://ddragon.leagueoflegends.com/cdn/11.1.1/img/champion/Varus.png\n",
            "Vayne https://ddragon.leagueoflegends.com/cdn/11.1.1/img/champion/Vayne.png\n",
            "Veigar https://ddragon.leagueoflegends.com/cdn/11.1.1/img/champion/Veigar.png\n",
            "Velkoz https://ddragon.leagueoflegends.com/cdn/11.1.1/img/champion/Velkoz.png\n",
            "Vi https://ddragon.leagueoflegends.com/cdn/11.1.1/img/champion/Vi.png\n",
            "Viktor https://ddragon.leagueoflegends.com/cdn/11.1.1/img/champion/Viktor.png\n",
            "Vladimir https://ddragon.leagueoflegends.com/cdn/11.1.1/img/champion/Vladimir.png\n",
            "Volibear https://ddragon.leagueoflegends.com/cdn/11.1.1/img/champion/Volibear.png\n",
            "Warwick https://ddragon.leagueoflegends.com/cdn/11.1.1/img/champion/Warwick.png\n",
            "Xayah https://ddragon.leagueoflegends.com/cdn/11.1.1/img/champion/Xayah.png\n",
            "Xerath https://ddragon.leagueoflegends.com/cdn/11.1.1/img/champion/Xerath.png\n",
            "XinZhao https://ddragon.leagueoflegends.com/cdn/11.1.1/img/champion/XinZhao.png\n",
            "Yasuo https://ddragon.leagueoflegends.com/cdn/11.1.1/img/champion/Yasuo.png\n",
            "Yone https://ddragon.leagueoflegends.com/cdn/11.1.1/img/champion/Yone.png\n",
            "Yorick https://ddragon.leagueoflegends.com/cdn/11.1.1/img/champion/Yorick.png\n",
            "Yuumi https://ddragon.leagueoflegends.com/cdn/11.1.1/img/champion/Yuumi.png\n",
            "Zac https://ddragon.leagueoflegends.com/cdn/11.1.1/img/champion/Zac.png\n",
            "Zed https://ddragon.leagueoflegends.com/cdn/11.1.1/img/champion/Zed.png\n",
            "Ziggs https://ddragon.leagueoflegends.com/cdn/11.1.1/img/champion/Ziggs.png\n",
            "Zilean https://ddragon.leagueoflegends.com/cdn/11.1.1/img/champion/Zilean.png\n",
            "Zoe https://ddragon.leagueoflegends.com/cdn/11.1.1/img/champion/Zoe.png\n",
            "Zyra https://ddragon.leagueoflegends.com/cdn/11.1.1/img/champion/Zyra.png\n"
          ]
        }
      ]
    },
    {
      "cell_type": "code",
      "source": [
        "def get_vector(champ, version_current):\n",
        "    img_url = f'https://ddragon.leagueoflegends.com/cdn/{version_current}/img/champion/{champ}'\n",
        "    img_res = requests.get(img_url)\n",
        "\n",
        "    # 이미지를 흑백으로 변환\n",
        "    img = Image.open(BytesIO(img_res.content)).convert('L')\n",
        "\n",
        "    # 이미지를 NumPy 배열로 변환\n",
        "    img_vector = np.asarray(img, dtype=np.int)\n",
        "    img_vector = img_vector.reshape(120 * 120)\n",
        "\n",
        "    return img_vector"
      ],
      "metadata": {
        "id": "7MCkhAtwlHya"
      },
      "execution_count": 146,
      "outputs": []
    },
    {
      "cell_type": "code",
      "source": [
        "cos_score_dict ={}\n",
        "for champ1 in champ2img.keys():\n",
        "  for champ2 in champ2img.keys():\n",
        "    if (champ1 == champ2) or (champ1+'/'+champ2 in cos_score_dict.keys()):\n",
        "      continue\n",
        "      champ1_vec =get_vector(champ2img[champ1])\n",
        "      champ2_vec =get_vector(champ2img[champ2])\n",
        "      cos_socre = cos_sim(champ1_vec,champ2_vec)\n",
        "      cos_score_dict[champ1+'/'+champ2]=cos_score\n"
      ],
      "metadata": {
        "id": "5tSP2MHxgULh"
      },
      "execution_count": 147,
      "outputs": []
    },
    {
      "cell_type": "code",
      "source": [
        "from tqdm import tqdm"
      ],
      "metadata": {
        "id": "_IWxNkptn8T7"
      },
      "execution_count": 153,
      "outputs": []
    },
    {
      "cell_type": "code",
      "source": [
        "cos_score_dict = {}\n",
        "\n",
        "# tqdm(list(champ2img.keys())[:3])에서 [:3]은 처음 3개 챔피언만 사용하도록 선택한 것으로 가정\n",
        "for champ1 in tqdm(list(champ2img.keys())[:3]):\n",
        "    for champ2 in champ2img.keys():\n",
        "        if (champ1 == champ2):\n",
        "            continue\n",
        "        champ1_vec = get_vector(champ2img[champ1])\n",
        "        champ2_vec = get_vector(champ2img[champ2])\n",
        "        cos_score = cos_sim(champ1_vec, champ2_vec)\n",
        "        cos_score_dict[champ1+'/'+champ2] = cos_score\n"
      ],
      "metadata": {
        "colab": {
          "base_uri": "https://localhost:8080/"
        },
        "id": "DMrPzDA2n8WZ",
        "outputId": "517123d9-52ff-4766-efcf-0438f28899f8"
      },
      "execution_count": 154,
      "outputs": [
        {
          "output_type": "stream",
          "name": "stderr",
          "text": [
            "0it [00:00, ?it/s]\n"
          ]
        }
      ]
    },
    {
      "cell_type": "code",
      "source": [
        "sorted_dict = sorted(cos_score_dict.items(), key=lambda x: x[1], reverse=True)"
      ],
      "metadata": {
        "id": "YQ6IP0VvtUdE"
      },
      "execution_count": 157,
      "outputs": []
    },
    {
      "cell_type": "code",
      "source": [
        "sorted_dict"
      ],
      "metadata": {
        "colab": {
          "base_uri": "https://localhost:8080/"
        },
        "id": "ytjfIp2huiAT",
        "outputId": "4409a389-30eb-4a7a-c566-c433987688ba"
      },
      "execution_count": 158,
      "outputs": [
        {
          "output_type": "execute_result",
          "data": {
            "text/plain": [
              "[]"
            ]
          },
          "metadata": {},
          "execution_count": 158
        }
      ]
    }
  ]
}
