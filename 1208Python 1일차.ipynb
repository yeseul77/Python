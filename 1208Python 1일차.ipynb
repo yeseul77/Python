{
 "cells": [
  {
   "cell_type": "code",
   "execution_count": 2,
   "id": "02dfb5fe",
   "metadata": {},
   "outputs": [
    {
     "ename": "SyntaxError",
     "evalue": "invalid syntax (1679929362.py, line 1)",
     "output_type": "error",
     "traceback": [
      "\u001b[1;36m  Cell \u001b[1;32mIn[2], line 1\u001b[1;36m\u001b[0m\n\u001b[1;33m    hellow world\u001b[0m\n\u001b[1;37m           ^\u001b[0m\n\u001b[1;31mSyntaxError\u001b[0m\u001b[1;31m:\u001b[0m invalid syntax\n"
     ]
    }
   ],
   "source": [
    "hellow world"
   ]
  },
  {
   "cell_type": "code",
   "execution_count": 4,
   "id": "1234996c",
   "metadata": {},
   "outputs": [
    {
     "name": "stdout",
     "output_type": "stream",
     "text": [
      "hellow world\n"
     ]
    }
   ],
   "source": [
    "print('hellow world')"
   ]
  },
  {
   "cell_type": "code",
   "execution_count": 6,
   "id": "cd7292bb",
   "metadata": {},
   "outputs": [],
   "source": [
    "a=1"
   ]
  },
  {
   "cell_type": "code",
   "execution_count": 7,
   "id": "68ca01b9",
   "metadata": {},
   "outputs": [],
   "source": [
    "b=1"
   ]
  },
  {
   "cell_type": "code",
   "execution_count": 1,
   "id": "6c7f918a",
   "metadata": {},
   "outputs": [
    {
     "ename": "NameError",
     "evalue": "name 'a' is not defined",
     "output_type": "error",
     "traceback": [
      "\u001b[1;31m---------------------------------------------------------------------------\u001b[0m",
      "\u001b[1;31mNameError\u001b[0m                                 Traceback (most recent call last)",
      "Cell \u001b[1;32mIn[1], line 1\u001b[0m\n\u001b[1;32m----> 1\u001b[0m a\u001b[38;5;241m+\u001b[39mb\n",
      "\u001b[1;31mNameError\u001b[0m: name 'a' is not defined"
     ]
    }
   ],
   "source": [
    "a+b"
   ]
  },
  {
   "cell_type": "code",
   "execution_count": null,
   "id": "c99282cf",
   "metadata": {},
   "outputs": [],
   "source": [
    "a=1.2"
   ]
  },
  {
   "cell_type": "code",
   "execution_count": 12,
   "id": "af3bbd1b",
   "metadata": {},
   "outputs": [],
   "source": [
    "b=2.4"
   ]
  },
  {
   "cell_type": "code",
   "execution_count": 14,
   "id": "49c85eac",
   "metadata": {},
   "outputs": [
    {
     "data": {
      "text/plain": [
       "3.5999999999999996"
      ]
     },
     "execution_count": 14,
     "metadata": {},
     "output_type": "execute_result"
    }
   ],
   "source": [
    "a+b"
   ]
  },
  {
   "cell_type": "code",
   "execution_count": 15,
   "id": "3d79f7a0",
   "metadata": {},
   "outputs": [],
   "source": [
    "a=10"
   ]
  },
  {
   "cell_type": "code",
   "execution_count": 16,
   "id": "6cfff7cd",
   "metadata": {},
   "outputs": [],
   "source": [
    "b=20"
   ]
  },
  {
   "cell_type": "code",
   "execution_count": 17,
   "id": "a699b94c",
   "metadata": {},
   "outputs": [
    {
     "data": {
      "text/plain": [
       "30"
      ]
     },
     "execution_count": 17,
     "metadata": {},
     "output_type": "execute_result"
    }
   ],
   "source": [
    "a+b"
   ]
  },
  {
   "cell_type": "code",
   "execution_count": 19,
   "id": "1bf9a57e",
   "metadata": {},
   "outputs": [
    {
     "data": {
      "text/plain": [
       "200"
      ]
     },
     "execution_count": 19,
     "metadata": {},
     "output_type": "execute_result"
    }
   ],
   "source": [
    "a*b"
   ]
  },
  {
   "cell_type": "code",
   "execution_count": 20,
   "id": "f2d2c05d",
   "metadata": {},
   "outputs": [
    {
     "data": {
      "text/plain": [
       "0.5"
      ]
     },
     "execution_count": 20,
     "metadata": {},
     "output_type": "execute_result"
    }
   ],
   "source": [
    "a/b"
   ]
  },
  {
   "cell_type": "code",
   "execution_count": 21,
   "id": "9af05908",
   "metadata": {},
   "outputs": [
    {
     "data": {
      "text/plain": [
       "-10"
      ]
     },
     "execution_count": 21,
     "metadata": {},
     "output_type": "execute_result"
    }
   ],
   "source": [
    "a-b"
   ]
  },
  {
   "cell_type": "code",
   "execution_count": 22,
   "id": "e424716e",
   "metadata": {},
   "outputs": [
    {
     "data": {
      "text/plain": [
       "10"
      ]
     },
     "execution_count": 22,
     "metadata": {},
     "output_type": "execute_result"
    }
   ],
   "source": [
    "a%b"
   ]
  },
  {
   "cell_type": "code",
   "execution_count": 23,
   "id": "1bd04b4e",
   "metadata": {},
   "outputs": [
    {
     "data": {
      "text/plain": [
       "'Hellow world'"
      ]
     },
     "execution_count": 23,
     "metadata": {},
     "output_type": "execute_result"
    }
   ],
   "source": [
    "\"Hellow world\""
   ]
  },
  {
   "cell_type": "code",
   "execution_count": 25,
   "id": "791fae9c",
   "metadata": {},
   "outputs": [
    {
     "data": {
      "text/plain": [
       "'hellow world'"
      ]
     },
     "execution_count": 25,
     "metadata": {},
     "output_type": "execute_result"
    }
   ],
   "source": [
    "'hellow world'"
   ]
  },
  {
   "cell_type": "code",
   "execution_count": 27,
   "id": "46b21cb2",
   "metadata": {},
   "outputs": [
    {
     "data": {
      "text/plain": [
       "'\\nLife is too short\\nyou need Python\\n'"
      ]
     },
     "execution_count": 27,
     "metadata": {},
     "output_type": "execute_result"
    }
   ],
   "source": [
    "\"\"\"\n",
    "Life is too short\n",
    "you need Python\n",
    "\"\"\""
   ]
  },
  {
   "cell_type": "code",
   "execution_count": 28,
   "id": "76e7566a",
   "metadata": {},
   "outputs": [
    {
     "data": {
      "text/plain": [
       "\"what's up\""
      ]
     },
     "execution_count": 28,
     "metadata": {},
     "output_type": "execute_result"
    }
   ],
   "source": [
    "\"what's up\""
   ]
  },
  {
   "cell_type": "code",
   "execution_count": 30,
   "id": "4452baf0",
   "metadata": {},
   "outputs": [],
   "source": [
    "c='''\n",
    "Life is too short\n",
    "'''"
   ]
  },
  {
   "cell_type": "code",
   "execution_count": 32,
   "id": "0d8da434",
   "metadata": {},
   "outputs": [
    {
     "data": {
      "text/plain": [
       "'\\nLife is too short\\n'"
      ]
     },
     "execution_count": 32,
     "metadata": {},
     "output_type": "execute_result"
    }
   ],
   "source": [
    "c"
   ]
  },
  {
   "cell_type": "code",
   "execution_count": 33,
   "id": "6ba34809",
   "metadata": {},
   "outputs": [],
   "source": [
    "a='Hello'\n",
    "b='world'"
   ]
  },
  {
   "cell_type": "code",
   "execution_count": 34,
   "id": "d052e493",
   "metadata": {},
   "outputs": [
    {
     "data": {
      "text/plain": [
       "'Helloworld'"
      ]
     },
     "execution_count": 34,
     "metadata": {},
     "output_type": "execute_result"
    }
   ],
   "source": [
    "a+b"
   ]
  },
  {
   "cell_type": "code",
   "execution_count": 36,
   "id": "5601e5d5",
   "metadata": {},
   "outputs": [
    {
     "data": {
      "text/plain": [
       "'HelloHelloHelloHelloHelloHelloHelloHelloHelloHello'"
      ]
     },
     "execution_count": 36,
     "metadata": {},
     "output_type": "execute_result"
    }
   ],
   "source": [
    "a*10"
   ]
  },
  {
   "cell_type": "code",
   "execution_count": 41,
   "id": "a7e69fac",
   "metadata": {},
   "outputs": [
    {
     "name": "stdout",
     "output_type": "stream",
     "text": [
      "==============================\n",
      "hellow world\n",
      "==============================\n"
     ]
    }
   ],
   "source": [
    "print('='*30)\n",
    "print('hellow world')\n",
    "print('='*30)"
   ]
  },
  {
   "cell_type": "code",
   "execution_count": 40,
   "id": "f0b149bf",
   "metadata": {},
   "outputs": [
    {
     "data": {
      "text/plain": [
       "5"
      ]
     },
     "execution_count": 40,
     "metadata": {},
     "output_type": "execute_result"
    }
   ],
   "source": [
    "len(b)"
   ]
  },
  {
   "cell_type": "code",
   "execution_count": 42,
   "id": "5eddd15f",
   "metadata": {},
   "outputs": [
    {
     "data": {
      "text/plain": [
       "int"
      ]
     },
     "execution_count": 42,
     "metadata": {},
     "output_type": "execute_result"
    }
   ],
   "source": [
    "type(len(b))"
   ]
  },
  {
   "cell_type": "code",
   "execution_count": 51,
   "id": "8aaa8c0e",
   "metadata": {},
   "outputs": [],
   "source": [
    "c='Life is too short,you need Python'"
   ]
  },
  {
   "cell_type": "code",
   "execution_count": 52,
   "id": "65e340ca",
   "metadata": {},
   "outputs": [
    {
     "data": {
      "text/plain": [
       "'L'"
      ]
     },
     "execution_count": 52,
     "metadata": {},
     "output_type": "execute_result"
    }
   ],
   "source": [
    "c[0]"
   ]
  },
  {
   "cell_type": "code",
   "execution_count": 53,
   "id": "c91a933d",
   "metadata": {},
   "outputs": [
    {
     "data": {
      "text/plain": [
       "'n'"
      ]
     },
     "execution_count": 53,
     "metadata": {},
     "output_type": "execute_result"
    }
   ],
   "source": [
    "c[-1]"
   ]
  },
  {
   "cell_type": "code",
   "execution_count": 55,
   "id": "7681f312",
   "metadata": {},
   "outputs": [
    {
     "data": {
      "text/plain": [
       "'Life'"
      ]
     },
     "execution_count": 55,
     "metadata": {},
     "output_type": "execute_result"
    }
   ],
   "source": [
    "c[0:4]"
   ]
  },
  {
   "cell_type": "code",
   "execution_count": 58,
   "id": "01435ff7",
   "metadata": {},
   "outputs": [
    {
     "data": {
      "text/plain": [
       "' Pytho'"
      ]
     },
     "execution_count": 58,
     "metadata": {},
     "output_type": "execute_result"
    }
   ],
   "source": [
    "c[-7:-1]"
   ]
  },
  {
   "cell_type": "code",
   "execution_count": 59,
   "id": "5c1362e0",
   "metadata": {},
   "outputs": [
    {
     "data": {
      "text/plain": [
       "'I eat two apple'"
      ]
     },
     "execution_count": 59,
     "metadata": {},
     "output_type": "execute_result"
    }
   ],
   "source": [
    "\"I eat two apple\""
   ]
  },
  {
   "cell_type": "code",
   "execution_count": 63,
   "id": "9032d591",
   "metadata": {},
   "outputs": [
    {
     "data": {
      "text/plain": [
       "'I eat five apple'"
      ]
     },
     "execution_count": 63,
     "metadata": {},
     "output_type": "execute_result"
    }
   ],
   "source": [
    "\"I eat %s apple\"  %\"five\""
   ]
  },
  {
   "cell_type": "code",
   "execution_count": 68,
   "id": "b322751a",
   "metadata": {},
   "outputs": [
    {
     "data": {
      "text/plain": [
       "'I eat 5 apple'"
      ]
     },
     "execution_count": 68,
     "metadata": {},
     "output_type": "execute_result"
    }
   ],
   "source": [
    "\"I eat %d apple\"  %5"
   ]
  },
  {
   "cell_type": "code",
   "execution_count": 77,
   "id": "1cd93b4f",
   "metadata": {},
   "outputs": [],
   "source": [
    "a='abcde'"
   ]
  },
  {
   "cell_type": "code",
   "execution_count": 79,
   "id": "6e513a64",
   "metadata": {},
   "outputs": [
    {
     "data": {
      "text/plain": [
       "1"
      ]
     },
     "execution_count": 79,
     "metadata": {},
     "output_type": "execute_result"
    }
   ],
   "source": [
    "'abcde'.count('b')"
   ]
  },
  {
   "cell_type": "code",
   "execution_count": 82,
   "id": "133fb909",
   "metadata": {},
   "outputs": [
    {
     "data": {
      "text/plain": [
       "'ABCDE'"
      ]
     },
     "execution_count": 82,
     "metadata": {},
     "output_type": "execute_result"
    }
   ],
   "source": [
    "'abcde'.upper()"
   ]
  },
  {
   "cell_type": "code",
   "execution_count": 81,
   "id": "32ac6f59",
   "metadata": {},
   "outputs": [
    {
     "data": {
      "text/plain": [
       "'abcde'"
      ]
     },
     "execution_count": 81,
     "metadata": {},
     "output_type": "execute_result"
    }
   ],
   "source": [
    "'abcde'.lower()"
   ]
  },
  {
   "cell_type": "code",
   "execution_count": 85,
   "id": "2f868df9",
   "metadata": {},
   "outputs": [],
   "source": [
    "a='Python is best choice'"
   ]
  },
  {
   "cell_type": "code",
   "execution_count": 86,
   "id": "abb84703",
   "metadata": {},
   "outputs": [
    {
     "data": {
      "text/plain": [
       "10"
      ]
     },
     "execution_count": 86,
     "metadata": {},
     "output_type": "execute_result"
    }
   ],
   "source": [
    "a.find('b')"
   ]
  },
  {
   "cell_type": "code",
   "execution_count": 87,
   "id": "1bf88031",
   "metadata": {},
   "outputs": [
    {
     "data": {
      "text/plain": [
       "15"
      ]
     },
     "execution_count": 87,
     "metadata": {},
     "output_type": "execute_result"
    }
   ],
   "source": [
    "a.find('c')"
   ]
  },
  {
   "cell_type": "code",
   "execution_count": 89,
   "id": "9f159112",
   "metadata": {},
   "outputs": [
    {
     "data": {
      "text/plain": [
       "15"
      ]
     },
     "execution_count": 89,
     "metadata": {},
     "output_type": "execute_result"
    }
   ],
   "source": [
    "a.index('c')"
   ]
  },
  {
   "cell_type": "code",
   "execution_count": 90,
   "id": "81a27bba",
   "metadata": {},
   "outputs": [
    {
     "data": {
      "text/plain": [
       "'a,b,c,d'"
      ]
     },
     "execution_count": 90,
     "metadata": {},
     "output_type": "execute_result"
    }
   ],
   "source": [
    "\",\".join('abcd')"
   ]
  },
  {
   "cell_type": "code",
   "execution_count": 91,
   "id": "43e8bfd4",
   "metadata": {},
   "outputs": [
    {
     "data": {
      "text/plain": [
       "'a|b|c|d'"
      ]
     },
     "execution_count": 91,
     "metadata": {},
     "output_type": "execute_result"
    }
   ],
   "source": [
    "\"|\".join('abcd')"
   ]
  },
  {
   "cell_type": "code",
   "execution_count": 93,
   "id": "9a7a286f",
   "metadata": {},
   "outputs": [
    {
     "data": {
      "text/plain": [
       "'태민지환용현예슬지완'"
      ]
     },
     "execution_count": 93,
     "metadata": {},
     "output_type": "execute_result"
    }
   ],
   "source": [
    "\"태민 지환 용현 예슬 지완\".replace(' ','')"
   ]
  },
  {
   "cell_type": "code",
   "execution_count": 94,
   "id": "18517286",
   "metadata": {},
   "outputs": [
    {
     "data": {
      "text/plain": [
       "'재범 지환 용현 예슬 지완'"
      ]
     },
     "execution_count": 94,
     "metadata": {},
     "output_type": "execute_result"
    }
   ],
   "source": [
    "\"태민 지환 용현 예슬 지완\".replace('태민','재범')"
   ]
  },
  {
   "cell_type": "code",
   "execution_count": 98,
   "id": "cf60bda2",
   "metadata": {},
   "outputs": [
    {
     "data": {
      "text/plain": [
       "['태민', '지환', '용현', '예슬', '지완']"
      ]
     },
     "execution_count": 98,
     "metadata": {},
     "output_type": "execute_result"
    }
   ],
   "source": [
    "\"태민 지환 용현 예슬 지완\".split(' ')"
   ]
  },
  {
   "cell_type": "code",
   "execution_count": 100,
   "id": "4a2dbb6e",
   "metadata": {},
   "outputs": [],
   "source": [
    "d=['태민', '지환', '용현', '예슬', '지완']"
   ]
  },
  {
   "cell_type": "code",
   "execution_count": 101,
   "id": "9e29ed14",
   "metadata": {},
   "outputs": [
    {
     "data": {
      "text/plain": [
       "['태민', '지환', '용현', '예슬', '지완']"
      ]
     },
     "execution_count": 101,
     "metadata": {},
     "output_type": "execute_result"
    }
   ],
   "source": [
    "d"
   ]
  },
  {
   "cell_type": "code",
   "execution_count": 102,
   "id": "97e33559",
   "metadata": {},
   "outputs": [],
   "source": [
    "e=[]"
   ]
  },
  {
   "cell_type": "code",
   "execution_count": 104,
   "id": "4f08722f",
   "metadata": {},
   "outputs": [
    {
     "data": {
      "text/plain": [
       "[]"
      ]
     },
     "execution_count": 104,
     "metadata": {},
     "output_type": "execute_result"
    }
   ],
   "source": [
    "e"
   ]
  },
  {
   "cell_type": "code",
   "execution_count": 105,
   "id": "3d9767d4",
   "metadata": {},
   "outputs": [
    {
     "data": {
      "text/plain": [
       "[]"
      ]
     },
     "execution_count": 105,
     "metadata": {},
     "output_type": "execute_result"
    }
   ],
   "source": [
    "list()"
   ]
  },
  {
   "cell_type": "code",
   "execution_count": 106,
   "id": "7fc1cad7",
   "metadata": {},
   "outputs": [
    {
     "data": {
      "text/plain": [
       "'태민'"
      ]
     },
     "execution_count": 106,
     "metadata": {},
     "output_type": "execute_result"
    }
   ],
   "source": [
    "d[0]"
   ]
  },
  {
   "cell_type": "code",
   "execution_count": 107,
   "id": "3f18677c",
   "metadata": {},
   "outputs": [
    {
     "data": {
      "text/plain": [
       "['aaa', 1234, [], {}, {'a': 'b'}]"
      ]
     },
     "execution_count": 107,
     "metadata": {},
     "output_type": "execute_result"
    }
   ],
   "source": [
    "['aaa',1234,[],{},{'a':'b'}]"
   ]
  },
  {
   "cell_type": "code",
   "execution_count": 110,
   "id": "1e8d18db",
   "metadata": {},
   "outputs": [],
   "source": [
    "r=['aaa', 1234, [], {}, {'a': 'b'}]"
   ]
  },
  {
   "cell_type": "code",
   "execution_count": 112,
   "id": "ac31c9d8",
   "metadata": {},
   "outputs": [
    {
     "data": {
      "text/plain": [
       "[]"
      ]
     },
     "execution_count": 112,
     "metadata": {},
     "output_type": "execute_result"
    }
   ],
   "source": [
    "r[2]"
   ]
  },
  {
   "cell_type": "code",
   "execution_count": 114,
   "id": "b1214805",
   "metadata": {},
   "outputs": [],
   "source": [
    "c=[1,2,3]"
   ]
  },
  {
   "cell_type": "code",
   "execution_count": 116,
   "id": "4a1b03a5",
   "metadata": {},
   "outputs": [
    {
     "name": "stdout",
     "output_type": "stream",
     "text": [
      "1\n",
      "2\n",
      "3\n"
     ]
    }
   ],
   "source": [
    "for i in c:\n",
    "    print(i)"
   ]
  },
  {
   "cell_type": "code",
   "execution_count": 117,
   "id": "83fc4797",
   "metadata": {},
   "outputs": [
    {
     "data": {
      "text/plain": [
       "3"
      ]
     },
     "execution_count": 117,
     "metadata": {},
     "output_type": "execute_result"
    }
   ],
   "source": [
    "len(c)"
   ]
  },
  {
   "cell_type": "code",
   "execution_count": 118,
   "id": "97303aeb",
   "metadata": {},
   "outputs": [],
   "source": [
    "c[0]=4"
   ]
  },
  {
   "cell_type": "code",
   "execution_count": 119,
   "id": "23a8db91",
   "metadata": {},
   "outputs": [
    {
     "data": {
      "text/plain": [
       "[4, 2, 3]"
      ]
     },
     "execution_count": 119,
     "metadata": {},
     "output_type": "execute_result"
    }
   ],
   "source": [
    "c"
   ]
  },
  {
   "cell_type": "code",
   "execution_count": 120,
   "id": "6467a94a",
   "metadata": {},
   "outputs": [],
   "source": [
    "c[1]=5"
   ]
  },
  {
   "cell_type": "code",
   "execution_count": 121,
   "id": "2676e60a",
   "metadata": {},
   "outputs": [
    {
     "data": {
      "text/plain": [
       "[4, 5, 3]"
      ]
     },
     "execution_count": 121,
     "metadata": {},
     "output_type": "execute_result"
    }
   ],
   "source": [
    "c"
   ]
  },
  {
   "cell_type": "code",
   "execution_count": 122,
   "id": "ddf3965d",
   "metadata": {},
   "outputs": [],
   "source": [
    "del c[1]"
   ]
  },
  {
   "cell_type": "code",
   "execution_count": 124,
   "id": "ec231624",
   "metadata": {},
   "outputs": [
    {
     "data": {
      "text/plain": [
       "[4, 3]"
      ]
     },
     "execution_count": 124,
     "metadata": {},
     "output_type": "execute_result"
    }
   ],
   "source": [
    "c"
   ]
  },
  {
   "cell_type": "code",
   "execution_count": 125,
   "id": "0c4e5b2a",
   "metadata": {},
   "outputs": [],
   "source": [
    "del c[2:]\n",
    "del c[:1]"
   ]
  },
  {
   "cell_type": "code",
   "execution_count": 127,
   "id": "9542974c",
   "metadata": {},
   "outputs": [
    {
     "data": {
      "text/plain": [
       "[3]"
      ]
     },
     "execution_count": 127,
     "metadata": {},
     "output_type": "execute_result"
    }
   ],
   "source": [
    "c"
   ]
  },
  {
   "cell_type": "code",
   "execution_count": 128,
   "id": "badfab1a",
   "metadata": {},
   "outputs": [],
   "source": [
    "c.append([1,2,3])"
   ]
  },
  {
   "cell_type": "code",
   "execution_count": 129,
   "id": "04f60ce0",
   "metadata": {},
   "outputs": [
    {
     "data": {
      "text/plain": [
       "[3, [1, 2, 3]]"
      ]
     },
     "execution_count": 129,
     "metadata": {},
     "output_type": "execute_result"
    }
   ],
   "source": [
    "c"
   ]
  },
  {
   "cell_type": "code",
   "execution_count": 136,
   "id": "8b80ecf3",
   "metadata": {},
   "outputs": [],
   "source": []
  },
  {
   "cell_type": "code",
   "execution_count": 137,
   "id": "7ce7cdca",
   "metadata": {},
   "outputs": [],
   "source": [
    "c.sort()"
   ]
  },
  {
   "cell_type": "code",
   "execution_count": 138,
   "id": "7beb0894",
   "metadata": {},
   "outputs": [
    {
     "data": {
      "text/plain": [
       "[1, 2, 3, 4]"
      ]
     },
     "execution_count": 138,
     "metadata": {},
     "output_type": "execute_result"
    }
   ],
   "source": [
    "c"
   ]
  },
  {
   "cell_type": "code",
   "execution_count": 140,
   "id": "2f3f6482",
   "metadata": {},
   "outputs": [],
   "source": [
    "c=[2,1,3,4]"
   ]
  },
  {
   "cell_type": "code",
   "execution_count": 143,
   "id": "582a8070",
   "metadata": {},
   "outputs": [],
   "source": [
    "c.reverse()"
   ]
  },
  {
   "cell_type": "code",
   "execution_count": 144,
   "id": "c38a9aa1",
   "metadata": {},
   "outputs": [
    {
     "data": {
      "text/plain": [
       "[4, 3, 2, 1]"
      ]
     },
     "execution_count": 144,
     "metadata": {},
     "output_type": "execute_result"
    }
   ],
   "source": [
    "c"
   ]
  },
  {
   "cell_type": "code",
   "execution_count": 149,
   "id": "0b31e40a",
   "metadata": {},
   "outputs": [
    {
     "data": {
      "text/plain": [
       "3"
      ]
     },
     "execution_count": 149,
     "metadata": {},
     "output_type": "execute_result"
    }
   ],
   "source": [
    "c.pop(1)"
   ]
  },
  {
   "cell_type": "code",
   "execution_count": 150,
   "id": "5372c9b5",
   "metadata": {},
   "outputs": [
    {
     "data": {
      "text/plain": [
       "[4, 2]"
      ]
     },
     "execution_count": 150,
     "metadata": {},
     "output_type": "execute_result"
    }
   ],
   "source": [
    "c"
   ]
  },
  {
   "cell_type": "code",
   "execution_count": 152,
   "id": "f113f976",
   "metadata": {},
   "outputs": [],
   "source": [
    "c=[1,2,3,4,4,1,1,1,1,1,1,1,1,52,5,1,1,2,2,2,2,3,1]"
   ]
  },
  {
   "cell_type": "code",
   "execution_count": 154,
   "id": "4e9a0375",
   "metadata": {},
   "outputs": [
    {
     "data": {
      "text/plain": [
       "12"
      ]
     },
     "execution_count": 154,
     "metadata": {},
     "output_type": "execute_result"
    }
   ],
   "source": [
    "c.count(1)"
   ]
  },
  {
   "cell_type": "code",
   "execution_count": 165,
   "id": "50ebb23a",
   "metadata": {},
   "outputs": [],
   "source": [
    "a=[1,2,3]\n",
    "b=[4,5,6]"
   ]
  },
  {
   "cell_type": "code",
   "execution_count": 166,
   "id": "a3e7cb4f",
   "metadata": {},
   "outputs": [],
   "source": [
    "a.extend(b)"
   ]
  },
  {
   "cell_type": "code",
   "execution_count": 167,
   "id": "c2a6f157",
   "metadata": {},
   "outputs": [
    {
     "data": {
      "text/plain": [
       "[1, 2, 3, 4, 5, 6]"
      ]
     },
     "execution_count": 167,
     "metadata": {},
     "output_type": "execute_result"
    }
   ],
   "source": [
    "a"
   ]
  },
  {
   "cell_type": "code",
   "execution_count": 169,
   "id": "8c0557ad",
   "metadata": {},
   "outputs": [
    {
     "data": {
      "text/plain": [
       "[4, 5, 6]"
      ]
     },
     "execution_count": 169,
     "metadata": {},
     "output_type": "execute_result"
    }
   ],
   "source": [
    "b"
   ]
  },
  {
   "cell_type": "markdown",
   "id": "93e08523",
   "metadata": {},
   "source": [
    "튜플(값을 변경하지 못함)"
   ]
  },
  {
   "cell_type": "code",
   "execution_count": 171,
   "id": "24b79e17",
   "metadata": {},
   "outputs": [],
   "source": [
    "t1=(1,2,3,4,5,6)"
   ]
  },
  {
   "cell_type": "code",
   "execution_count": 173,
   "id": "6206153f",
   "metadata": {},
   "outputs": [
    {
     "ename": "SyntaxError",
     "evalue": "invalid syntax (1904695696.py, line 1)",
     "output_type": "error",
     "traceback": [
      "\u001b[1;36m  Cell \u001b[1;32mIn[173], line 1\u001b[1;36m\u001b[0m\n\u001b[1;33m    del t1[1]=15\u001b[0m\n\u001b[1;37m             ^\u001b[0m\n\u001b[1;31mSyntaxError\u001b[0m\u001b[1;31m:\u001b[0m invalid syntax\n"
     ]
    }
   ],
   "source": [
    "del t1[1]=15"
   ]
  },
  {
   "cell_type": "code",
   "execution_count": 174,
   "id": "7e01db1a",
   "metadata": {},
   "outputs": [
    {
     "data": {
      "text/plain": [
       "(2, 3, 4, 5, 6)"
      ]
     },
     "execution_count": 174,
     "metadata": {},
     "output_type": "execute_result"
    }
   ],
   "source": [
    "t1[1:]"
   ]
  },
  {
   "cell_type": "code",
   "execution_count": 176,
   "id": "151ffa26",
   "metadata": {},
   "outputs": [
    {
     "data": {
      "text/plain": [
       "6"
      ]
     },
     "execution_count": 176,
     "metadata": {},
     "output_type": "execute_result"
    }
   ],
   "source": [
    "len(t1)"
   ]
  },
  {
   "cell_type": "code",
   "execution_count": 177,
   "id": "ac8309bd",
   "metadata": {},
   "outputs": [
    {
     "data": {
      "text/plain": [
       "tuple"
      ]
     },
     "execution_count": 177,
     "metadata": {},
     "output_type": "execute_result"
    }
   ],
   "source": [
    "type(t1)"
   ]
  },
  {
   "cell_type": "markdown",
   "id": "8ca41006",
   "metadata": {},
   "source": [
    "# 딕셔너리"
   ]
  },
  {
   "cell_type": "code",
   "execution_count": 179,
   "id": "bfa586fb",
   "metadata": {},
   "outputs": [
    {
     "data": {
      "text/plain": [
       "{'이름': '김기찬', '회사': '게임회사'}"
      ]
     },
     "execution_count": 179,
     "metadata": {},
     "output_type": "execute_result"
    }
   ],
   "source": [
    "{'이름':'김기찬','회사':'게임회사'}"
   ]
  },
  {
   "cell_type": "code",
   "execution_count": 180,
   "id": "e664b582",
   "metadata": {},
   "outputs": [],
   "source": [
    "a={'이름들':['태린','혜린','용용']}"
   ]
  },
  {
   "cell_type": "code",
   "execution_count": 181,
   "id": "6b3ea834",
   "metadata": {},
   "outputs": [
    {
     "data": {
      "text/plain": [
       "['태린', '혜린', '용용']"
      ]
     },
     "execution_count": 181,
     "metadata": {},
     "output_type": "execute_result"
    }
   ],
   "source": [
    "a['이름들']"
   ]
  },
  {
   "cell_type": "code",
   "execution_count": 183,
   "id": "74789dd1",
   "metadata": {},
   "outputs": [],
   "source": [
    "a={'이름':'김기찬','회사':'게임회사'}"
   ]
  },
  {
   "cell_type": "code",
   "execution_count": 184,
   "id": "18b2e32c",
   "metadata": {},
   "outputs": [
    {
     "data": {
      "text/plain": [
       "'김기찬'"
      ]
     },
     "execution_count": 184,
     "metadata": {},
     "output_type": "execute_result"
    }
   ],
   "source": [
    "a['이름']"
   ]
  },
  {
   "cell_type": "code",
   "execution_count": 185,
   "id": "fbb2de08",
   "metadata": {},
   "outputs": [
    {
     "data": {
      "text/plain": [
       "'게임회사'"
      ]
     },
     "execution_count": 185,
     "metadata": {},
     "output_type": "execute_result"
    }
   ],
   "source": [
    "a['회사']"
   ]
  },
  {
   "cell_type": "code",
   "execution_count": 187,
   "id": "52a829f2",
   "metadata": {},
   "outputs": [
    {
     "data": {
      "text/plain": [
       "'김기찬'"
      ]
     },
     "execution_count": 187,
     "metadata": {},
     "output_type": "execute_result"
    }
   ],
   "source": [
    "a.get('이름')"
   ]
  },
  {
   "cell_type": "code",
   "execution_count": 188,
   "id": "893be57e",
   "metadata": {},
   "outputs": [
    {
     "data": {
      "text/plain": [
       "'게임회사'"
      ]
     },
     "execution_count": 188,
     "metadata": {},
     "output_type": "execute_result"
    }
   ],
   "source": [
    "a.get('회사')"
   ]
  },
  {
   "cell_type": "code",
   "execution_count": 189,
   "id": "24b92600",
   "metadata": {},
   "outputs": [],
   "source": [
    "a['좋아하는 챔피언']='흐웨이'"
   ]
  },
  {
   "cell_type": "code",
   "execution_count": 190,
   "id": "767dd7d3",
   "metadata": {},
   "outputs": [
    {
     "data": {
      "text/plain": [
       "{'이름': '김기찬', '회사': '게임회사', '좋아하는 챔피언': '흐웨이'}"
      ]
     },
     "execution_count": 190,
     "metadata": {},
     "output_type": "execute_result"
    }
   ],
   "source": [
    "a"
   ]
  },
  {
   "cell_type": "code",
   "execution_count": 192,
   "id": "b172bdc9",
   "metadata": {},
   "outputs": [],
   "source": [
    "a['라인전주챔']={'탑':'잭스','미드':'아리','원딜':'재리'}"
   ]
  },
  {
   "cell_type": "code",
   "execution_count": 193,
   "id": "a6bf66fe",
   "metadata": {},
   "outputs": [
    {
     "data": {
      "text/plain": [
       "{'이름': '김기찬',\n",
       " '회사': '게임회사',\n",
       " '좋아하는 챔피언': '흐웨이',\n",
       " '라인전주챔': {'탑': '잭스', '미드': '아리', '원딜': '재리'}}"
      ]
     },
     "execution_count": 193,
     "metadata": {},
     "output_type": "execute_result"
    }
   ],
   "source": [
    "a"
   ]
  },
  {
   "cell_type": "code",
   "execution_count": 194,
   "id": "46f13847",
   "metadata": {},
   "outputs": [
    {
     "data": {
      "text/plain": [
       "{'탑': '잭스', '미드': '아리', '원딜': '재리'}"
      ]
     },
     "execution_count": 194,
     "metadata": {},
     "output_type": "execute_result"
    }
   ],
   "source": [
    "a['라인전주챔']"
   ]
  },
  {
   "cell_type": "code",
   "execution_count": 198,
   "id": "2dee12f3",
   "metadata": {},
   "outputs": [
    {
     "data": {
      "text/plain": [
       "'잭스'"
      ]
     },
     "execution_count": 198,
     "metadata": {},
     "output_type": "execute_result"
    }
   ],
   "source": [
    "a['라인전주챔']['탑']"
   ]
  },
  {
   "cell_type": "code",
   "execution_count": 199,
   "id": "635b097f",
   "metadata": {},
   "outputs": [
    {
     "data": {
      "text/plain": [
       "dict_keys(['이름', '회사', '좋아하는 챔피언', '라인전주챔'])"
      ]
     },
     "execution_count": 199,
     "metadata": {},
     "output_type": "execute_result"
    }
   ],
   "source": [
    "a.keys()"
   ]
  },
  {
   "cell_type": "code",
   "execution_count": 200,
   "id": "819b61b5",
   "metadata": {},
   "outputs": [
    {
     "data": {
      "text/plain": [
       "dict_values(['김기찬', '게임회사', '흐웨이', {'탑': '잭스', '미드': '아리', '원딜': '재리'}])"
      ]
     },
     "execution_count": 200,
     "metadata": {},
     "output_type": "execute_result"
    }
   ],
   "source": [
    "a.values()"
   ]
  },
  {
   "cell_type": "code",
   "execution_count": 203,
   "id": "4136b3e5",
   "metadata": {},
   "outputs": [
    {
     "data": {
      "text/plain": [
       "dict_items([('이름', '김기찬'), ('회사', '게임회사'), ('좋아하는 챔피언', '흐웨이'), ('라인전주챔', {'탑': '잭스', '미드': '아리', '원딜': '재리'})])"
      ]
     },
     "execution_count": 203,
     "metadata": {},
     "output_type": "execute_result"
    }
   ],
   "source": [
    "a.items()"
   ]
  },
  {
   "cell_type": "code",
   "execution_count": 204,
   "id": "5ca6b86d",
   "metadata": {},
   "outputs": [],
   "source": [
    "a.clear()"
   ]
  },
  {
   "cell_type": "code",
   "execution_count": 205,
   "id": "23f32d66",
   "metadata": {},
   "outputs": [
    {
     "data": {
      "text/plain": [
       "{}"
      ]
     },
     "execution_count": 205,
     "metadata": {},
     "output_type": "execute_result"
    }
   ],
   "source": [
    "a"
   ]
  },
  {
   "cell_type": "code",
   "execution_count": 207,
   "id": "b024bb34",
   "metadata": {},
   "outputs": [],
   "source": [
    "price=['20231208',100,130,140,150,160,170]"
   ]
  },
  {
   "cell_type": "code",
   "execution_count": 209,
   "id": "a5cff67d",
   "metadata": {},
   "outputs": [
    {
     "data": {
      "text/plain": [
       "['20231208', 100, 130, 140, 150, 160, 170]"
      ]
     },
     "execution_count": 209,
     "metadata": {},
     "output_type": "execute_result"
    }
   ],
   "source": [
    "price"
   ]
  },
  {
   "cell_type": "code",
   "execution_count": 212,
   "id": "3f537507",
   "metadata": {},
   "outputs": [],
   "source": [
    "del price[0]"
   ]
  },
  {
   "cell_type": "code",
   "execution_count": 214,
   "id": "141b2cc0",
   "metadata": {},
   "outputs": [
    {
     "data": {
      "text/plain": [
       "[100, 130, 140, 150, 160, 170]"
      ]
     },
     "execution_count": 214,
     "metadata": {},
     "output_type": "execute_result"
    }
   ],
   "source": [
    "price"
   ]
  },
  {
   "cell_type": "code",
   "execution_count": 228,
   "id": "964bf3a6",
   "metadata": {},
   "outputs": [],
   "source": [
    "interset=['삼성전자','LG전자','NAVER']"
   ]
  },
  {
   "cell_type": "code",
   "execution_count": 229,
   "id": "3678fa3f",
   "metadata": {},
   "outputs": [
    {
     "ename": "AttributeError",
     "evalue": "'list' object has no attribute 'replace'",
     "output_type": "error",
     "traceback": [
      "\u001b[1;31m---------------------------------------------------------------------------\u001b[0m",
      "\u001b[1;31mAttributeError\u001b[0m                            Traceback (most recent call last)",
      "Cell \u001b[1;32mIn[229], line 1\u001b[0m\n\u001b[1;32m----> 1\u001b[0m interset\u001b[38;5;241m.\u001b[39mreplace(\u001b[38;5;124m'\u001b[39m\u001b[38;5;124mLG전자\u001b[39m\u001b[38;5;124m'\u001b[39m,\u001b[38;5;124m'\u001b[39m\u001b[38;5;124m삼성전자\u001b[39m\u001b[38;5;124m'\u001b[39m)\n",
      "\u001b[1;31mAttributeError\u001b[0m: 'list' object has no attribute 'replace'"
     ]
    }
   ],
   "source": []
  },
  {
   "cell_type": "code",
   "execution_count": 218,
   "id": "83edd40e",
   "metadata": {},
   "outputs": [],
   "source": [
    "del interset[0]"
   ]
  },
  {
   "cell_type": "code",
   "execution_count": 220,
   "id": "2d031d4c",
   "metadata": {},
   "outputs": [
    {
     "data": {
      "text/plain": [
       "['LG전자', 'NAVER']"
      ]
     },
     "execution_count": 220,
     "metadata": {},
     "output_type": "execute_result"
    }
   ],
   "source": [
    "interset"
   ]
  },
  {
   "cell_type": "code",
   "execution_count": 222,
   "id": "367ef343",
   "metadata": {},
   "outputs": [],
   "source": [
    "icecream_price={'메로나': 1000, '폴라포': '1200','빵빠레':1800}"
   ]
  },
  {
   "cell_type": "code",
   "execution_count": 230,
   "id": "cd9b2adf",
   "metadata": {},
   "outputs": [
    {
     "data": {
      "text/plain": [
       "{'메로나': 1000, '폴라포': '1200', '빵빠레': 1800}"
      ]
     },
     "execution_count": 230,
     "metadata": {},
     "output_type": "execute_result"
    }
   ],
   "source": [
    "icecream_price"
   ]
  },
  {
   "cell_type": "code",
   "execution_count": 231,
   "id": "7c15467b",
   "metadata": {},
   "outputs": [
    {
     "data": {
      "text/plain": [
       "'1200'"
      ]
     },
     "execution_count": 231,
     "metadata": {},
     "output_type": "execute_result"
    }
   ],
   "source": [
    "icecream_price['폴라포']"
   ]
  },
  {
   "cell_type": "code",
   "execution_count": 233,
   "id": "1be48ed2",
   "metadata": {},
   "outputs": [
    {
     "data": {
      "text/plain": [
       "'1200'"
      ]
     },
     "execution_count": 233,
     "metadata": {},
     "output_type": "execute_result"
    }
   ],
   "source": [
    "icecream_price.get('폴라포')"
   ]
  },
  {
   "cell_type": "code",
   "execution_count": 234,
   "id": "bd754226",
   "metadata": {},
   "outputs": [],
   "source": [
    "c={1,2,3,4,5,6}"
   ]
  },
  {
   "cell_type": "code",
   "execution_count": 235,
   "id": "b819e9e6",
   "metadata": {},
   "outputs": [
    {
     "data": {
      "text/plain": [
       "set"
      ]
     },
     "execution_count": 235,
     "metadata": {},
     "output_type": "execute_result"
    }
   ],
   "source": [
    "type(c)"
   ]
  },
  {
   "cell_type": "code",
   "execution_count": 237,
   "id": "3a883f1f",
   "metadata": {},
   "outputs": [],
   "source": [
    "blue_ban=['가렌','아리','파이크','흐웨이','제드']\n",
    "red_ban=['갱플랭크','아리','파이크','탈론','소나']"
   ]
  },
  {
   "cell_type": "code",
   "execution_count": 239,
   "id": "d0d04c47",
   "metadata": {},
   "outputs": [
    {
     "data": {
      "text/plain": [
       "['탈론', '소나', '갱플랭크', '가렌', '제드', '아리', '파이크', '흐웨이']"
      ]
     },
     "execution_count": 239,
     "metadata": {},
     "output_type": "execute_result"
    }
   ],
   "source": [
    "list(set(blue_ban+red_ban))"
   ]
  },
  {
   "cell_type": "markdown",
   "id": "a3963446",
   "metadata": {},
   "source": [
    "# 파이썬 if문"
   ]
  },
  {
   "cell_type": "code",
   "execution_count": 249,
   "id": "39b37084",
   "metadata": {},
   "outputs": [],
   "source": [
    "money=False"
   ]
  },
  {
   "cell_type": "code",
   "execution_count": 250,
   "id": "0ba0f05f",
   "metadata": {},
   "outputs": [
    {
     "name": "stdout",
     "output_type": "stream",
     "text": [
      "걸어가\n"
     ]
    }
   ],
   "source": [
    "if money:\n",
    "    print('택시타')\n",
    "else:\n",
    "    print('걸어가')"
   ]
  },
  {
   "cell_type": "code",
   "execution_count": 247,
   "id": "f9428794",
   "metadata": {},
   "outputs": [],
   "source": [
    "money=6200"
   ]
  },
  {
   "cell_type": "code",
   "execution_count": 248,
   "id": "159e7624",
   "metadata": {},
   "outputs": [
    {
     "name": "stdout",
     "output_type": "stream",
     "text": [
      "택시\n"
     ]
    }
   ],
   "source": [
    "if money>6000:\n",
    "    print('택시')\n",
    "else:\n",
    "    print('걸어가')"
   ]
  },
  {
   "cell_type": "code",
   "execution_count": 253,
   "id": "55b73dbe",
   "metadata": {},
   "outputs": [],
   "source": [
    "money=3000"
   ]
  },
  {
   "cell_type": "code",
   "execution_count": 271,
   "id": "219c62d7",
   "metadata": {},
   "outputs": [
    {
     "name": "stdout",
     "output_type": "stream",
     "text": [
      "걸어가\n"
     ]
    }
   ],
   "source": [
    "if money>6000:\n",
    "    print('택시타자')\n",
    "elif money>4000:\n",
    "    print('버스타')\n",
    "else:\n",
    "    print('걸어가')"
   ]
  },
  {
   "cell_type": "code",
   "execution_count": 269,
   "id": "3d83b869",
   "metadata": {},
   "outputs": [],
   "source": [
    "position='TOP'\n",
    "champion='다리우스'"
   ]
  },
  {
   "cell_type": "code",
   "execution_count": 270,
   "id": "9f7368c2",
   "metadata": {},
   "outputs": [
    {
     "name": "stdout",
     "output_type": "stream",
     "text": [
      "퀸\n"
     ]
    }
   ],
   "source": [
    "if position=='TOP' or champion=='Garen':\n",
    "    print('퀸')\n",
    "else:\n",
    "    print('가렌')"
   ]
  },
  {
   "cell_type": "markdown",
   "id": "fdcb84a0",
   "metadata": {},
   "source": [
    "# 변수a가 3의 배수일경우 3을출력, 아닐경우 0을출력"
   ]
  },
  {
   "cell_type": "code",
   "execution_count": 288,
   "id": "a32f1740",
   "metadata": {},
   "outputs": [],
   "source": [
    "a=3"
   ]
  },
  {
   "cell_type": "code",
   "execution_count": 290,
   "id": "e16a88c7",
   "metadata": {},
   "outputs": [
    {
     "ename": "SyntaxError",
     "evalue": "expected ':' (3208685345.py, line 1)",
     "output_type": "error",
     "traceback": [
      "\u001b[1;36m  Cell \u001b[1;32mIn[290], line 1\u001b[1;36m\u001b[0m\n\u001b[1;33m    if a % 3 == 0\u001b[0m\n\u001b[1;37m                  ^\u001b[0m\n\u001b[1;31mSyntaxError\u001b[0m\u001b[1;31m:\u001b[0m expected ':'\n"
     ]
    }
   ],
   "source": [
    "if a % 3 == 0 \n",
    "    print('3')\n",
    "else :\n",
    "    print('0')"
   ]
  },
  {
   "cell_type": "markdown",
   "id": "52ab876a",
   "metadata": {},
   "source": [
    "# 변수 a가3의배수 혹은 5의배수일경우 \"정답\" 아닐경우 \"틀림\"출력"
   ]
  },
  {
   "cell_type": "code",
   "execution_count": 291,
   "id": "9010219f",
   "metadata": {},
   "outputs": [
    {
     "name": "stdout",
     "output_type": "stream",
     "text": [
      "정답\n"
     ]
    }
   ],
   "source": [
    "if a % 3 == 0 or  a % 5 == 0 :\n",
    "      print('정답')\n",
    "else :\n",
    "    print('틀림')"
   ]
  },
  {
   "cell_type": "markdown",
   "id": "51b7f47f",
   "metadata": {},
   "source": [
    "# while문\n"
   ]
  },
  {
   "cell_type": "markdown",
   "id": "f619cbb1",
   "metadata": {},
   "source": [
    "a기 10보다 작을때까지 출력"
   ]
  },
  {
   "cell_type": "code",
   "execution_count": null,
   "id": "c169d6f4",
   "metadata": {},
   "outputs": [],
   "source": [
    "a=0"
   ]
  },
  {
   "cell_type": "code",
   "execution_count": null,
   "id": "8425a234",
   "metadata": {},
   "outputs": [],
   "source": [
    "while a<10:\n",
    "    print(a)\n",
    "    a +=1"
   ]
  },
  {
   "cell_type": "code",
   "execution_count": null,
   "id": "8e1f4739",
   "metadata": {},
   "outputs": [],
   "source": [
    "a=0\n",
    "while True:\n",
    "    print(a)\n",
    "    a +=2\n",
    "if a>20:\n",
    "    break"
   ]
  },
  {
   "cell_type": "code",
   "execution_count": null,
   "id": "49003237",
   "metadata": {},
   "outputs": [],
   "source": [
    "coffe=10\n",
    "money=300\n",
    "\n",
    "while True:\n",
    "    print('믹스커피를 구매합니다.')\n",
    "    coffe -=1\n",
    "    money -=50\n",
    "    print(\"남은 커피의 양은 %d개입니다.\" %coffe)\n",
    "    print(\"남은 돈은 %d개원입니다.\" %money)\n",
    "    if coffe==0:\n",
    "        print('커피가 다 떨어졌습니다.판매를중지합니다.')\n",
    "        break\n",
    "    if money  <=0:\n",
    "        print('돈이 없어서 구매할 수 없습니다')\n",
    "        break"
   ]
  },
  {
   "cell_type": "markdown",
   "id": "8752c6a4",
   "metadata": {},
   "source": [
    "# 시험점수가 60점이상이면 number번째 학생은 합격,60점미만이면 불합격출력"
   ]
  },
  {
   "cell_type": "code",
   "execution_count": 2,
   "id": "056fa703",
   "metadata": {},
   "outputs": [],
   "source": [
    "score_list=[90,80,24,37,59]"
   ]
  },
  {
   "cell_type": "code",
   "execution_count": 3,
   "id": "0cb1f45b",
   "metadata": {},
   "outputs": [],
   "source": [
    "number=0"
   ]
  },
  {
   "cell_type": "code",
   "execution_count": 4,
   "id": "11f53418",
   "metadata": {},
   "outputs": [
    {
     "name": "stdout",
     "output_type": "stream",
     "text": [
      "1번째 학생은 합격입니다\n",
      "2번째 학생은 합격입니다\n",
      "3번째 학생은 불합격입니다\n",
      "4번째 학생은 불합격입니다\n",
      "5번째 학생은 불합격입니다\n"
     ]
    }
   ],
   "source": [
    "for i in score_list:\n",
    "    number += 1\n",
    "    if(i > 60):\n",
    "        print(\"%d번째 학생은 합격입니다\"% number)\n",
    "    else:\n",
    "        print(\"%d번째 학생은 불합격입니다\"% number)"
   ]
  },
  {
   "cell_type": "code",
   "execution_count": 7,
   "id": "c97a6e65",
   "metadata": {},
   "outputs": [
    {
     "name": "stdout",
     "output_type": "stream",
     "text": [
      "1\n",
      "2\n",
      "3\n",
      "4\n",
      "5\n",
      "6\n",
      "7\n",
      "8\n",
      "9\n"
     ]
    }
   ],
   "source": [
    "for i in range(1,10):\n",
    "    print(i)"
   ]
  },
  {
   "cell_type": "code",
   "execution_count": 9,
   "id": "05a57832",
   "metadata": {},
   "outputs": [
    {
     "name": "stdout",
     "output_type": "stream",
     "text": [
      "0 2 2\n",
      "0 3 3\n",
      "1 2 3\n",
      "1 3 4\n",
      "2 2 4\n",
      "2 3 5\n",
      "3 2 5\n",
      "3 3 6\n",
      "4 2 6\n",
      "4 3 7\n",
      "5 2 7\n",
      "5 3 8\n",
      "6 2 8\n",
      "6 3 9\n",
      "7 2 9\n",
      "7 3 10\n",
      "8 2 10\n",
      "8 3 11\n",
      "9 2 11\n",
      "9 3 12\n"
     ]
    }
   ],
   "source": [
    "for i in range(10):\n",
    "    for j in range(2,4):\n",
    "        print(i,j,i+j)"
   ]
  },
  {
   "cell_type": "markdown",
   "id": "3fb45ec2",
   "metadata": {},
   "source": [
    "# 2중for문이용해서 구구단출력"
   ]
  },
  {
   "cell_type": "code",
   "execution_count": 41,
   "id": "e1c0971b",
   "metadata": {},
   "outputs": [],
   "source": [
    "table=[]"
   ]
  },
  {
   "cell_type": "code",
   "execution_count": 42,
   "id": "e8aad552",
   "metadata": {},
   "outputs": [],
   "source": [
    "table = []\n",
    "for i in range(2, 10):\n",
    "    num_list = []  \n",
    "    for j in range(1, 10):\n",
    "        num_list.append(i * j)\n",
    "    table.append(num_list)"
   ]
  },
  {
   "cell_type": "code",
   "execution_count": 43,
   "id": "ebd97ec3",
   "metadata": {},
   "outputs": [
    {
     "data": {
      "text/plain": [
       "[[2, 4, 6, 8, 10, 12, 14, 16, 18],\n",
       " [3, 6, 9, 12, 15, 18, 21, 24, 27],\n",
       " [4, 8, 12, 16, 20, 24, 28, 32, 36],\n",
       " [5, 10, 15, 20, 25, 30, 35, 40, 45],\n",
       " [6, 12, 18, 24, 30, 36, 42, 48, 54],\n",
       " [7, 14, 21, 28, 35, 42, 49, 56, 63],\n",
       " [8, 16, 24, 32, 40, 48, 56, 64, 72],\n",
       " [9, 18, 27, 36, 45, 54, 63, 72, 81]]"
      ]
     },
     "execution_count": 43,
     "metadata": {},
     "output_type": "execute_result"
    }
   ],
   "source": [
    "table"
   ]
  },
  {
   "cell_type": "markdown",
   "id": "2929d74f",
   "metadata": {},
   "source": [
    "# 리스트에 저장된 수 중에 짝수들의 합을 출력하세요 (for문)"
   ]
  },
  {
   "cell_type": "code",
   "execution_count": null,
   "id": "4e0f2d8b",
   "metadata": {},
   "outputs": [],
   "source": [
    "# 정답 136 "
   ]
  },
  {
   "cell_type": "code",
   "execution_count": 57,
   "id": "760c4dd9",
   "metadata": {},
   "outputs": [],
   "source": [
    "my_list=[[20,38],[41,50],[2,4],[3,4],[5,8],[9,10]]"
   ]
  },
  {
   "cell_type": "code",
   "execution_count": 58,
   "id": "95630c1c",
   "metadata": {},
   "outputs": [],
   "source": [
    "plus=0"
   ]
  },
  {
   "cell_type": "code",
   "execution_count": 59,
   "id": "869d23bc",
   "metadata": {},
   "outputs": [],
   "source": [
    "for i in my_list:\n",
    "    for j in i:\n",
    "        if(j%2 ==0):\n",
    "            plus += j"
   ]
  },
  {
   "cell_type": "code",
   "execution_count": 60,
   "id": "566e2027",
   "metadata": {},
   "outputs": [
    {
     "data": {
      "text/plain": [
       "136"
      ]
     },
     "execution_count": 60,
     "metadata": {},
     "output_type": "execute_result"
    }
   ],
   "source": [
    "plus"
   ]
  },
  {
   "cell_type": "markdown",
   "id": "1bdeb494",
   "metadata": {},
   "source": [
    "# 함수"
   ]
  },
  {
   "cell_type": "code",
   "execution_count": 18,
   "id": "a69f98e8",
   "metadata": {},
   "outputs": [],
   "source": [
    "def test(a,b):\n",
    "    return a+b"
   ]
  },
  {
   "cell_type": "code",
   "execution_count": 19,
   "id": "d6888fdf",
   "metadata": {},
   "outputs": [
    {
     "data": {
      "text/plain": [
       "11"
      ]
     },
     "execution_count": 19,
     "metadata": {},
     "output_type": "execute_result"
    }
   ],
   "source": [
    "test(5,6)"
   ]
  },
  {
   "cell_type": "code",
   "execution_count": 20,
   "id": "295cddea",
   "metadata": {},
   "outputs": [],
   "source": [
    "def test(a,b):\n",
    "    return a+b"
   ]
  },
  {
   "cell_type": "code",
   "execution_count": 35,
   "id": "cb682231",
   "metadata": {},
   "outputs": [
    {
     "ename": "SyntaxError",
     "evalue": "invalid syntax (3626837551.py, line 1)",
     "output_type": "error",
     "traceback": [
      "\u001b[1;36m  Cell \u001b[1;32mIn[35], line 1\u001b[1;36m\u001b[0m\n\u001b[1;33m    der tes2(a,b):\u001b[0m\n\u001b[1;37m        ^\u001b[0m\n\u001b[1;31mSyntaxError\u001b[0m\u001b[1;31m:\u001b[0m invalid syntax\n"
     ]
    }
   ],
   "source": [
    "der tes2(a,b):\n",
    "    print a+b"
   ]
  },
  {
   "cell_type": "code",
   "execution_count": 34,
   "id": "2f3e83d3",
   "metadata": {},
   "outputs": [
    {
     "ename": "TypeError",
     "evalue": "test() takes 1 positional argument but 2 were given",
     "output_type": "error",
     "traceback": [
      "\u001b[1;31m---------------------------------------------------------------------------\u001b[0m",
      "\u001b[1;31mTypeError\u001b[0m                                 Traceback (most recent call last)",
      "Cell \u001b[1;32mIn[34], line 1\u001b[0m\n\u001b[1;32m----> 1\u001b[0m a\u001b[38;5;241m=\u001b[39m test(\u001b[38;5;241m5\u001b[39m,\u001b[38;5;241m6\u001b[39m)\n",
      "\u001b[1;31mTypeError\u001b[0m: test() takes 1 positional argument but 2 were given"
     ]
    }
   ],
   "source": [
    "a= test(5,6)"
   ]
  },
  {
   "cell_type": "code",
   "execution_count": 23,
   "id": "e74ce4e9",
   "metadata": {},
   "outputs": [],
   "source": [
    "b=test(5,6)"
   ]
  },
  {
   "cell_type": "markdown",
   "id": "04be78d4",
   "metadata": {},
   "source": [
    "# 학생 한명의 점수를 매개변수로 받아 80점 이상하면 합격, 아니면 불합격"
   ]
  },
  {
   "cell_type": "code",
   "execution_count": 25,
   "id": "cdd9c13e",
   "metadata": {},
   "outputs": [],
   "source": [
    "def test (a): \n",
    "    if(a > 80):\n",
    "        return(\"합격\")\n",
    "    else:\n",
    "         return(\"불합격\")"
   ]
  },
  {
   "cell_type": "code",
   "execution_count": 26,
   "id": "a0ab3286",
   "metadata": {},
   "outputs": [
    {
     "data": {
      "text/plain": [
       "'합격'"
      ]
     },
     "execution_count": 26,
     "metadata": {},
     "output_type": "execute_result"
    }
   ],
   "source": [
    "test(90)"
   ]
  },
  {
   "cell_type": "code",
   "execution_count": 28,
   "id": "0289005a",
   "metadata": {},
   "outputs": [],
   "source": [
    "def test3(*args):\n",
    "    sum_list = []\n",
    "    print(args)\n",
    "    for i in args:\n",
    "        sum_list.append(i+2)\n",
    "    return sum_list"
   ]
  },
  {
   "cell_type": "code",
   "execution_count": 29,
   "id": "3a54816f",
   "metadata": {},
   "outputs": [
    {
     "name": "stdout",
     "output_type": "stream",
     "text": [
      "(1, 2, 3, 4, 5, 6, 7, 8)\n"
     ]
    },
    {
     "data": {
      "text/plain": [
       "[3, 4, 5, 6, 7, 8, 9, 10]"
      ]
     },
     "execution_count": 29,
     "metadata": {},
     "output_type": "execute_result"
    }
   ],
   "source": [
    "test3(1,2,3,4,5,6,7,8)"
   ]
  },
  {
   "cell_type": "code",
   "execution_count": 30,
   "id": "8d0ba4a3",
   "metadata": {},
   "outputs": [
    {
     "name": "stdout",
     "output_type": "stream",
     "text": [
      "숫자를 입력하세요: 100\n"
     ]
    }
   ],
   "source": [
    "aa = input(\"숫자를 입력하세요: \")"
   ]
  },
  {
   "cell_type": "code",
   "execution_count": 31,
   "id": "aa601707",
   "metadata": {},
   "outputs": [
    {
     "data": {
      "text/plain": [
       "str"
      ]
     },
     "execution_count": 31,
     "metadata": {},
     "output_type": "execute_result"
    }
   ],
   "source": [
    "type(aa)"
   ]
  },
  {
   "cell_type": "code",
   "execution_count": 38,
   "id": "be2f0356",
   "metadata": {},
   "outputs": [
    {
     "data": {
      "text/plain": [
       "100"
      ]
     },
     "execution_count": 38,
     "metadata": {},
     "output_type": "execute_result"
    }
   ],
   "source": [
    "int(aa)"
   ]
  }
 ],
 "metadata": {
  "kernelspec": {
   "display_name": "Python 3 (ipykernel)",
   "language": "python",
   "name": "python3"
  },
  "language_info": {
   "codemirror_mode": {
    "name": "ipython",
    "version": 3
   },
   "file_extension": ".py",
   "mimetype": "text/x-python",
   "name": "python",
   "nbconvert_exporter": "python",
   "pygments_lexer": "ipython3",
   "version": "3.11.5"
  }
 },
 "nbformat": 4,
 "nbformat_minor": 5
}
