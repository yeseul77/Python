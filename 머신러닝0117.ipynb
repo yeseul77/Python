{
  "nbformat": 4,
  "nbformat_minor": 0,
  "metadata": {
    "colab": {
      "provenance": [],
      "authorship_tag": "ABX9TyMtXSRBwLH3L3wBQKiU6tvV",
      "include_colab_link": true
    },
    "kernelspec": {
      "name": "python3",
      "display_name": "Python 3"
    },
    "language_info": {
      "name": "python"
    }
  },
  "cells": [
    {
      "cell_type": "markdown",
      "metadata": {
        "id": "view-in-github",
        "colab_type": "text"
      },
      "source": [
        "<a href=\"https://colab.research.google.com/github/yeseul77/Python/blob/main/%EB%A8%B8%EC%8B%A0%EB%9F%AC%EB%8B%9D0117.ipynb\" target=\"_parent\"><img src=\"https://colab.research.google.com/assets/colab-badge.svg\" alt=\"Open In Colab\"/></a>"
      ]
    },
    {
      "cell_type": "code",
      "execution_count": null,
      "metadata": {
        "id": "7oE0y0jtpK-9"
      },
      "outputs": [],
      "source": [
        "#KMM회귀모델\n",
        "import numpy as np\n",
        "import pandas as pd\n",
        "import matplotlib.pyplot as plt"
      ]
    },
    {
      "cell_type": "code",
      "source": [
        "# 농어의 길이, 무게 데이터\n",
        "# http://bit.ly/perch_data\n",
        "\n",
        "perch_length = np.array([8.4, 13.7, 15.0, 16.2, 17.4, 18.0, 18.7, 19.0, 19.6, 20.0, 21.0,\n",
        "       21.0, 21.0, 21.3, 22.0, 22.0, 22.0, 22.0, 22.0, 22.5, 22.5, 22.7,\n",
        "       23.0, 23.5, 24.0, 24.0, 24.6, 25.0, 25.6, 26.5, 27.3, 27.5, 27.5,\n",
        "       27.5, 28.0, 28.7, 30.0, 32.8, 34.5, 35.0, 36.5, 36.0, 37.0, 37.0,\n",
        "       39.0, 39.0, 39.0, 40.0, 40.0, 40.0, 40.0, 42.0, 43.0, 43.0, 43.5,\n",
        "       44.0])\n",
        "perch_weight = np.array([5.9, 32.0, 40.0, 51.5, 70.0, 100.0, 78.0, 80.0, 85.0, 85.0, 110.0,\n",
        "       115.0, 125.0, 130.0, 120.0, 120.0, 130.0, 135.0, 110.0, 130.0,\n",
        "       150.0, 145.0, 150.0, 170.0, 225.0, 145.0, 188.0, 180.0, 197.0,\n",
        "       218.0, 300.0, 260.0, 265.0, 250.0, 250.0, 300.0, 320.0, 514.0,\n",
        "       556.0, 840.0, 685.0, 700.0, 700.0, 690.0, 900.0, 650.0, 820.0,\n",
        "       850.0, 900.0, 1015.0, 820.0, 1100.0, 1000.0, 1100.0, 1000.0,\n",
        "       1000.0])"
      ],
      "metadata": {
        "id": "5enPFxMb-Ln9"
      },
      "execution_count": null,
      "outputs": []
    },
    {
      "cell_type": "code",
      "source": [
        "plt.scatter(perch_length,perch_weight)\n",
        "plt.xlabel('length')\n",
        "plt.ylabel('weight')\n",
        "plt.show()"
      ],
      "metadata": {
        "colab": {
          "base_uri": "https://localhost:8080/",
          "height": 449
        },
        "id": "oP3V-fwW-NT-",
        "outputId": "e0fc62da-0e75-4e05-f645-a2cc250d3b51"
      },
      "execution_count": null,
      "outputs": [
        {
          "output_type": "display_data",
          "data": {
            "text/plain": [
              "<Figure size 640x480 with 1 Axes>"
            ],
            "image/png": "[encoded data removed]"
          },
          "metadata": {}
        }
      ]
    },
    {
      "cell_type": "code",
      "source": [
        "from sklearn.model_selection import train_test_split\n",
        "train_input, test_input, train_target, test_target = train_test_split(perch_length, perch_weight, random_state=2)"
      ],
      "metadata": {
        "id": "d1Whm-Va-2jf"
      },
      "execution_count": 280,
      "outputs": []
    },
    {
      "cell_type": "code",
      "source": [
        "len(perch_length)"
      ],
      "metadata": {
        "colab": {
          "base_uri": "https://localhost:8080/"
        },
        "id": "fJIltQzw_RhT",
        "outputId": "6d927f19-6244-4eb8-bb8b-3c408d7e0b3f"
      },
      "execution_count": 281,
      "outputs": [
        {
          "output_type": "execute_result",
          "data": {
            "text/plain": [
              "56"
            ]
          },
          "metadata": {},
          "execution_count": 281
        }
      ]
    },
    {
      "cell_type": "code",
      "source": [
        "train_input.shape"
      ],
      "metadata": {
        "colab": {
          "base_uri": "https://localhost:8080/"
        },
        "id": "6xPwr_s3_Rjq",
        "outputId": "aa0ab8ab-6a85-4542-f8a3-ce387f6b9dd5"
      },
      "execution_count": 282,
      "outputs": [
        {
          "output_type": "execute_result",
          "data": {
            "text/plain": [
              "(42,)"
            ]
          },
          "metadata": {},
          "execution_count": 282
        }
      ]
    },
    {
      "cell_type": "code",
      "source": [
        "#reshape\n",
        "train_input = train_input.reshape(-1,1)\n",
        "test_input = test_input.reshape(-1,1)"
      ],
      "metadata": {
        "id": "WnjCt0Ie_Rl1"
      },
      "execution_count": 283,
      "outputs": []
    },
    {
      "cell_type": "code",
      "source": [
        "train_input.shape"
      ],
      "metadata": {
        "colab": {
          "base_uri": "https://localhost:8080/"
        },
        "id": "XfK36PT9_XWA",
        "outputId": "e1f17293-095d-49b0-9505-fc1ce131161c"
      },
      "execution_count": 284,
      "outputs": [
        {
          "output_type": "execute_result",
          "data": {
            "text/plain": [
              "(42, 1)"
            ]
          },
          "metadata": {},
          "execution_count": 284
        }
      ]
    },
    {
      "cell_type": "code",
      "source": [
        "x=np.array([8.4,13.7,15.0])"
      ],
      "metadata": {
        "id": "Il7FaZUw_XYr"
      },
      "execution_count": 285,
      "outputs": []
    },
    {
      "cell_type": "code",
      "source": [
        "x"
      ],
      "metadata": {
        "colab": {
          "base_uri": "https://localhost:8080/"
        },
        "id": "sRxE6Ibi_XbX",
        "outputId": "99340051-1b2f-4e4e-b878-2a314403e572"
      },
      "execution_count": 286,
      "outputs": [
        {
          "output_type": "execute_result",
          "data": {
            "text/plain": [
              "array([ 8.4, 13.7, 15. ])"
            ]
          },
          "metadata": {},
          "execution_count": 286
        }
      ]
    },
    {
      "cell_type": "code",
      "source": [
        "x.shape"
      ],
      "metadata": {
        "colab": {
          "base_uri": "https://localhost:8080/"
        },
        "id": "OznyRIN0-2l3",
        "outputId": "b0def211-5ed5-476e-9f49-ed4b31d7cb41"
      },
      "execution_count": 287,
      "outputs": [
        {
          "output_type": "execute_result",
          "data": {
            "text/plain": [
              "(3,)"
            ]
          },
          "metadata": {},
          "execution_count": 287
        }
      ]
    },
    {
      "cell_type": "code",
      "source": [
        "x.reshape(-1,1) #=( 3,1) 행이 3개이고 열이 1인 ★"
      ],
      "metadata": {
        "colab": {
          "base_uri": "https://localhost:8080/"
        },
        "id": "UIC5JI6Q_0Zi",
        "outputId": "be87386f-399f-4866-8242-492c2e065ab1"
      },
      "execution_count": 288,
      "outputs": [
        {
          "output_type": "execute_result",
          "data": {
            "text/plain": [
              "array([[ 8.4],\n",
              "       [13.7],\n",
              "       [15. ]])"
            ]
          },
          "metadata": {},
          "execution_count": 288
        }
      ]
    },
    {
      "cell_type": "code",
      "source": [
        "from sklearn.neighbors import KNeighborsRegressor"
      ],
      "metadata": {
        "id": "zkEZwOSZ_0cJ"
      },
      "execution_count": 289,
      "outputs": []
    },
    {
      "cell_type": "code",
      "source": [
        "knr = KNeighborsRegressor()\n",
        "knr.fit(train_input,train_target)"
      ],
      "metadata": {
        "colab": {
          "base_uri": "https://localhost:8080/",
          "height": 74
        },
        "id": "dFCkbFSwAlpm",
        "outputId": "a465cb76-8042-4fdc-fa48-25b694fa0c93"
      },
      "execution_count": 290,
      "outputs": [
        {
          "output_type": "execute_result",
          "data": {
            "text/plain": [
              "KNeighborsRegressor()"
            ],
            "text/html": [
              "<style>#sk-container-id-10 {color: black;background-color: white;}#sk-container-id-10 pre{padding: 0;}#sk-container-id-10 div.sk-toggleable {background-color: white;}#sk-container-id-10 label.sk-toggleable__label {cursor: pointer;display: block;width: 100%;margin-bottom: 0;padding: 0.3em;box-sizing: border-box;text-align: center;}#sk-container-id-10 label.sk-toggleable__label-arrow:before {content: \"▸\";float: left;margin-right: 0.25em;color: #696969;}#sk-container-id-10 label.sk-toggleable__label-arrow:hover:before {color: black;}#sk-container-id-10 div.sk-estimator:hover label.sk-toggleable__label-arrow:before {color: black;}#sk-container-id-10 div.sk-toggleable__content {max-height: 0;max-width: 0;overflow: hidden;text-align: left;background-color: #f0f8ff;}#sk-container-id-10 div.sk-toggleable__content pre {margin: 0.2em;color: black;border-radius: 0.25em;background-color: #f0f8ff;}#sk-container-id-10 input.sk-toggleable__control:checked~div.sk-toggleable__content {max-height: 200px;max-width: 100%;overflow: auto;}#sk-container-id-10 input.sk-toggleable__control:checked~label.sk-toggleable__label-arrow:before {content: \"▾\";}#sk-container-id-10 div.sk-estimator input.sk-toggleable__control:checked~label.sk-toggleable__label {background-color: #d4ebff;}#sk-container-id-10 div.sk-label input.sk-toggleable__control:checked~label.sk-toggleable__label {background-color: #d4ebff;}#sk-container-id-10 input.sk-hidden--visually {border: 0;clip: rect(1px 1px 1px 1px);clip: rect(1px, 1px, 1px, 1px);height: 1px;margin: -1px;overflow: hidden;padding: 0;position: absolute;width: 1px;}#sk-container-id-10 div.sk-estimator {font-family: monospace;background-color: #f0f8ff;border: 1px dotted black;border-radius: 0.25em;box-sizing: border-box;margin-bottom: 0.5em;}#sk-container-id-10 div.sk-estimator:hover {background-color: #d4ebff;}#sk-container-id-10 div.sk-parallel-item::after {content: \"\";width: 100%;border-bottom: 1px solid gray;flex-grow: 1;}#sk-container-id-10 div.sk-label:hover label.sk-toggleable__label {background-color: #d4ebff;}#sk-container-id-10 div.sk-serial::before {content: \"\";position: absolute;border-left: 1px solid gray;box-sizing: border-box;top: 0;bottom: 0;left: 50%;z-index: 0;}#sk-container-id-10 div.sk-serial {display: flex;flex-direction: column;align-items: center;background-color: white;padding-right: 0.2em;padding-left: 0.2em;position: relative;}#sk-container-id-10 div.sk-item {position: relative;z-index: 1;}#sk-container-id-10 div.sk-parallel {display: flex;align-items: stretch;justify-content: center;background-color: white;position: relative;}#sk-container-id-10 div.sk-item::before, #sk-container-id-10 div.sk-parallel-item::before {content: \"\";position: absolute;border-left: 1px solid gray;box-sizing: border-box;top: 0;bottom: 0;left: 50%;z-index: -1;}#sk-container-id-10 div.sk-parallel-item {display: flex;flex-direction: column;z-index: 1;position: relative;background-color: white;}#sk-container-id-10 div.sk-parallel-item:first-child::after {align-self: flex-end;width: 50%;}#sk-container-id-10 div.sk-parallel-item:last-child::after {align-self: flex-start;width: 50%;}#sk-container-id-10 div.sk-parallel-item:only-child::after {width: 0;}#sk-container-id-10 div.sk-dashed-wrapped {border: 1px dashed gray;margin: 0 0.4em 0.5em 0.4em;box-sizing: border-box;padding-bottom: 0.4em;background-color: white;}#sk-container-id-10 div.sk-label label {font-family: monospace;font-weight: bold;display: inline-block;line-height: 1.2em;}#sk-container-id-10 div.sk-label-container {text-align: center;}#sk-container-id-10 div.sk-container {/* jupyter's `normalize.less` sets `[hidden] { display: none; }` but bootstrap.min.css set `[hidden] { display: none !important; }` so we also need the `!important` here to be able to override the default hidden behavior on the sphinx rendered scikit-learn.org. See: https://github.com/scikit-learn/scikit-learn/issues/21755 */display: inline-block !important;position: relative;}#sk-container-id-10 div.sk-text-repr-fallback {display: none;}</style><div id=\"sk-container-id-10\" class=\"sk-top-container\"><div class=\"sk-text-repr-fallback\"><pre>KNeighborsRegressor()</pre><b>In a Jupyter environment, please rerun this cell to show the HTML representation or trust the notebook. <br />On GitHub, the HTML representation is unable to render, please try loading this page with nbviewer.org.</b></div><div class=\"sk-container\" hidden><div class=\"sk-item\"><div class=\"sk-estimator sk-toggleable\"><input class=\"sk-toggleable__control sk-hidden--visually\" id=\"sk-estimator-id-10\" type=\"checkbox\" checked><label for=\"sk-estimator-id-10\" class=\"sk-toggleable__label sk-toggleable__label-arrow\">KNeighborsRegressor</label><div class=\"sk-toggleable__content\"><pre>KNeighborsRegressor()</pre></div></div></div></div></div>"
            ]
          },
          "metadata": {},
          "execution_count": 290
        }
      ]
    },
    {
      "cell_type": "code",
      "source": [
        "knr.score(test_input,test_target)"
      ],
      "metadata": {
        "colab": {
          "base_uri": "https://localhost:8080/"
        },
        "id": "7mGP9K6oAlsF",
        "outputId": "070be70a-b708-4d75-d937-0e0808f4791c"
      },
      "execution_count": 291,
      "outputs": [
        {
          "output_type": "execute_result",
          "data": {
            "text/plain": [
              "0.9722441694061061"
            ]
          },
          "metadata": {},
          "execution_count": 291
        }
      ]
    },
    {
      "cell_type": "code",
      "source": [
        "from sklearn.metrics import mean_absolute_error\n",
        "\n",
        "test_pred =knr.predict(test_input) # y^  예측값 (낮아야 좋음)\n",
        "mae = mean_absolute_error(test_target,test_pred) # 정답과 예측값 mae 지표비교"
      ],
      "metadata": {
        "id": "tUBPrmoU_0eK"
      },
      "execution_count": 292,
      "outputs": []
    },
    {
      "cell_type": "code",
      "source": [
        "mae"
      ],
      "metadata": {
        "colab": {
          "base_uri": "https://localhost:8080/"
        },
        "id": "dYnMH7lIBMFM",
        "outputId": "187fce6f-da08-4e3d-8c4d-9493834ef885"
      },
      "execution_count": 293,
      "outputs": [
        {
          "output_type": "execute_result",
          "data": {
            "text/plain": [
              "44.50714285714286"
            ]
          },
          "metadata": {},
          "execution_count": 293
        }
      ]
    },
    {
      "cell_type": "code",
      "source": [
        "from sklearn.datasets import load_diabetes\n",
        "diabetes = load_diabetes()\n",
        "#당뇨병 데이터"
      ],
      "metadata": {
        "id": "zmYMQLuBBMHf"
      },
      "execution_count": 294,
      "outputs": []
    },
    {
      "cell_type": "code",
      "source": [
        "input_data = diabetes['data']\n",
        "target_data = diabetes['target']"
      ],
      "metadata": {
        "id": "v1Xk4kS8BMJ6"
      },
      "execution_count": 295,
      "outputs": []
    },
    {
      "cell_type": "code",
      "source": [
        "input_data[0]"
      ],
      "metadata": {
        "colab": {
          "base_uri": "https://localhost:8080/"
        },
        "id": "81g8mDtNBMM4",
        "outputId": "418efd44-ca73-460a-fea3-6d7738d0c6a3"
      },
      "execution_count": 296,
      "outputs": [
        {
          "output_type": "execute_result",
          "data": {
            "text/plain": [
              "array([ 0.03807591,  0.05068012,  0.06169621,  0.02187239, -0.0442235 ,\n",
              "       -0.03482076, -0.04340085, -0.00259226,  0.01990749, -0.01764613])"
            ]
          },
          "metadata": {},
          "execution_count": 296
        }
      ]
    },
    {
      "cell_type": "code",
      "source": [
        "diabetes.feature_names"
      ],
      "metadata": {
        "colab": {
          "base_uri": "https://localhost:8080/"
        },
        "id": "B6UP-mnpCpRY",
        "outputId": "3dca1f8a-fb84-4307-b4df-3d74479a29e4"
      },
      "execution_count": null,
      "outputs": [
        {
          "output_type": "execute_result",
          "data": {
            "text/plain": [
              "['age', 'sex', 'bmi', 'bp', 's1', 's2', 's3', 's4', 's5', 's6']"
            ]
          },
          "metadata": {},
          "execution_count": 26
        }
      ]
    },
    {
      "cell_type": "code",
      "source": [
        "plt.scatter(input_data[:,2],target_data)\n",
        "plt.xlabel('bmi')\n",
        "plt.ylabel('target')\n",
        "plt.show()\n"
      ],
      "metadata": {
        "colab": {
          "base_uri": "https://localhost:8080/",
          "height": 449
        },
        "id": "WxRl2RVYCpT9",
        "outputId": "9fccb799-c7fc-4bc9-ddd2-22c24fce11e1"
      },
      "execution_count": 297,
      "outputs": [
        {
          "output_type": "display_data",
          "data": {
            "text/plain": [
              "<Figure size 640x480 with 1 Axes>"
            ],
            "image/png": "[encoded data removed]"
          },
          "metadata": {}
        }
      ]
    },
    {
      "cell_type": "code",
      "source": [
        "#데이터 나누기\n",
        "train_input_dia, test_input_dia, train_target_dia, test_target_dia = train_test_split(input_data[:,2], target_data, random_state=2)"
      ],
      "metadata": {
        "id": "g_nNZdtUDD5T"
      },
      "execution_count": 298,
      "outputs": []
    },
    {
      "cell_type": "code",
      "source": [
        "train_input_dia.shape"
      ],
      "metadata": {
        "colab": {
          "base_uri": "https://localhost:8080/"
        },
        "id": "hmOopZpQDD8p",
        "outputId": "98144891-1a97-4600-f9bf-23f1a29e163a"
      },
      "execution_count": 261,
      "outputs": [
        {
          "output_type": "execute_result",
          "data": {
            "text/plain": [
              "(331,)"
            ]
          },
          "metadata": {},
          "execution_count": 261
        }
      ]
    },
    {
      "cell_type": "code",
      "source": [
        "train_input_dia = train_input_dia.reshape(-1,1)\n",
        "test_input_dia = test_input_dia.reshape(-1,1)"
      ],
      "metadata": {
        "id": "8maDvu6zCpWg"
      },
      "execution_count": 299,
      "outputs": []
    },
    {
      "cell_type": "code",
      "source": [
        "train_input_dia"
      ],
      "metadata": {
        "colab": {
          "base_uri": "https://localhost:8080/"
        },
        "id": "cqBvY1PjAguO",
        "outputId": "123b3582-f36b-4a23-d302-1b3960f3a165"
      },
      "execution_count": 264,
      "outputs": [
        {
          "output_type": "execute_result",
          "data": {
            "text/plain": [
              "array([[-0.05578531],\n",
              "       [ 0.10480869],\n",
              "       [ 0.01750591],\n",
              "       [-0.03099563],\n",
              "       [-0.04069594],\n",
              "       [-0.06764124],\n",
              "       [-0.00297252],\n",
              "       [-0.00620595],\n",
              "       [-0.06656343],\n",
              "       [ 0.03367309],\n",
              "       [ 0.16085492],\n",
              "       [-0.01482845],\n",
              "       [ 0.06061839],\n",
              "       [ 0.12744274],\n",
              "       [ 0.04552903],\n",
              "       [-0.03422907],\n",
              "       [-0.05794093],\n",
              "       [-0.01267283],\n",
              "       [-0.08057499],\n",
              "       [-0.02452876],\n",
              "       [-0.05794093],\n",
              "       [-0.01698407],\n",
              "       [-0.03530688],\n",
              "       [-0.06225218],\n",
              "       [-0.02560657],\n",
              "       [-0.01159501],\n",
              "       [-0.0105172 ],\n",
              "       [ 0.01750591],\n",
              "       [ 0.03151747],\n",
              "       [ 0.12313149],\n",
              "       [ 0.03043966],\n",
              "       [-0.00728377],\n",
              "       [-0.03854032],\n",
              "       [-0.03854032],\n",
              "       [ 0.02828403],\n",
              "       [-0.02991782],\n",
              "       [-0.00189471],\n",
              "       [-0.06225218],\n",
              "       [ 0.06061839],\n",
              "       [-0.07949718],\n",
              "       [ 0.05954058],\n",
              "       [-0.0902753 ],\n",
              "       [ 0.07139652],\n",
              "       [ 0.00026092],\n",
              "       [ 0.04552903],\n",
              "       [-0.03961813],\n",
              "       [-0.07195249],\n",
              "       [-0.03099563],\n",
              "       [-0.04824063],\n",
              "       [-0.06440781],\n",
              "       [ 0.09403057],\n",
              "       [-0.02345095],\n",
              "       [ 0.02073935],\n",
              "       [-0.02452876],\n",
              "       [-0.06225218],\n",
              "       [ 0.03043966],\n",
              "       [-0.04500719],\n",
              "       [-0.0374625 ],\n",
              "       [ 0.09295276],\n",
              "       [ 0.05307371],\n",
              "       [ 0.04660684],\n",
              "       [-0.00512814],\n",
              "       [-0.0105172 ],\n",
              "       [-0.03422907],\n",
              "       [-0.03315126],\n",
              "       [-0.02021751],\n",
              "       [ 0.04660684],\n",
              "       [-0.00405033],\n",
              "       [ 0.03043966],\n",
              "       [-0.05578531],\n",
              "       [-0.00405033],\n",
              "       [-0.02668438],\n",
              "       [ 0.01750591],\n",
              "       [-0.00836158],\n",
              "       [ 0.03582872],\n",
              "       [ 0.07462995],\n",
              "       [-0.04285156],\n",
              "       [-0.01159501],\n",
              "       [-0.06117437],\n",
              "       [-0.00189471],\n",
              "       [-0.04500719],\n",
              "       [-0.06332999],\n",
              "       [-0.00620595],\n",
              "       [ 0.09618619],\n",
              "       [-0.01159501],\n",
              "       [ 0.00133873],\n",
              "       [-0.03315126],\n",
              "       [ 0.00241654],\n",
              "       [-0.03099563],\n",
              "       [-0.07626374],\n",
              "       [ 0.0519959 ],\n",
              "       [-0.05039625],\n",
              "       [-0.02345095],\n",
              "       [-0.02345095],\n",
              "       [ 0.06061839],\n",
              "       [ 0.00672779],\n",
              "       [ 0.01858372],\n",
              "       [-0.01590626],\n",
              "       [-0.05147406],\n",
              "       [ 0.03259528],\n",
              "       [-0.01267283],\n",
              "       [ 0.01427248],\n",
              "       [ 0.00457217],\n",
              "       [-0.00189471],\n",
              "       [ 0.00672779],\n",
              "       [ 0.00564998],\n",
              "       [-0.06009656],\n",
              "       [ 0.0250506 ],\n",
              "       [-0.03638469],\n",
              "       [ 0.07355214],\n",
              "       [ 0.06492964],\n",
              "       [ 0.07678558],\n",
              "       [-0.0191397 ],\n",
              "       [-0.03207344],\n",
              "       [ 0.07139652],\n",
              "       [-0.03638469],\n",
              "       [-0.02884001],\n",
              "       [-0.046085  ],\n",
              "       [ 0.0433734 ],\n",
              "       [-0.00081689],\n",
              "       [-0.06009656],\n",
              "       [-0.04716281],\n",
              "       [-0.00297252],\n",
              "       [-0.02560657],\n",
              "       [-0.04716281],\n",
              "       [-0.0105172 ],\n",
              "       [-0.06871905],\n",
              "       [ 0.08864151],\n",
              "       [-0.03854032],\n",
              "       [-0.03530688],\n",
              "       [-0.00836158],\n",
              "       [ 0.00241654],\n",
              "       [ 0.03367309],\n",
              "       [-0.0547075 ],\n",
              "       [-0.00081689],\n",
              "       [-0.00620595],\n",
              "       [-0.03638469],\n",
              "       [-0.02560657],\n",
              "       [-0.02560657],\n",
              "       [-0.06440781],\n",
              "       [-0.05255187],\n",
              "       [-0.0105172 ],\n",
              "       [-0.05686312],\n",
              "       [-0.01375064],\n",
              "       [ 0.02612841],\n",
              "       [-0.08488624],\n",
              "       [-0.04392938],\n",
              "       [-0.04500719],\n",
              "       [ 0.01858372],\n",
              "       [-0.04069594],\n",
              "       [ 0.06816308],\n",
              "       [ 0.01427248],\n",
              "       [-0.03961813],\n",
              "       [ 0.01427248],\n",
              "       [ 0.01427248],\n",
              "       [-0.05362969],\n",
              "       [-0.04177375],\n",
              "       [-0.0374625 ],\n",
              "       [-0.03638469],\n",
              "       [ 0.00133873],\n",
              "       [-0.00943939],\n",
              "       [-0.02345095],\n",
              "       [ 0.02612841],\n",
              "       [ 0.02397278],\n",
              "       [-0.00512814],\n",
              "       [-0.02237314],\n",
              "       [-0.02345095],\n",
              "       [-0.02991782],\n",
              "       [ 0.03906215],\n",
              "       [-0.03530688],\n",
              "       [-0.03099563],\n",
              "       [-0.00620595],\n",
              "       [-0.01590626],\n",
              "       [ 0.02289497],\n",
              "       [-0.04177375],\n",
              "       [ 0.12852056],\n",
              "       [ 0.08109682],\n",
              "       [ 0.03798434],\n",
              "       [ 0.00672779],\n",
              "       [-0.01159501],\n",
              "       [ 0.00349435],\n",
              "       [-0.05578531],\n",
              "       [ 0.06169621],\n",
              "       [ 0.09295276],\n",
              "       [-0.03854032],\n",
              "       [ 0.04984027],\n",
              "       [ 0.06169621],\n",
              "       [ 0.04984027],\n",
              "       [ 0.08001901],\n",
              "       [ 0.097264  ],\n",
              "       [-0.04177375],\n",
              "       [ 0.03906215],\n",
              "       [-0.02237314],\n",
              "       [ 0.08540807],\n",
              "       [ 0.00672779],\n",
              "       [ 0.06816308],\n",
              "       [ 0.05522933],\n",
              "       [ 0.0519959 ],\n",
              "       [-0.05794093],\n",
              "       [-0.01159501],\n",
              "       [-0.00943939],\n",
              "       [-0.02991782],\n",
              "       [-0.04069594],\n",
              "       [ 0.01535029],\n",
              "       [-0.04177375],\n",
              "       [-0.046085  ],\n",
              "       [ 0.06061839],\n",
              "       [ 0.05630715],\n",
              "       [-0.05578531],\n",
              "       [-0.00405033],\n",
              "       [-0.03207344],\n",
              "       [-0.03099563],\n",
              "       [-0.0374625 ],\n",
              "       [-0.02237314],\n",
              "       [ 0.00457217],\n",
              "       [-0.03530688],\n",
              "       [-0.00728377],\n",
              "       [ 0.06169621],\n",
              "       [ 0.05954058],\n",
              "       [-0.0277622 ],\n",
              "       [ 0.05630715],\n",
              "       [ 0.02720622],\n",
              "       [-0.0547075 ],\n",
              "       [ 0.01535029],\n",
              "       [ 0.01966154],\n",
              "       [ 0.01858372],\n",
              "       [-0.06979687],\n",
              "       [-0.00297252],\n",
              "       [-0.06548562],\n",
              "       [ 0.00564998],\n",
              "       [-0.02021751],\n",
              "       [-0.02560657],\n",
              "       [ 0.00133873],\n",
              "       [-0.08919748],\n",
              "       [ 0.04013997],\n",
              "       [ 0.00996123],\n",
              "       [-0.00512814],\n",
              "       [ 0.0347509 ],\n",
              "       [ 0.04013997],\n",
              "       [ 0.04229559],\n",
              "       [-0.06656343],\n",
              "       [ 0.00133873],\n",
              "       [-0.01590626],\n",
              "       [-0.046085  ],\n",
              "       [ 0.01966154],\n",
              "       [ 0.01858372],\n",
              "       [ 0.08864151],\n",
              "       [-0.00836158],\n",
              "       [ 0.00457217],\n",
              "       [-0.02237314],\n",
              "       [-0.0730303 ],\n",
              "       [ 0.00564998],\n",
              "       [ 0.04121778],\n",
              "       [-0.01806189],\n",
              "       [-0.07518593],\n",
              "       [-0.00836158],\n",
              "       [-0.03207344],\n",
              "       [ 0.04984027],\n",
              "       [ 0.01427248],\n",
              "       [-0.06332999],\n",
              "       [-0.06117437],\n",
              "       [ 0.11127556],\n",
              "       [ 0.05630715],\n",
              "       [ 0.02828403],\n",
              "       [-0.07734155],\n",
              "       [-0.01698407],\n",
              "       [-0.02345095],\n",
              "       [ 0.00996123],\n",
              "       [ 0.00996123],\n",
              "       [ 0.05954058],\n",
              "       [ 0.13714305],\n",
              "       [-0.00728377],\n",
              "       [-0.01806189],\n",
              "       [-0.02021751],\n",
              "       [-0.0105172 ],\n",
              "       [ 0.04768465],\n",
              "       [-0.0816528 ],\n",
              "       [ 0.03690653],\n",
              "       [ 0.00888341],\n",
              "       [-0.0816528 ],\n",
              "       [ 0.03906215],\n",
              "       [ 0.01427248],\n",
              "       [ 0.04552903],\n",
              "       [ 0.08864151],\n",
              "       [-0.03422907],\n",
              "       [-0.02129532],\n",
              "       [-0.00728377],\n",
              "       [-0.00943939],\n",
              "       [-0.00943939],\n",
              "       [ 0.01211685],\n",
              "       [-0.06548562],\n",
              "       [ 0.01750591],\n",
              "       [ 0.03690653],\n",
              "       [-0.04069594],\n",
              "       [ 0.03367309],\n",
              "       [-0.046085  ],\n",
              "       [-0.04069594],\n",
              "       [ 0.05415152],\n",
              "       [-0.00728377],\n",
              "       [-0.06548562],\n",
              "       [ 0.02612841],\n",
              "       [-0.06440781],\n",
              "       [-0.05039625],\n",
              "       [ 0.07139652],\n",
              "       [ 0.00564998],\n",
              "       [ 0.0164281 ],\n",
              "       [-0.02452876],\n",
              "       [-0.00836158],\n",
              "       [ 0.02828403],\n",
              "       [ 0.0250506 ],\n",
              "       [ 0.06924089],\n",
              "       [ 0.09295276],\n",
              "       [ 0.05846277],\n",
              "       [ 0.02397278],\n",
              "       [ 0.05415152],\n",
              "       [-0.06548562],\n",
              "       [-0.00620595],\n",
              "       [ 0.00457217],\n",
              "       [-0.0730303 ],\n",
              "       [-0.07087468],\n",
              "       [-0.07410811],\n",
              "       [-0.05794093],\n",
              "       [ 0.03043966],\n",
              "       [-0.07734155],\n",
              "       [ 0.02073935],\n",
              "       [-0.03099563],\n",
              "       [-0.01375064],\n",
              "       [-0.00405033],\n",
              "       [-0.00405033],\n",
              "       [-0.01806189],\n",
              "       [ 0.05954058]])"
            ]
          },
          "metadata": {},
          "execution_count": 264
        }
      ]
    },
    {
      "cell_type": "code",
      "source": [
        "train_input_dia.shape"
      ],
      "metadata": {
        "colab": {
          "base_uri": "https://localhost:8080/"
        },
        "id": "7wTJ-Bv6CpZT",
        "outputId": "5d869d74-f288-4d99-b5da-349c5f423f5e"
      },
      "execution_count": 265,
      "outputs": [
        {
          "output_type": "execute_result",
          "data": {
            "text/plain": [
              "(331, 1)"
            ]
          },
          "metadata": {},
          "execution_count": 265
        }
      ]
    },
    {
      "cell_type": "code",
      "source": [
        "# 1차원 벡터\n",
        "# 2차원 행렬\n",
        "# 3차원 텐서"
      ],
      "metadata": {
        "id": "1M5pOHTvFjX2"
      },
      "execution_count": null,
      "outputs": []
    },
    {
      "cell_type": "code",
      "source": [
        "# KNN 회귀모델선언\n",
        "# 모델학습\n",
        "# 스코어 확인\n",
        "# mae값 출력"
      ],
      "metadata": {
        "id": "H0uzHxCIFjaa"
      },
      "execution_count": null,
      "outputs": []
    },
    {
      "cell_type": "code",
      "source": [
        "knn = KNeighborsRegressor()\n",
        "knn.fit(train_input_dia,train_target_dia)\n",
        "knn.score(test_input_dia,test_target_dia)\n"
      ],
      "metadata": {
        "colab": {
          "base_uri": "https://localhost:8080/"
        },
        "id": "R0hSgtW1JjZv",
        "outputId": "ba683f8d-7d96-4bc4-f5a2-a9412450deb2"
      },
      "execution_count": 300,
      "outputs": [
        {
          "output_type": "execute_result",
          "data": {
            "text/plain": [
              "0.19793310932408736"
            ]
          },
          "metadata": {},
          "execution_count": 300
        }
      ]
    },
    {
      "cell_type": "code",
      "source": [
        "test_pred = knn.predict(test_input_dia)"
      ],
      "metadata": {
        "id": "ybDbd2SgJjh5"
      },
      "execution_count": 301,
      "outputs": []
    },
    {
      "cell_type": "code",
      "source": [
        "mae = mean_absolute_error(test_target_dia, test_pred)\n",
        "print(mae)"
      ],
      "metadata": {
        "colab": {
          "base_uri": "https://localhost:8080/"
        },
        "id": "j-RJuy7fJjsg",
        "outputId": "59de518e-adbd-4cd6-ce69-0f8c4744998d"
      },
      "execution_count": 302,
      "outputs": [
        {
          "output_type": "stream",
          "name": "stdout",
          "text": [
            "51.17837837837839\n"
          ]
        }
      ]
    },
    {
      "cell_type": "code",
      "source": [
        "x**2"
      ],
      "metadata": {
        "colab": {
          "base_uri": "https://localhost:8080/"
        },
        "id": "fnS-rHNC5uhy",
        "outputId": "b25a6bc6-948e-4a3e-b05e-df22583cc712"
      },
      "execution_count": 303,
      "outputs": [
        {
          "output_type": "execute_result",
          "data": {
            "text/plain": [
              "array([ 70.56, 187.69, 225.  ])"
            ]
          },
          "metadata": {},
          "execution_count": 303
        }
      ]
    },
    {
      "cell_type": "code",
      "source": [
        "# 다항회귀"
      ],
      "metadata": {
        "id": "zwo0_VGtFjdG"
      },
      "execution_count": 304,
      "outputs": []
    },
    {
      "cell_type": "code",
      "source": [
        "x =np.array([1,2,3])"
      ],
      "metadata": {
        "id": "purhlsJPNhB9"
      },
      "execution_count": 305,
      "outputs": []
    },
    {
      "cell_type": "code",
      "source": [
        "train_poly = np.column_stack((train_input**2, train_input))\n",
        "test_poly = np.column_stack((test_input**2, test_input))\n"
      ],
      "metadata": {
        "id": "kfq1loMRNhEw"
      },
      "execution_count": 306,
      "outputs": []
    },
    {
      "cell_type": "code",
      "source": [
        "len(train_input)"
      ],
      "metadata": {
        "colab": {
          "base_uri": "https://localhost:8080/"
        },
        "id": "zu5YNL_FBKOG",
        "outputId": "7d5d5de1-d8e2-4097-94b4-be9d180c55ad"
      },
      "execution_count": 307,
      "outputs": [
        {
          "output_type": "execute_result",
          "data": {
            "text/plain": [
              "42"
            ]
          },
          "metadata": {},
          "execution_count": 307
        }
      ]
    },
    {
      "cell_type": "code",
      "source": [
        "len(train_target)"
      ],
      "metadata": {
        "colab": {
          "base_uri": "https://localhost:8080/"
        },
        "id": "rnJQs8CMBN2W",
        "outputId": "37848c02-775a-4d99-ab10-4ede5b35368c"
      },
      "execution_count": 308,
      "outputs": [
        {
          "output_type": "execute_result",
          "data": {
            "text/plain": [
              "42"
            ]
          },
          "metadata": {},
          "execution_count": 308
        }
      ]
    },
    {
      "cell_type": "code",
      "source": [
        "from sklearn.linear_model import LinearRegression"
      ],
      "metadata": {
        "id": "z4bueJtlN8mP"
      },
      "execution_count": 272,
      "outputs": []
    },
    {
      "cell_type": "code",
      "source": [
        "lr = LinearRegression()\n",
        "lr.fit(train_poly, train_target)\n",
        "lr.score(test_poly, test_target)\n"
      ],
      "metadata": {
        "colab": {
          "base_uri": "https://localhost:8080/"
        },
        "id": "lLgs3a_ON8o2",
        "outputId": "6b90fad0-04c0-4bdd-8953-b781c73ffa02"
      },
      "execution_count": 309,
      "outputs": [
        {
          "output_type": "execute_result",
          "data": {
            "text/plain": [
              "0.9834512361883486"
            ]
          },
          "metadata": {},
          "execution_count": 309
        }
      ]
    },
    {
      "cell_type": "code",
      "source": [
        "lr.predict([[50**2,50]])"
      ],
      "metadata": {
        "colab": {
          "base_uri": "https://localhost:8080/"
        },
        "id": "7IxOAC0a6vkt",
        "outputId": "43b484a9-7e65-497f-ea09-d6ddfaed4a71"
      },
      "execution_count": 310,
      "outputs": [
        {
          "output_type": "execute_result",
          "data": {
            "text/plain": [
              "array([1505.63742339])"
            ]
          },
          "metadata": {},
          "execution_count": 310
        }
      ]
    },
    {
      "cell_type": "code",
      "source": [
        "lr.predict([[15**2,15]])"
      ],
      "metadata": {
        "id": "IAgjMnQy6vu-",
        "colab": {
          "base_uri": "https://localhost:8080/"
        },
        "outputId": "63f75d33-11d4-4068-d7b9-b524399c8d03"
      },
      "execution_count": 311,
      "outputs": [
        {
          "output_type": "execute_result",
          "data": {
            "text/plain": [
              "array([12.97651294])"
            ]
          },
          "metadata": {},
          "execution_count": 311
        }
      ]
    },
    {
      "cell_type": "code",
      "source": [
        "point = np.arange(15,50)\n",
        "plt.scatter(train_input, train_target)\n",
        "plt.plot(point, 0.9*point**2 - 14.6*point + 34.5)\n",
        "plt.scatter([50],[1574],marker='^')\n",
        "plt.xlabel('length')\n",
        "plt.ylabel('weight')\n",
        "plt.show()"
      ],
      "metadata": {
        "colab": {
          "base_uri": "https://localhost:8080/",
          "height": 449
        },
        "id": "f2GKGrBWN8t-",
        "outputId": "d13c52a5-7032-4e42-c40c-9ef4725ed170"
      },
      "execution_count": 313,
      "outputs": [
        {
          "output_type": "display_data",
          "data": {
            "text/plain": [
              "<Figure size 640x480 with 1 Axes>"
            ],
            "image/png": "[encoded data removed]"
          },
          "metadata": {}
        }
      ]
    },
    {
      "cell_type": "code",
      "source": [
        "import pandas as pd\n",
        "df = pd.read_csv('https://bit.ly/perch_csv_data')\n",
        "perch_full = df.to_numpy()"
      ],
      "metadata": {
        "id": "24cXITpANhG_"
      },
      "execution_count": 314,
      "outputs": []
    },
    {
      "cell_type": "code",
      "source": [
        "perch_full[:3]"
      ],
      "metadata": {
        "colab": {
          "base_uri": "https://localhost:8080/"
        },
        "id": "n-pby2zpQCJj",
        "outputId": "5294ad01-4dd4-4739-fdae-773d1af7d3e3"
      },
      "execution_count": 246,
      "outputs": [
        {
          "output_type": "execute_result",
          "data": {
            "text/plain": [
              "array([[ 8.4 ,  2.11,  1.41],\n",
              "       [13.7 ,  3.53,  2.  ],\n",
              "       [15.  ,  3.82,  2.43]])"
            ]
          },
          "metadata": {},
          "execution_count": 246
        }
      ]
    },
    {
      "cell_type": "code",
      "source": [
        "perch_weight = np.array([5.9, 32.0, 40.0, 51.5, 70.0, 100.0, 78.0, 80.0, 85.0, 85.0, 110.0,\n",
        "       115.0, 125.0, 130.0, 120.0, 120.0, 130.0, 135.0, 110.0, 130.0,\n",
        "       150.0, 145.0, 150.0, 170.0, 225.0, 145.0, 188.0, 180.0, 197.0,\n",
        "       218.0, 300.0, 260.0, 265.0, 250.0, 250.0, 300.0, 320.0, 514.0,\n",
        "       556.0, 840.0, 685.0, 700.0, 700.0, 690.0, 900.0, 650.0, 820.0,\n",
        "       850.0, 900.0, 1015.0, 820.0, 1100.0, 1000.0, 1100.0, 1000.0,\n",
        "       1000.0])"
      ],
      "metadata": {
        "id": "mv2K0NOTQCMh"
      },
      "execution_count": null,
      "outputs": []
    },
    {
      "cell_type": "code",
      "source": [
        "train_input , test_input, train_target, test_target = train_test_split(perch_full, perch_weight, random_state=42)"
      ],
      "metadata": {
        "id": "sqpzC8ss-tbX"
      },
      "execution_count": 247,
      "outputs": []
    },
    {
      "cell_type": "code",
      "source": [
        "from sklearn.preprocessing import PolynomialFeatures"
      ],
      "metadata": {
        "id": "2OPL1owm-whl"
      },
      "execution_count": 248,
      "outputs": []
    },
    {
      "cell_type": "code",
      "source": [
        "train_input , test_input, train_target, test_target = train_test_split(perch_full, perch_weight, random_state=42)"
      ],
      "metadata": {
        "id": "WBnZttUJQCPT"
      },
      "execution_count": null,
      "outputs": []
    },
    {
      "cell_type": "code",
      "source": [
        "poly = PolynomialFeatures(include_bias=False)\n",
        "poly.fit(train_input)\n",
        "train_poly = poly.transform(train_input)\n",
        "test_poly = poly.transform(test_input)"
      ],
      "metadata": {
        "id": "5gSirwy4R4Jn"
      },
      "execution_count": 249,
      "outputs": []
    },
    {
      "cell_type": "code",
      "source": [
        "train_input[0], train_poly[0]"
      ],
      "metadata": {
        "colab": {
          "base_uri": "https://localhost:8080/"
        },
        "id": "J42T23vUR4L_",
        "outputId": "f517f279-217a-4d80-ccfa-c8d454e5a0b9"
      },
      "execution_count": 250,
      "outputs": [
        {
          "output_type": "execute_result",
          "data": {
            "text/plain": [
              "(array([19.6 ,  5.14,  3.04]),\n",
              " array([ 19.6   ,   5.14  ,   3.04  , 384.16  , 100.744 ,  59.584 ,\n",
              "         26.4196,  15.6256,   9.2416]))"
            ]
          },
          "metadata": {},
          "execution_count": 250
        }
      ]
    },
    {
      "cell_type": "code",
      "source": [
        "poly = PolynomialFeatures(degree=5, include_bias=False)\n",
        "poly.fit(train_input)\n",
        "train_poly = poly.transform(train_input)\n",
        "test_poly = poly.transform(test_input)"
      ],
      "metadata": {
        "id": "Ed8BtwDJPN-F"
      },
      "execution_count": 251,
      "outputs": []
    },
    {
      "cell_type": "code",
      "source": [
        "data1 = [1, 2, 3, 4, 5, ..., 55]  # 특성"
      ],
      "metadata": {
        "id": "BB_Jt_Qt-409"
      },
      "execution_count": 253,
      "outputs": []
    },
    {
      "cell_type": "code",
      "source": [
        "# 다항 회귀 모델을 훈련시킵니다.\n",
        "lr.fit(train_poly, train_target)\n",
        "# 훈련 데이터에 대한 성능을 평가\n",
        "lr.score(train_poly, train_target)"
      ],
      "metadata": {
        "colab": {
          "base_uri": "https://localhost:8080/"
        },
        "id": "vKIbTaNs-65N",
        "outputId": "58a6b7f3-dc6a-403d-b3c7-86c3576766fa"
      },
      "execution_count": 254,
      "outputs": [
        {
          "output_type": "execute_result",
          "data": {
            "text/plain": [
              "0.9999999999996433"
            ]
          },
          "metadata": {},
          "execution_count": 254
        }
      ]
    },
    {
      "cell_type": "code",
      "source": [
        "lr.score(test_poly, test_target)"
      ],
      "metadata": {
        "colab": {
          "base_uri": "https://localhost:8080/"
        },
        "id": "8PfuR2FQ-8se",
        "outputId": "8edd44cb-fb18-4c44-b527-6589fedbf812"
      },
      "execution_count": 255,
      "outputs": [
        {
          "output_type": "execute_result",
          "data": {
            "text/plain": [
              "-144.40579436844948"
            ]
          },
          "metadata": {},
          "execution_count": 255
        }
      ]
    },
    {
      "cell_type": "code",
      "source": [
        "#오후 수업\n",
        "# 당뇨 데이터\n",
        "# 릿지 ,라쏘 ,파이퍼 파라미터 조정"
      ],
      "metadata": {
        "id": "d3e-zqW6oxFe"
      },
      "execution_count": null,
      "outputs": []
    },
    {
      "cell_type": "code",
      "source": [
        "from sklearn.datasets import load_diabetes\n",
        "diabetes = load_diabetes()\n",
        "inpout_data = diabetes['data']\n",
        "target_data = diabetes['target']"
      ],
      "metadata": {
        "id": "_i4DscqVmQeS"
      },
      "execution_count": null,
      "outputs": []
    },
    {
      "cell_type": "code",
      "source": [
        "train_input_dia, test_input_dia, train_target_dia, test_target_dia = train_test_split(input_data, target_data, random_state=2)"
      ],
      "metadata": {
        "id": "SxOL49OPmQhQ"
      },
      "execution_count": null,
      "outputs": []
    },
    {
      "cell_type": "code",
      "source": [
        "poly = PolynomialFeatures(degree=1, include_bias=False)\n",
        "poly.fit(train_input_dia)\n",
        "train_poly_dia = poly.transform(train_input_dia)\n",
        "test_poly_dia = poly.transform(test_input_dia)"
      ],
      "metadata": {
        "id": "d23d8GLInsgV"
      },
      "execution_count": null,
      "outputs": []
    },
    {
      "cell_type": "code",
      "source": [
        "lr = LinearRegression()\n",
        "lr.fit(train_poly_dia, train_target_dia)"
      ],
      "metadata": {
        "colab": {
          "base_uri": "https://localhost:8080/",
          "height": 74
        },
        "id": "y8Pf1vIxnsi7",
        "outputId": "986b2b76-c0bc-426e-b1f2-2dec614f4926"
      },
      "execution_count": null,
      "outputs": [
        {
          "output_type": "execute_result",
          "data": {
            "text/plain": [
              "LinearRegression()"
            ],
            "text/html": [
              "<style>#sk-container-id-8 {color: black;background-color: white;}#sk-container-id-8 pre{padding: 0;}#sk-container-id-8 div.sk-toggleable {background-color: white;}#sk-container-id-8 label.sk-toggleable__label {cursor: pointer;display: block;width: 100%;margin-bottom: 0;padding: 0.3em;box-sizing: border-box;text-align: center;}#sk-container-id-8 label.sk-toggleable__label-arrow:before {content: \"▸\";float: left;margin-right: 0.25em;color: #696969;}#sk-container-id-8 label.sk-toggleable__label-arrow:hover:before {color: black;}#sk-container-id-8 div.sk-estimator:hover label.sk-toggleable__label-arrow:before {color: black;}#sk-container-id-8 div.sk-toggleable__content {max-height: 0;max-width: 0;overflow: hidden;text-align: left;background-color: #f0f8ff;}#sk-container-id-8 div.sk-toggleable__content pre {margin: 0.2em;color: black;border-radius: 0.25em;background-color: #f0f8ff;}#sk-container-id-8 input.sk-toggleable__control:checked~div.sk-toggleable__content {max-height: 200px;max-width: 100%;overflow: auto;}#sk-container-id-8 input.sk-toggleable__control:checked~label.sk-toggleable__label-arrow:before {content: \"▾\";}#sk-container-id-8 div.sk-estimator input.sk-toggleable__control:checked~label.sk-toggleable__label {background-color: #d4ebff;}#sk-container-id-8 div.sk-label input.sk-toggleable__control:checked~label.sk-toggleable__label {background-color: #d4ebff;}#sk-container-id-8 input.sk-hidden--visually {border: 0;clip: rect(1px 1px 1px 1px);clip: rect(1px, 1px, 1px, 1px);height: 1px;margin: -1px;overflow: hidden;padding: 0;position: absolute;width: 1px;}#sk-container-id-8 div.sk-estimator {font-family: monospace;background-color: #f0f8ff;border: 1px dotted black;border-radius: 0.25em;box-sizing: border-box;margin-bottom: 0.5em;}#sk-container-id-8 div.sk-estimator:hover {background-color: #d4ebff;}#sk-container-id-8 div.sk-parallel-item::after {content: \"\";width: 100%;border-bottom: 1px solid gray;flex-grow: 1;}#sk-container-id-8 div.sk-label:hover label.sk-toggleable__label {background-color: #d4ebff;}#sk-container-id-8 div.sk-serial::before {content: \"\";position: absolute;border-left: 1px solid gray;box-sizing: border-box;top: 0;bottom: 0;left: 50%;z-index: 0;}#sk-container-id-8 div.sk-serial {display: flex;flex-direction: column;align-items: center;background-color: white;padding-right: 0.2em;padding-left: 0.2em;position: relative;}#sk-container-id-8 div.sk-item {position: relative;z-index: 1;}#sk-container-id-8 div.sk-parallel {display: flex;align-items: stretch;justify-content: center;background-color: white;position: relative;}#sk-container-id-8 div.sk-item::before, #sk-container-id-8 div.sk-parallel-item::before {content: \"\";position: absolute;border-left: 1px solid gray;box-sizing: border-box;top: 0;bottom: 0;left: 50%;z-index: -1;}#sk-container-id-8 div.sk-parallel-item {display: flex;flex-direction: column;z-index: 1;position: relative;background-color: white;}#sk-container-id-8 div.sk-parallel-item:first-child::after {align-self: flex-end;width: 50%;}#sk-container-id-8 div.sk-parallel-item:last-child::after {align-self: flex-start;width: 50%;}#sk-container-id-8 div.sk-parallel-item:only-child::after {width: 0;}#sk-container-id-8 div.sk-dashed-wrapped {border: 1px dashed gray;margin: 0 0.4em 0.5em 0.4em;box-sizing: border-box;padding-bottom: 0.4em;background-color: white;}#sk-container-id-8 div.sk-label label {font-family: monospace;font-weight: bold;display: inline-block;line-height: 1.2em;}#sk-container-id-8 div.sk-label-container {text-align: center;}#sk-container-id-8 div.sk-container {/* jupyter's `normalize.less` sets `[hidden] { display: none; }` but bootstrap.min.css set `[hidden] { display: none !important; }` so we also need the `!important` here to be able to override the default hidden behavior on the sphinx rendered scikit-learn.org. See: https://github.com/scikit-learn/scikit-learn/issues/21755 */display: inline-block !important;position: relative;}#sk-container-id-8 div.sk-text-repr-fallback {display: none;}</style><div id=\"sk-container-id-8\" class=\"sk-top-container\"><div class=\"sk-text-repr-fallback\"><pre>LinearRegression()</pre><b>In a Jupyter environment, please rerun this cell to show the HTML representation or trust the notebook. <br />On GitHub, the HTML representation is unable to render, please try loading this page with nbviewer.org.</b></div><div class=\"sk-container\" hidden><div class=\"sk-item\"><div class=\"sk-estimator sk-toggleable\"><input class=\"sk-toggleable__control sk-hidden--visually\" id=\"sk-estimator-id-8\" type=\"checkbox\" checked><label for=\"sk-estimator-id-8\" class=\"sk-toggleable__label sk-toggleable__label-arrow\">LinearRegression</label><div class=\"sk-toggleable__content\"><pre>LinearRegression()</pre></div></div></div></div></div>"
            ]
          },
          "metadata": {},
          "execution_count": 193
        }
      ]
    },
    {
      "cell_type": "code",
      "source": [
        "lr.score(train_poly_dia, train_target_dia)"
      ],
      "metadata": {
        "colab": {
          "base_uri": "https://localhost:8080/"
        },
        "id": "mcNv6QE-nM5v",
        "outputId": "58e85f42-6ec5-4dee-a147-d2924fb064c8"
      },
      "execution_count": null,
      "outputs": [
        {
          "output_type": "execute_result",
          "data": {
            "text/plain": [
              "0.536024169786982"
            ]
          },
          "metadata": {},
          "execution_count": 194
        }
      ]
    },
    {
      "cell_type": "code",
      "source": [
        "lr.score(test_poly_dia,test_target_dia)"
      ],
      "metadata": {
        "colab": {
          "base_uri": "https://localhost:8080/"
        },
        "id": "DobymA_Nogdt",
        "outputId": "56da07f8-94e9-48ce-d437-9aba559d7be2"
      },
      "execution_count": null,
      "outputs": [
        {
          "output_type": "execute_result",
          "data": {
            "text/plain": [
              "0.4429562235529033"
            ]
          },
          "metadata": {},
          "execution_count": 195
        }
      ]
    },
    {
      "cell_type": "code",
      "source": [
        "from sklearn.preprocessing import StandardScaler\n",
        "# StandardScaler 객체를 생성\n",
        "ss = StandardScaler()\n",
        "\n",
        "# 훈련 데이터를 표준화 (정규화)\n",
        "train_scaled = ss.fit_transform(train_poly)\n",
        "\n",
        "# 테스트 데이터도 같은 기준으로 표준화 (정규화)\n",
        "test_scaled = ss.transform(test_poly)\n"
      ],
      "metadata": {
        "id": "9UXJBWR3oggS"
      },
      "execution_count": null,
      "outputs": []
    },
    {
      "cell_type": "code",
      "source": [
        "from sklearn.linear_model import Ridge\n",
        "\n",
        "ridge = Ridge()\n",
        "ridge.fit(train_scaled, train_target)"
      ],
      "metadata": {
        "colab": {
          "base_uri": "https://localhost:8080/",
          "height": 74
        },
        "id": "imUxVV83ogiw",
        "outputId": "4a276ad3-fb12-41d3-9580-927665e5d00a"
      },
      "execution_count": null,
      "outputs": [
        {
          "output_type": "execute_result",
          "data": {
            "text/plain": [
              "Ridge()"
            ],
            "text/html": [
              "<style>#sk-container-id-9 {color: black;background-color: white;}#sk-container-id-9 pre{padding: 0;}#sk-container-id-9 div.sk-toggleable {background-color: white;}#sk-container-id-9 label.sk-toggleable__label {cursor: pointer;display: block;width: 100%;margin-bottom: 0;padding: 0.3em;box-sizing: border-box;text-align: center;}#sk-container-id-9 label.sk-toggleable__label-arrow:before {content: \"▸\";float: left;margin-right: 0.25em;color: #696969;}#sk-container-id-9 label.sk-toggleable__label-arrow:hover:before {color: black;}#sk-container-id-9 div.sk-estimator:hover label.sk-toggleable__label-arrow:before {color: black;}#sk-container-id-9 div.sk-toggleable__content {max-height: 0;max-width: 0;overflow: hidden;text-align: left;background-color: #f0f8ff;}#sk-container-id-9 div.sk-toggleable__content pre {margin: 0.2em;color: black;border-radius: 0.25em;background-color: #f0f8ff;}#sk-container-id-9 input.sk-toggleable__control:checked~div.sk-toggleable__content {max-height: 200px;max-width: 100%;overflow: auto;}#sk-container-id-9 input.sk-toggleable__control:checked~label.sk-toggleable__label-arrow:before {content: \"▾\";}#sk-container-id-9 div.sk-estimator input.sk-toggleable__control:checked~label.sk-toggleable__label {background-color: #d4ebff;}#sk-container-id-9 div.sk-label input.sk-toggleable__control:checked~label.sk-toggleable__label {background-color: #d4ebff;}#sk-container-id-9 input.sk-hidden--visually {border: 0;clip: rect(1px 1px 1px 1px);clip: rect(1px, 1px, 1px, 1px);height: 1px;margin: -1px;overflow: hidden;padding: 0;position: absolute;width: 1px;}#sk-container-id-9 div.sk-estimator {font-family: monospace;background-color: #f0f8ff;border: 1px dotted black;border-radius: 0.25em;box-sizing: border-box;margin-bottom: 0.5em;}#sk-container-id-9 div.sk-estimator:hover {background-color: #d4ebff;}#sk-container-id-9 div.sk-parallel-item::after {content: \"\";width: 100%;border-bottom: 1px solid gray;flex-grow: 1;}#sk-container-id-9 div.sk-label:hover label.sk-toggleable__label {background-color: #d4ebff;}#sk-container-id-9 div.sk-serial::before {content: \"\";position: absolute;border-left: 1px solid gray;box-sizing: border-box;top: 0;bottom: 0;left: 50%;z-index: 0;}#sk-container-id-9 div.sk-serial {display: flex;flex-direction: column;align-items: center;background-color: white;padding-right: 0.2em;padding-left: 0.2em;position: relative;}#sk-container-id-9 div.sk-item {position: relative;z-index: 1;}#sk-container-id-9 div.sk-parallel {display: flex;align-items: stretch;justify-content: center;background-color: white;position: relative;}#sk-container-id-9 div.sk-item::before, #sk-container-id-9 div.sk-parallel-item::before {content: \"\";position: absolute;border-left: 1px solid gray;box-sizing: border-box;top: 0;bottom: 0;left: 50%;z-index: -1;}#sk-container-id-9 div.sk-parallel-item {display: flex;flex-direction: column;z-index: 1;position: relative;background-color: white;}#sk-container-id-9 div.sk-parallel-item:first-child::after {align-self: flex-end;width: 50%;}#sk-container-id-9 div.sk-parallel-item:last-child::after {align-self: flex-start;width: 50%;}#sk-container-id-9 div.sk-parallel-item:only-child::after {width: 0;}#sk-container-id-9 div.sk-dashed-wrapped {border: 1px dashed gray;margin: 0 0.4em 0.5em 0.4em;box-sizing: border-box;padding-bottom: 0.4em;background-color: white;}#sk-container-id-9 div.sk-label label {font-family: monospace;font-weight: bold;display: inline-block;line-height: 1.2em;}#sk-container-id-9 div.sk-label-container {text-align: center;}#sk-container-id-9 div.sk-container {/* jupyter's `normalize.less` sets `[hidden] { display: none; }` but bootstrap.min.css set `[hidden] { display: none !important; }` so we also need the `!important` here to be able to override the default hidden behavior on the sphinx rendered scikit-learn.org. See: https://github.com/scikit-learn/scikit-learn/issues/21755 */display: inline-block !important;position: relative;}#sk-container-id-9 div.sk-text-repr-fallback {display: none;}</style><div id=\"sk-container-id-9\" class=\"sk-top-container\"><div class=\"sk-text-repr-fallback\"><pre>Ridge()</pre><b>In a Jupyter environment, please rerun this cell to show the HTML representation or trust the notebook. <br />On GitHub, the HTML representation is unable to render, please try loading this page with nbviewer.org.</b></div><div class=\"sk-container\" hidden><div class=\"sk-item\"><div class=\"sk-estimator sk-toggleable\"><input class=\"sk-toggleable__control sk-hidden--visually\" id=\"sk-estimator-id-9\" type=\"checkbox\" checked><label for=\"sk-estimator-id-9\" class=\"sk-toggleable__label sk-toggleable__label-arrow\">Ridge</label><div class=\"sk-toggleable__content\"><pre>Ridge()</pre></div></div></div></div></div>"
            ]
          },
          "metadata": {},
          "execution_count": 197
        }
      ]
    },
    {
      "cell_type": "code",
      "source": [
        "ridge.score(test_scaled,test_target)"
      ],
      "metadata": {
        "colab": {
          "base_uri": "https://localhost:8080/"
        },
        "id": "jNmX9ROQrSXX",
        "outputId": "4827dc10-74c6-4370-bb63-dced1ca005e5"
      },
      "execution_count": null,
      "outputs": [
        {
          "output_type": "execute_result",
          "data": {
            "text/plain": [
              "0.9835057194929057"
            ]
          },
          "metadata": {},
          "execution_count": 199
        }
      ]
    },
    {
      "cell_type": "code",
      "source": [
        "ridge.score(test_scaled,test_target)"
      ],
      "metadata": {
        "colab": {
          "base_uri": "https://localhost:8080/"
        },
        "id": "XtGP7bVArSaO",
        "outputId": "084bb26e-c0b0-4658-aac8-422b75fc7410"
      },
      "execution_count": null,
      "outputs": [
        {
          "output_type": "execute_result",
          "data": {
            "text/plain": [
              "0.9835057194929057"
            ]
          },
          "metadata": {},
          "execution_count": 200
        }
      ]
    },
    {
      "cell_type": "code",
      "source": [
        "import matplotlib.pyplot as plot"
      ],
      "metadata": {
        "id": "zWjGVIzxrScU"
      },
      "execution_count": null,
      "outputs": []
    },
    {
      "cell_type": "code",
      "source": [
        "train_score = []\n",
        "test_score = []\n",
        "alpha_lst = [0.001,0.01,0.1,1,10,100]\n",
        "for alpha in alpha_lst:\n",
        "  ridge = Ridge(alpha=alpha)\n",
        "  ridge.fit(train_scaled,train_target)\n",
        "  score_train = ridge.score(train_scaled,train_target)\n",
        "  train_score.append(score_train)\n",
        "  score_test = ridge.score(test_scaled,test_target)\n",
        "  test_score.append(score_test)"
      ],
      "metadata": {
        "id": "8QUiP0hcshud"
      },
      "execution_count": null,
      "outputs": []
    },
    {
      "cell_type": "code",
      "source": [
        "\n",
        "\n",
        "# alpha에 대한 R^2 값을 로그 스케일로 플로팅\n",
        "plt.plot(np.log10(alpha_lst), train_score, label='Train Score')\n",
        "plt.plot(np.log10(alpha_lst), test_score, label='Test Score')\n",
        "plt.xlabel('R^2')\n",
        "\n",
        "\n",
        "plt.show()\n",
        "\n",
        "\n",
        "\n"
      ],
      "metadata": {
        "colab": {
          "base_uri": "https://localhost:8080/",
          "height": 449
        },
        "id": "gPNaaxTvvNkz",
        "outputId": "ad8dbcc2-7c9f-43e1-a933-87bcb981227f"
      },
      "execution_count": null,
      "outputs": [
        {
          "output_type": "display_data",
          "data": {
            "text/plain": [
              "<Figure size 640x480 with 1 Axes>"
            ],
            "image/png": "[encoded data removed]"
          },
          "metadata": {}
        }
      ]
    },
    {
      "cell_type": "code",
      "source": [
        "#라쏘 모델 실습\n",
        "from sklearn.linear_model import Lasso\n",
        "\n",
        "lasso = Lasso()\n",
        "lasso.fit(train_scaled, train_target)\n"
      ],
      "metadata": {
        "colab": {
          "base_uri": "https://localhost:8080/",
          "height": 74
        },
        "id": "bM5p-d2XnM8V",
        "outputId": "53e5e2d9-fa3a-410d-9c9c-3216efcb58f0"
      },
      "execution_count": null,
      "outputs": [
        {
          "output_type": "execute_result",
          "data": {
            "text/plain": [
              "Lasso()"
            ],
            "text/html": [
              "<style>#sk-container-id-6 {color: black;background-color: white;}#sk-container-id-6 pre{padding: 0;}#sk-container-id-6 div.sk-toggleable {background-color: white;}#sk-container-id-6 label.sk-toggleable__label {cursor: pointer;display: block;width: 100%;margin-bottom: 0;padding: 0.3em;box-sizing: border-box;text-align: center;}#sk-container-id-6 label.sk-toggleable__label-arrow:before {content: \"▸\";float: left;margin-right: 0.25em;color: #696969;}#sk-container-id-6 label.sk-toggleable__label-arrow:hover:before {color: black;}#sk-container-id-6 div.sk-estimator:hover label.sk-toggleable__label-arrow:before {color: black;}#sk-container-id-6 div.sk-toggleable__content {max-height: 0;max-width: 0;overflow: hidden;text-align: left;background-color: #f0f8ff;}#sk-container-id-6 div.sk-toggleable__content pre {margin: 0.2em;color: black;border-radius: 0.25em;background-color: #f0f8ff;}#sk-container-id-6 input.sk-toggleable__control:checked~div.sk-toggleable__content {max-height: 200px;max-width: 100%;overflow: auto;}#sk-container-id-6 input.sk-toggleable__control:checked~label.sk-toggleable__label-arrow:before {content: \"▾\";}#sk-container-id-6 div.sk-estimator input.sk-toggleable__control:checked~label.sk-toggleable__label {background-color: #d4ebff;}#sk-container-id-6 div.sk-label input.sk-toggleable__control:checked~label.sk-toggleable__label {background-color: #d4ebff;}#sk-container-id-6 input.sk-hidden--visually {border: 0;clip: rect(1px 1px 1px 1px);clip: rect(1px, 1px, 1px, 1px);height: 1px;margin: -1px;overflow: hidden;padding: 0;position: absolute;width: 1px;}#sk-container-id-6 div.sk-estimator {font-family: monospace;background-color: #f0f8ff;border: 1px dotted black;border-radius: 0.25em;box-sizing: border-box;margin-bottom: 0.5em;}#sk-container-id-6 div.sk-estimator:hover {background-color: #d4ebff;}#sk-container-id-6 div.sk-parallel-item::after {content: \"\";width: 100%;border-bottom: 1px solid gray;flex-grow: 1;}#sk-container-id-6 div.sk-label:hover label.sk-toggleable__label {background-color: #d4ebff;}#sk-container-id-6 div.sk-serial::before {content: \"\";position: absolute;border-left: 1px solid gray;box-sizing: border-box;top: 0;bottom: 0;left: 50%;z-index: 0;}#sk-container-id-6 div.sk-serial {display: flex;flex-direction: column;align-items: center;background-color: white;padding-right: 0.2em;padding-left: 0.2em;position: relative;}#sk-container-id-6 div.sk-item {position: relative;z-index: 1;}#sk-container-id-6 div.sk-parallel {display: flex;align-items: stretch;justify-content: center;background-color: white;position: relative;}#sk-container-id-6 div.sk-item::before, #sk-container-id-6 div.sk-parallel-item::before {content: \"\";position: absolute;border-left: 1px solid gray;box-sizing: border-box;top: 0;bottom: 0;left: 50%;z-index: -1;}#sk-container-id-6 div.sk-parallel-item {display: flex;flex-direction: column;z-index: 1;position: relative;background-color: white;}#sk-container-id-6 div.sk-parallel-item:first-child::after {align-self: flex-end;width: 50%;}#sk-container-id-6 div.sk-parallel-item:last-child::after {align-self: flex-start;width: 50%;}#sk-container-id-6 div.sk-parallel-item:only-child::after {width: 0;}#sk-container-id-6 div.sk-dashed-wrapped {border: 1px dashed gray;margin: 0 0.4em 0.5em 0.4em;box-sizing: border-box;padding-bottom: 0.4em;background-color: white;}#sk-container-id-6 div.sk-label label {font-family: monospace;font-weight: bold;display: inline-block;line-height: 1.2em;}#sk-container-id-6 div.sk-label-container {text-align: center;}#sk-container-id-6 div.sk-container {/* jupyter's `normalize.less` sets `[hidden] { display: none; }` but bootstrap.min.css set `[hidden] { display: none !important; }` so we also need the `!important` here to be able to override the default hidden behavior on the sphinx rendered scikit-learn.org. See: https://github.com/scikit-learn/scikit-learn/issues/21755 */display: inline-block !important;position: relative;}#sk-container-id-6 div.sk-text-repr-fallback {display: none;}</style><div id=\"sk-container-id-6\" class=\"sk-top-container\"><div class=\"sk-text-repr-fallback\"><pre>Lasso()</pre><b>In a Jupyter environment, please rerun this cell to show the HTML representation or trust the notebook. <br />On GitHub, the HTML representation is unable to render, please try loading this page with nbviewer.org.</b></div><div class=\"sk-container\" hidden><div class=\"sk-item\"><div class=\"sk-estimator sk-toggleable\"><input class=\"sk-toggleable__control sk-hidden--visually\" id=\"sk-estimator-id-6\" type=\"checkbox\" checked><label for=\"sk-estimator-id-6\" class=\"sk-toggleable__label sk-toggleable__label-arrow\">Lasso</label><div class=\"sk-toggleable__content\"><pre>Lasso()</pre></div></div></div></div></div>"
            ]
          },
          "metadata": {},
          "execution_count": 165
        }
      ]
    },
    {
      "cell_type": "code",
      "source": [
        "lasso.score(train_scaled, train_target)"
      ],
      "metadata": {
        "id": "rQ6VCRN9xVWa",
        "colab": {
          "base_uri": "https://localhost:8080/"
        },
        "outputId": "2cb79ecd-639b-48cb-8e7f-e0c652d98f07"
      },
      "execution_count": null,
      "outputs": [
        {
          "output_type": "execute_result",
          "data": {
            "text/plain": [
              "0.986591255464559"
            ]
          },
          "metadata": {},
          "execution_count": 167
        }
      ]
    },
    {
      "cell_type": "code",
      "source": [
        "lasso.score(test_scaled, test_target)"
      ],
      "metadata": {
        "id": "zpOifgtexVZN",
        "colab": {
          "base_uri": "https://localhost:8080/"
        },
        "outputId": "66d90730-6adb-466a-dbdd-db923789529b"
      },
      "execution_count": null,
      "outputs": [
        {
          "output_type": "execute_result",
          "data": {
            "text/plain": [
              "0.9846056618190413"
            ]
          },
          "metadata": {},
          "execution_count": 173
        }
      ]
    },
    {
      "cell_type": "code",
      "source": [
        "# 알파값 변화에 따른 정확도 train과 test값을 리스트에 저장하고\n",
        "# 그래프로 출력하기\n",
        "alpha_lst = [0.001, 0.01, 0.1, 1, 10, 100]\n",
        "train_score = []\n",
        "test_score = []"
      ],
      "metadata": {
        "id": "H_aJZDbCxVcA"
      },
      "execution_count": null,
      "outputs": []
    },
    {
      "cell_type": "code",
      "source": [
        "for alpha in alpha_lst:\n",
        "  lasso = Lasso(alpha=alpha)\n",
        "  lasso.fit(train_scaled,train_target)\n",
        "  score_train = lasso.score(train_scaled,train_target)\n",
        "  train_score.append(score_train)\n",
        "  score_test = lasso.score(test_scaled,test_target)\n",
        "  test_score.append(score_test)"
      ],
      "metadata": {
        "id": "Rh4H4xh0xVfG",
        "colab": {
          "base_uri": "https://localhost:8080/"
        },
        "outputId": "4ed159e1-d561-4000-e9e9-fc9bc511fadf"
      },
      "execution_count": null,
      "outputs": [
        {
          "output_type": "stream",
          "name": "stderr",
          "text": [
            "/usr/local/lib/python3.10/dist-packages/sklearn/linear_model/_coordinate_descent.py:631: ConvergenceWarning: Objective did not converge. You might want to increase the number of iterations, check the scale of the features or consider increasing regularisation. Duality gap: 2.903e+04, tolerance: 5.183e+02\n",
            "  model = cd_fast.enet_coordinate_descent(\n",
            "/usr/local/lib/python3.10/dist-packages/sklearn/linear_model/_coordinate_descent.py:631: ConvergenceWarning: Objective did not converge. You might want to increase the number of iterations, check the scale of the features or consider increasing regularisation. Duality gap: 2.686e+04, tolerance: 5.183e+02\n",
            "  model = cd_fast.enet_coordinate_descent(\n",
            "/usr/local/lib/python3.10/dist-packages/sklearn/linear_model/_coordinate_descent.py:631: ConvergenceWarning: Objective did not converge. You might want to increase the number of iterations, check the scale of the features or consider increasing regularisation. Duality gap: 2.546e+03, tolerance: 5.183e+02\n",
            "  model = cd_fast.enet_coordinate_descent(\n"
          ]
        }
      ]
    },
    {
      "cell_type": "code",
      "source": [
        "\n",
        "plt.plot(np.log10(alpha_lst), train_score, )\n",
        "plt.plot(np.log10(alpha_lst), test_score)\n",
        "plt.xlabel('alpha')\n",
        "plt.ylabel('R^2')\n",
        "\n",
        "plt.show()"
      ],
      "metadata": {
        "id": "5BMNvjAmw6MZ",
        "colab": {
          "base_uri": "https://localhost:8080/",
          "height": 449
        },
        "outputId": "30304f09-415b-44ca-a8c0-82e4e4b5b406"
      },
      "execution_count": null,
      "outputs": [
        {
          "output_type": "display_data",
          "data": {
            "text/plain": [
              "<Figure size 640x480 with 1 Axes>"
            ],
            "image/png": "[encoded data removed]"
          },
          "metadata": {}
        }
      ]
    },
    {
      "cell_type": "code",
      "source": [],
      "metadata": {
        "id": "hysz4bGQ4sdN"
      },
      "execution_count": null,
      "outputs": []
    },
    {
      "cell_type": "code",
      "source": [],
      "metadata": {
        "id": "6KT_grhD4sgR"
      },
      "execution_count": null,
      "outputs": []
    },
    {
      "cell_type": "code",
      "source": [],
      "metadata": {
        "id": "Aw-AHU7h4sjb"
      },
      "execution_count": null,
      "outputs": []
    }
  ]
}