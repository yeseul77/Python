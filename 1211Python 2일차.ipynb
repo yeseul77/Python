{
 "cells": [
  {
   "cell_type": "markdown",
   "id": "88dfc3c9",
   "metadata": {},
   "source": [
    "# 함수"
   ]
  },
  {
   "cell_type": "code",
   "execution_count": 3,
   "id": "7f53c034",
   "metadata": {},
   "outputs": [
    {
     "data": {
      "text/plain": [
       "11"
      ]
     },
     "execution_count": 3,
     "metadata": {},
     "output_type": "execute_result"
    }
   ],
   "source": [
    "def test(a, b):\n",
    "    return a + b\n",
    "\n",
    "test(5, 6)"
   ]
  },
  {
   "cell_type": "markdown",
   "id": "b8d5f69f",
   "metadata": {},
   "source": [
    "# 학생 한명의 점수를 매개변수로 받아서 80점 이상이면 합격/ 아니면 불합격"
   ]
  },
  {
   "cell_type": "code",
   "execution_count": 4,
   "id": "2abc2e59",
   "metadata": {},
   "outputs": [
    {
     "data": {
      "text/plain": [
       "'불합격'"
      ]
     },
     "execution_count": 4,
     "metadata": {},
     "output_type": "execute_result"
    }
   ],
   "source": [
    "def test1(a):\n",
    "    try:\n",
    "        if int(a)>=80:\n",
    "            return '합격'\n",
    "        else:\n",
    "            return '불합격'\n",
    "    except:\n",
    "        print(\"숫자를 입력하세요\")\n",
    "\n",
    "test1(20)"
   ]
  },
  {
   "cell_type": "code",
   "execution_count": 5,
   "id": "6ba92c85",
   "metadata": {},
   "outputs": [
    {
     "name": "stdout",
     "output_type": "stream",
     "text": [
      "(5,)\n"
     ]
    },
    {
     "data": {
      "text/plain": [
       "[7]"
      ]
     },
     "execution_count": 5,
     "metadata": {},
     "output_type": "execute_result"
    }
   ],
   "source": [
    "def test3(*args):\n",
    "    sum_list = []\n",
    "    print(args)\n",
    "    for i in args:\n",
    "        sum_list.append(i+2)\n",
    "    return sum_list\n",
    "\n",
    "test3(5)"
   ]
  },
  {
   "cell_type": "code",
   "execution_count": 7,
   "id": "a2d57022",
   "metadata": {},
   "outputs": [
    {
     "name": "stdout",
     "output_type": "stream",
     "text": [
      "숫자를 입력하세요: 100\n"
     ]
    }
   ],
   "source": [
    "aa = input(\"숫자를 입력하세요: \")"
   ]
  },
  {
   "cell_type": "code",
   "execution_count": 8,
   "id": "00d90715",
   "metadata": {},
   "outputs": [
    {
     "data": {
      "text/plain": [
       "str"
      ]
     },
     "execution_count": 8,
     "metadata": {},
     "output_type": "execute_result"
    }
   ],
   "source": [
    "type(aa)"
   ]
  },
  {
   "cell_type": "code",
   "execution_count": 9,
   "id": "de108415",
   "metadata": {},
   "outputs": [
    {
     "data": {
      "text/plain": [
       "100"
      ]
     },
     "execution_count": 9,
     "metadata": {},
     "output_type": "execute_result"
    }
   ],
   "source": [
    "int(aa)"
   ]
  },
  {
   "cell_type": "markdown",
   "id": "142f1b9b",
   "metadata": {},
   "source": [
    "# class"
   ]
  },
  {
   "cell_type": "code",
   "execution_count": 10,
   "id": "edeb8355",
   "metadata": {},
   "outputs": [],
   "source": [
    "class Test:\n",
    "    def __init__(self):\n",
    "        self.result = 0\n",
    "    \n",
    "    def add(self, num):\n",
    "        self.result += num\n",
    "        return self.result\n",
    "\n",
    "calc1 = Test()"
   ]
  },
  {
   "cell_type": "code",
   "execution_count": 11,
   "id": "36259c22",
   "metadata": {},
   "outputs": [
    {
     "data": {
      "text/plain": [
       "3"
      ]
     },
     "execution_count": 11,
     "metadata": {},
     "output_type": "execute_result"
    }
   ],
   "source": [
    "\n",
    "calc1.add(3)"
   ]
  },
  {
   "cell_type": "code",
   "execution_count": 12,
   "id": "dfc80ef0",
   "metadata": {},
   "outputs": [
    {
     "data": {
      "text/plain": [
       "7"
      ]
     },
     "execution_count": 12,
     "metadata": {},
     "output_type": "execute_result"
    }
   ],
   "source": [
    "calc1.add(4)"
   ]
  },
  {
   "cell_type": "code",
   "execution_count": 13,
   "id": "7005b3a3",
   "metadata": {},
   "outputs": [],
   "source": [
    "a = [1, 2, 3, 4]"
   ]
  },
  {
   "cell_type": "markdown",
   "id": "5f0a35c4",
   "metadata": {},
   "source": [
    "# lambda"
   ]
  },
  {
   "cell_type": "code",
   "execution_count": 14,
   "id": "f56d4de5",
   "metadata": {},
   "outputs": [
    {
     "data": {
      "text/plain": [
       "[1, 2, 3, 4, 5]"
      ]
     },
     "execution_count": 14,
     "metadata": {},
     "output_type": "execute_result"
    }
   ],
   "source": [
    "[i+1 for i in range(5)]\n"
   ]
  },
  {
   "cell_type": "code",
   "execution_count": 15,
   "id": "640b3d77",
   "metadata": {},
   "outputs": [],
   "source": [
    "lst = ['가렌', '파이크', '트리스타나', '카타리나']"
   ]
  },
  {
   "cell_type": "markdown",
   "id": "a7934bbe",
   "metadata": {},
   "source": [
    "# map\n"
   ]
  },
  {
   "cell_type": "code",
   "execution_count": 16,
   "id": "6d9fbff4",
   "metadata": {},
   "outputs": [
    {
     "data": {
      "text/plain": [
       "['챔피언: 가렌', '챔피언: 파이크', '챔피언: 트리스타나', '챔피언: 카타리나']"
      ]
     },
     "execution_count": 16,
     "metadata": {},
     "output_type": "execute_result"
    }
   ],
   "source": [
    "list(map(lambda x:'챔피언: ' + x , lst))"
   ]
  },
  {
   "cell_type": "markdown",
   "id": "11ad7b3d",
   "metadata": {},
   "source": [
    "# filter"
   ]
  },
  {
   "cell_type": "code",
   "execution_count": 17,
   "id": "fc762fb7",
   "metadata": {},
   "outputs": [
    {
     "data": {
      "text/plain": [
       "['파이크']"
      ]
     },
     "execution_count": 17,
     "metadata": {},
     "output_type": "execute_result"
    }
   ],
   "source": [
    "list(filter(lambda x:x if len(x) ==3 else '', lst))"
   ]
  },
  {
   "cell_type": "code",
   "execution_count": 18,
   "id": "1ef4a3ee",
   "metadata": {},
   "outputs": [],
   "source": [
    "num_list = [1,2,3,4,5,6,7,8,9,10]"
   ]
  },
  {
   "cell_type": "markdown",
   "id": "5f27177f",
   "metadata": {},
   "source": [
    "## map lambda로 각각의 값에 *3씩 해서 리스트에 담기\n",
    "## filter lambda로 짝수만 뽑아서 결과값에  *2해서 리스트 담기\n"
   ]
  },
  {
   "cell_type": "code",
   "execution_count": 19,
   "id": "20ed1827",
   "metadata": {},
   "outputs": [
    {
     "data": {
      "text/plain": [
       "[3, 6, 9, 12, 15, 18, 21, 24, 27, 30]"
      ]
     },
     "execution_count": 19,
     "metadata": {},
     "output_type": "execute_result"
    }
   ],
   "source": [
    "list(map(lambda x: x * 3, num_list))"
   ]
  },
  {
   "cell_type": "code",
   "execution_count": 20,
   "id": "c6538770",
   "metadata": {},
   "outputs": [
    {
     "data": {
      "text/plain": [
       "[4, 8, 12, 16, 20]"
      ]
     },
     "execution_count": 20,
     "metadata": {},
     "output_type": "execute_result"
    }
   ],
   "source": [
    "list(map(lambda x: x*2 ,filter(lambda x:x if x %2 ==0 else '' ,num_list)))"
   ]
  },
  {
   "cell_type": "markdown",
   "id": "cf8e4ce3",
   "metadata": {},
   "source": [
    "#주민등록번호 13자리를 문자열로 입력 받아, 받은 주민번호를 기반으로 남성인지 여성인지를 판별하여 반환하는 함수를 작성하시오.\n",
    "\n",
    "입력 문자열은 \"주민번호 앞자리 - 뒷자리\"로 구성됨 반환 문자열은 \"남성\", \"여성\" 둘중 하나\n",
    "\n",
    "주민번호 뒷자리중 첫번째 숫자가 1이면 남성, 2이면 여성\n",
    "\n",
    "예1)\n",
    "\n",
    "입력(문자열) : \"820327-1022421\" 반환(문자열) : \"남성\" \n",
    "\n",
    "예2)\n",
    "\n",
    "입력(문자열) : \"820327-2022421\" 반환(문자열) : \"여성\""
   ]
  },
  {
   "cell_type": "code",
   "execution_count": 22,
   "id": "ae1c2b22",
   "metadata": {},
   "outputs": [],
   "source": [
    "def jumin(a):\n",
    "    b = a.split('-')[1][0]\n",
    "    if b =='1' or b== '3':\n",
    "        return '남성'\n",
    "    elif b=='2' or b== '4':\n",
    "        return '여성'\n",
    "    else:\n",
    "        return '오류'"
   ]
  },
  {
   "cell_type": "code",
   "execution_count": 23,
   "id": "97512662",
   "metadata": {},
   "outputs": [],
   "source": [
    "a = \"820327-1022421\""
   ]
  },
  {
   "cell_type": "markdown",
   "id": "632977a0",
   "metadata": {},
   "source": [
    "#다음 데이터를 함수 내에 딕셔너리 형태로 저장한 다음, 함수의 매개변수 입력으로 딕셔너리의 키에 해당하는 문자열을 받으면, 키에 해당하는 값을 반환하는 함수를 작성하시오.\n",
    "\n",
    "함수내 저장해야하는 데이터\n",
    "\n",
    "phones = {\"S5\": 2014, \"S7\": 2016, \"note8\": 2017, \"S9\": 2018, \"S10\": 2019} 예1)\n",
    "\n",
    "입력(문자열) : \"S5\" 반환(정수) : 2014 예2)\n",
    "\n",
    "입력(문자열) : \"S7\" 반환(정수) : 2016"
   ]
  },
  {
   "cell_type": "code",
   "execution_count": 25,
   "id": "556aa7c8",
   "metadata": {},
   "outputs": [],
   "source": [
    "def phone(a):\n",
    "    phones = {\"S5\": 2014, \"S7\": 2016, \"note8\": 2017, \"S9\": 2018, \"S10\": 2019}\n",
    "    result = phones[a]\n",
    "    result = phones.get(a)\n",
    "    return result"
   ]
  },
  {
   "cell_type": "markdown",
   "id": "2d44d8c7",
   "metadata": {},
   "source": [
    "#다음 데이터를 함수 내에 딕셔너리 형태로 저장한 다음, 함수의 매개변수 입력으로 딕셔너리의 키에 해당하는 문자열을 받으면, 키에 해당하는 값을 반환하는 함수를 작성하시오.\n",
    "\n",
    "함수내 저장해야하는 데이터\n",
    "\n",
    "phones = {\"S5\": 2014, \"S7\": 2016, \"note8\": 2017, \"S9\": 2018, \"S10\": 2019}\n",
    "\n",
    "예1)\n",
    "\n",
    "입력(문자열) : \"S5\"\n",
    "반환(정수) : 2014\n",
    "예2)\n",
    "\n",
    "입력(문자열) : \"S7\"\n",
    "반환(정수) : 2016"
   ]
  },
  {
   "cell_type": "code",
   "execution_count": 26,
   "id": "d5c30e2f",
   "metadata": {},
   "outputs": [],
   "source": [
    "phones = {\"S5\": 2014, \"S7\": 2016, \"note8\": 2017, \"S9\": 2018, \"S10\": 2019}"
   ]
  },
  {
   "cell_type": "code",
   "execution_count": 27,
   "id": "79cc7223",
   "metadata": {},
   "outputs": [],
   "source": [
    "def phones(a):\n",
    "    phones={\"S5\": 2014, \"S7\": 2016, \"note8\": 2017, \"S9\": 2018, \"S10\": 2019}\n",
    "    result=phones[a]\n",
    "    result=phones.get[a]\n",
    "    return result"
   ]
  },
  {
   "cell_type": "markdown",
   "id": "8f9ccb86",
   "metadata": {},
   "source": [
    "#휴대전화 번호를 문자열 형태로 함수의 매개변수로 입력 받으면, 휴대전화 4개의 뒷자리를 ####으로 바꾸어 반환하는 함수를 작성하시오.\n",
    "\n",
    "예1)\n",
    "\n",
    "입력(문자열) : \"010-3222-1234\" 반환(문자열) : \"010-3222-####\"\n",
    "\n",
    "예2)\n",
    "\n",
    "입력(문자열) : \"010-1221-0984\" 반환(문자열) : \"010-1221-####\""
   ]
  },
  {
   "cell_type": "code",
   "execution_count": 28,
   "id": "f45e2639",
   "metadata": {},
   "outputs": [],
   "source": [
    "def phone2(a):\n",
    "    b=a.split('-')"
   ]
  },
  {
   "cell_type": "code",
   "execution_count": 29,
   "id": "56fd29d1",
   "metadata": {},
   "outputs": [],
   "source": [
    "a=\"010-3222-1234\""
   ]
  },
  {
   "cell_type": "code",
   "execution_count": 31,
   "id": "e0b83af4",
   "metadata": {},
   "outputs": [],
   "source": [
    "def phone2(a):\n",
    "    b = a.split('-')\n",
    "    b[2] = '####'\n",
    "    result = '-'.join(b)\n",
    "#     result = f'{b[0]}-{b[1]}-{b[2]}'\n",
    "    return result"
   ]
  },
  {
   "cell_type": "code",
   "execution_count": 32,
   "id": "60ecff70",
   "metadata": {},
   "outputs": [],
   "source": [
    "a = \"010-3222-1234\""
   ]
  },
  {
   "cell_type": "code",
   "execution_count": 33,
   "id": "64b4a6b9",
   "metadata": {},
   "outputs": [],
   "source": [
    "b = a.split('-')\n",
    "b[2] = '####'"
   ]
  },
  {
   "cell_type": "code",
   "execution_count": 34,
   "id": "90ddf79b",
   "metadata": {},
   "outputs": [
    {
     "data": {
      "text/plain": [
       "['010', '3222', '####']"
      ]
     },
     "execution_count": 34,
     "metadata": {},
     "output_type": "execute_result"
    }
   ],
   "source": [
    "b"
   ]
  },
  {
   "cell_type": "code",
   "execution_count": 37,
   "id": "144b9033",
   "metadata": {},
   "outputs": [],
   "source": [
    "result = '-'.join(b)"
   ]
  },
  {
   "cell_type": "code",
   "execution_count": 38,
   "id": "06a82511",
   "metadata": {},
   "outputs": [
    {
     "data": {
      "text/plain": [
       "'010-3222-####'"
      ]
     },
     "execution_count": 38,
     "metadata": {},
     "output_type": "execute_result"
    }
   ],
   "source": [
    "result"
   ]
  },
  {
   "cell_type": "markdown",
   "id": "044e71a3",
   "metadata": {},
   "source": [
    "# 데이터 프레임"
   ]
  },
  {
   "cell_type": "code",
   "execution_count": 60,
   "id": "c6aafdcf",
   "metadata": {},
   "outputs": [],
   "source": [
    "import pandas as pd"
   ]
  },
  {
   "cell_type": "code",
   "execution_count": 61,
   "id": "cfd4cfe7",
   "metadata": {},
   "outputs": [],
   "source": [
    "lst = ['탑','다리우스','정글','비에고']"
   ]
  },
  {
   "cell_type": "code",
   "execution_count": 62,
   "id": "9e30cc69",
   "metadata": {},
   "outputs": [
    {
     "data": {
      "text/plain": [
       "['탑', '다리우스', '정글', '비에고']"
      ]
     },
     "execution_count": 62,
     "metadata": {},
     "output_type": "execute_result"
    }
   ],
   "source": [
    "lst"
   ]
  },
  {
   "cell_type": "code",
   "execution_count": 63,
   "id": "7a195ed6",
   "metadata": {},
   "outputs": [
    {
     "ename": "NameError",
     "evalue": "name 'pandas' is not defined",
     "output_type": "error",
     "traceback": [
      "\u001b[1;31m---------------------------------------------------------------------------\u001b[0m",
      "\u001b[1;31mNameError\u001b[0m                                 Traceback (most recent call last)",
      "Cell \u001b[1;32mIn[63], line 1\u001b[0m\n\u001b[1;32m----> 1\u001b[0m series \u001b[38;5;241m=\u001b[39m pandas\u001b[38;5;241m.\u001b[39mSeries(lst)\n",
      "\u001b[1;31mNameError\u001b[0m: name 'pandas' is not defined"
     ]
    }
   ],
   "source": [
    "series = pandas.Series(lst)"
   ]
  },
  {
   "cell_type": "code",
   "execution_count": 65,
   "id": "80947273",
   "metadata": {},
   "outputs": [
    {
     "ename": "NameError",
     "evalue": "name 'series' is not defined",
     "output_type": "error",
     "traceback": [
      "\u001b[1;31m---------------------------------------------------------------------------\u001b[0m",
      "\u001b[1;31mNameError\u001b[0m                                 Traceback (most recent call last)",
      "Cell \u001b[1;32mIn[65], line 1\u001b[0m\n\u001b[1;32m----> 1\u001b[0m series\n",
      "\u001b[1;31mNameError\u001b[0m: name 'series' is not defined"
     ]
    }
   ],
   "source": [
    "series"
   ]
  },
  {
   "cell_type": "code",
   "execution_count": 66,
   "id": "683e7d52",
   "metadata": {},
   "outputs": [
    {
     "ename": "NameError",
     "evalue": "name 'series' is not defined",
     "output_type": "error",
     "traceback": [
      "\u001b[1;31m---------------------------------------------------------------------------\u001b[0m",
      "\u001b[1;31mNameError\u001b[0m                                 Traceback (most recent call last)",
      "Cell \u001b[1;32mIn[66], line 1\u001b[0m\n\u001b[1;32m----> 1\u001b[0m \u001b[38;5;28mtype\u001b[39m(series)\n",
      "\u001b[1;31mNameError\u001b[0m: name 'series' is not defined"
     ]
    }
   ],
   "source": [
    "type(series)"
   ]
  },
  {
   "cell_type": "code",
   "execution_count": 67,
   "id": "eaed5271",
   "metadata": {},
   "outputs": [
    {
     "ename": "NameError",
     "evalue": "name 'series' is not defined",
     "output_type": "error",
     "traceback": [
      "\u001b[1;31m---------------------------------------------------------------------------\u001b[0m",
      "\u001b[1;31mNameError\u001b[0m                                 Traceback (most recent call last)",
      "Cell \u001b[1;32mIn[67], line 1\u001b[0m\n\u001b[1;32m----> 1\u001b[0m \u001b[38;5;28mtype\u001b[39m(series)\n",
      "\u001b[1;31mNameError\u001b[0m: name 'series' is not defined"
     ]
    }
   ],
   "source": [
    "type(series)"
   ]
  },
  {
   "cell_type": "code",
   "execution_count": 68,
   "id": "bbe2640b",
   "metadata": {},
   "outputs": [],
   "source": [
    "dic = {}"
   ]
  },
  {
   "cell_type": "code",
   "execution_count": 69,
   "id": "8d048fda",
   "metadata": {},
   "outputs": [],
   "source": [
    "dic['lane'] = 'TOP'"
   ]
  },
  {
   "cell_type": "code",
   "execution_count": 70,
   "id": "d254d547",
   "metadata": {},
   "outputs": [],
   "source": [
    "dic['championName'] = '가렌'"
   ]
  },
  {
   "cell_type": "code",
   "execution_count": 71,
   "id": "a832ca8a",
   "metadata": {},
   "outputs": [
    {
     "data": {
      "text/plain": [
       "{'lane': 'TOP', 'championName': '가렌'}"
      ]
     },
     "execution_count": 71,
     "metadata": {},
     "output_type": "execute_result"
    }
   ],
   "source": [
    "{'lane': 'TOP', 'championName': '가렌'}"
   ]
  },
  {
   "cell_type": "code",
   "execution_count": 72,
   "id": "6ad889c2",
   "metadata": {},
   "outputs": [],
   "source": [
    "series = pd.Series(dic)"
   ]
  },
  {
   "cell_type": "code",
   "execution_count": 73,
   "id": "e6dca8a4",
   "metadata": {},
   "outputs": [
    {
     "data": {
      "text/plain": [
       "lane            TOP\n",
       "championName     가렌\n",
       "dtype: object"
      ]
     },
     "execution_count": 73,
     "metadata": {},
     "output_type": "execute_result"
    }
   ],
   "source": [
    "series"
   ]
  },
  {
   "cell_type": "code",
   "execution_count": 74,
   "id": "cd10d541",
   "metadata": {},
   "outputs": [
    {
     "data": {
      "text/plain": [
       "'가렌'"
      ]
     },
     "execution_count": 74,
     "metadata": {},
     "output_type": "execute_result"
    }
   ],
   "source": [
    "series.loc['championName']"
   ]
  },
  {
   "cell_type": "code",
   "execution_count": 75,
   "id": "fd885d0c",
   "metadata": {},
   "outputs": [
    {
     "data": {
      "text/plain": [
       "'TOP'"
      ]
     },
     "execution_count": 75,
     "metadata": {},
     "output_type": "execute_result"
    }
   ],
   "source": [
    "series.iloc[0]"
   ]
  },
  {
   "cell_type": "code",
   "execution_count": 76,
   "id": "e4de702d",
   "metadata": {},
   "outputs": [],
   "source": [
    "lst = [['JUNGLE', '리 신', 0, 4, 1], ['MID', '아지르', 7, 2, 1]]"
   ]
  },
  {
   "cell_type": "code",
   "execution_count": 77,
   "id": "fdee733c",
   "metadata": {},
   "outputs": [],
   "source": [
    "a_df = pd.DataFrame(lst, columns = ['lane', 'championName', 'kills', 'deaths', 'assists'])"
   ]
  },
  {
   "cell_type": "code",
   "execution_count": 78,
   "id": "6e661096",
   "metadata": {},
   "outputs": [
    {
     "data": {
      "text/html": [
       "<div>\n",
       "<style scoped>\n",
       "    .dataframe tbody tr th:only-of-type {\n",
       "        vertical-align: middle;\n",
       "    }\n",
       "\n",
       "    .dataframe tbody tr th {\n",
       "        vertical-align: top;\n",
       "    }\n",
       "\n",
       "    .dataframe thead th {\n",
       "        text-align: right;\n",
       "    }\n",
       "</style>\n",
       "<table border=\"1\" class=\"dataframe\">\n",
       "  <thead>\n",
       "    <tr style=\"text-align: right;\">\n",
       "      <th></th>\n",
       "      <th>lane</th>\n",
       "      <th>championName</th>\n",
       "      <th>kills</th>\n",
       "      <th>deaths</th>\n",
       "      <th>assists</th>\n",
       "    </tr>\n",
       "  </thead>\n",
       "  <tbody>\n",
       "    <tr>\n",
       "      <th>0</th>\n",
       "      <td>JUNGLE</td>\n",
       "      <td>리 신</td>\n",
       "      <td>0</td>\n",
       "      <td>4</td>\n",
       "      <td>1</td>\n",
       "    </tr>\n",
       "    <tr>\n",
       "      <th>1</th>\n",
       "      <td>MID</td>\n",
       "      <td>아지르</td>\n",
       "      <td>7</td>\n",
       "      <td>2</td>\n",
       "      <td>1</td>\n",
       "    </tr>\n",
       "  </tbody>\n",
       "</table>\n",
       "</div>"
      ],
      "text/plain": [
       "     lane championName  kills  deaths  assists\n",
       "0  JUNGLE          리 신      0       4        1\n",
       "1     MID          아지르      7       2        1"
      ]
     },
     "execution_count": 78,
     "metadata": {},
     "output_type": "execute_result"
    }
   ],
   "source": [
    "a_df"
   ]
  },
  {
   "cell_type": "code",
   "execution_count": 79,
   "id": "2ba80f64",
   "metadata": {},
   "outputs": [],
   "source": [
    "dic = {'lane' : ['BOTTOM', 'SUPPORTER'], 'championName' : ['제리', '룰루'], 'kills': [2, 0], 'deaths': [0, 2], 'assists': [5, 15]}"
   ]
  },
  {
   "cell_type": "code",
   "execution_count": 80,
   "id": "4847ff31",
   "metadata": {},
   "outputs": [],
   "source": [
    "b_df = pd.DataFrame(dic)"
   ]
  },
  {
   "cell_type": "code",
   "execution_count": 81,
   "id": "32bc1922",
   "metadata": {},
   "outputs": [],
   "source": [
    "new_df = pd.concat([a_df, b_df])"
   ]
  },
  {
   "cell_type": "code",
   "execution_count": 82,
   "id": "ec3a9dcb",
   "metadata": {},
   "outputs": [
    {
     "data": {
      "text/html": [
       "<div>\n",
       "<style scoped>\n",
       "    .dataframe tbody tr th:only-of-type {\n",
       "        vertical-align: middle;\n",
       "    }\n",
       "\n",
       "    .dataframe tbody tr th {\n",
       "        vertical-align: top;\n",
       "    }\n",
       "\n",
       "    .dataframe thead th {\n",
       "        text-align: right;\n",
       "    }\n",
       "</style>\n",
       "<table border=\"1\" class=\"dataframe\">\n",
       "  <thead>\n",
       "    <tr style=\"text-align: right;\">\n",
       "      <th></th>\n",
       "      <th>lane</th>\n",
       "      <th>championName</th>\n",
       "      <th>kills</th>\n",
       "      <th>deaths</th>\n",
       "      <th>assists</th>\n",
       "    </tr>\n",
       "  </thead>\n",
       "  <tbody>\n",
       "    <tr>\n",
       "      <th>0</th>\n",
       "      <td>JUNGLE</td>\n",
       "      <td>리 신</td>\n",
       "      <td>0</td>\n",
       "      <td>4</td>\n",
       "      <td>1</td>\n",
       "    </tr>\n",
       "    <tr>\n",
       "      <th>1</th>\n",
       "      <td>MID</td>\n",
       "      <td>아지르</td>\n",
       "      <td>7</td>\n",
       "      <td>2</td>\n",
       "      <td>1</td>\n",
       "    </tr>\n",
       "    <tr>\n",
       "      <th>0</th>\n",
       "      <td>BOTTOM</td>\n",
       "      <td>제리</td>\n",
       "      <td>2</td>\n",
       "      <td>0</td>\n",
       "      <td>5</td>\n",
       "    </tr>\n",
       "    <tr>\n",
       "      <th>1</th>\n",
       "      <td>SUPPORTER</td>\n",
       "      <td>룰루</td>\n",
       "      <td>0</td>\n",
       "      <td>2</td>\n",
       "      <td>15</td>\n",
       "    </tr>\n",
       "  </tbody>\n",
       "</table>\n",
       "</div>"
      ],
      "text/plain": [
       "        lane championName  kills  deaths  assists\n",
       "0     JUNGLE          리 신      0       4        1\n",
       "1        MID          아지르      7       2        1\n",
       "0     BOTTOM           제리      2       0        5\n",
       "1  SUPPORTER           룰루      0       2       15"
      ]
     },
     "execution_count": 82,
     "metadata": {},
     "output_type": "execute_result"
    }
   ],
   "source": [
    "new_df"
   ]
  },
  {
   "cell_type": "code",
   "execution_count": 83,
   "id": "df4ab360",
   "metadata": {},
   "outputs": [],
   "source": [
    "new_df.reset_index(inplace = True)"
   ]
  },
  {
   "cell_type": "code",
   "execution_count": 84,
   "id": "b90b9d7b",
   "metadata": {},
   "outputs": [],
   "source": [
    "new_df.drop('index', axis = 1, inplace = True)"
   ]
  },
  {
   "cell_type": "code",
   "execution_count": 85,
   "id": "571d89c2",
   "metadata": {
    "scrolled": true
   },
   "outputs": [
    {
     "data": {
      "text/html": [
       "<div>\n",
       "<style scoped>\n",
       "    .dataframe tbody tr th:only-of-type {\n",
       "        vertical-align: middle;\n",
       "    }\n",
       "\n",
       "    .dataframe tbody tr th {\n",
       "        vertical-align: top;\n",
       "    }\n",
       "\n",
       "    .dataframe thead th {\n",
       "        text-align: right;\n",
       "    }\n",
       "</style>\n",
       "<table border=\"1\" class=\"dataframe\">\n",
       "  <thead>\n",
       "    <tr style=\"text-align: right;\">\n",
       "      <th></th>\n",
       "      <th>lane</th>\n",
       "      <th>championName</th>\n",
       "      <th>kills</th>\n",
       "      <th>deaths</th>\n",
       "      <th>assists</th>\n",
       "    </tr>\n",
       "  </thead>\n",
       "  <tbody>\n",
       "    <tr>\n",
       "      <th>1</th>\n",
       "      <td>MID</td>\n",
       "      <td>아지르</td>\n",
       "      <td>7</td>\n",
       "      <td>2</td>\n",
       "      <td>1</td>\n",
       "    </tr>\n",
       "    <tr>\n",
       "      <th>2</th>\n",
       "      <td>BOTTOM</td>\n",
       "      <td>제리</td>\n",
       "      <td>2</td>\n",
       "      <td>0</td>\n",
       "      <td>5</td>\n",
       "    </tr>\n",
       "    <tr>\n",
       "      <th>3</th>\n",
       "      <td>SUPPORTER</td>\n",
       "      <td>룰루</td>\n",
       "      <td>0</td>\n",
       "      <td>2</td>\n",
       "      <td>15</td>\n",
       "    </tr>\n",
       "    <tr>\n",
       "      <th>0</th>\n",
       "      <td>JUNGLE</td>\n",
       "      <td>리 신</td>\n",
       "      <td>0</td>\n",
       "      <td>4</td>\n",
       "      <td>1</td>\n",
       "    </tr>\n",
       "  </tbody>\n",
       "</table>\n",
       "</div>"
      ],
      "text/plain": [
       "        lane championName  kills  deaths  assists\n",
       "1        MID          아지르      7       2        1\n",
       "2     BOTTOM           제리      2       0        5\n",
       "3  SUPPORTER           룰루      0       2       15\n",
       "0     JUNGLE          리 신      0       4        1"
      ]
     },
     "execution_count": 85,
     "metadata": {},
     "output_type": "execute_result"
    }
   ],
   "source": [
    "new_df.sort_values(by = ['kills', 'assists'], ascending = False)"
   ]
  },
  {
   "cell_type": "code",
   "execution_count": 86,
   "id": "9ed45ebe",
   "metadata": {},
   "outputs": [],
   "source": [
    "lst = [['TOP','blue','이렐리아',7,2,7],['MID','blue','바루스',18,0,4],\n",
    "       ['BOTTOM','blue','애쉬',1,5,15],['TOP','red','일라오이',3,9,0],\n",
    "       ['MID','red','벡스',1,10,3],['BOTTOM','red','제리',11,9,2]]"
   ]
  },
  {
   "cell_type": "code",
   "execution_count": 87,
   "id": "ad7b3e32",
   "metadata": {},
   "outputs": [],
   "source": [
    "df = pd.DataFrame(lst, columns = ['lane', 'team', 'chmpaionName', 'kills', 'deaths', 'assists'])"
   ]
  },
  {
   "cell_type": "code",
   "execution_count": 89,
   "id": "5f26a39b",
   "metadata": {},
   "outputs": [],
   "source": [
    "df2 = df[['lane','kills','deaths','assists']]"
   ]
  },
  {
   "cell_type": "code",
   "execution_count": 90,
   "id": "4118656b",
   "metadata": {},
   "outputs": [
    {
     "data": {
      "text/html": [
       "<div>\n",
       "<style scoped>\n",
       "    .dataframe tbody tr th:only-of-type {\n",
       "        vertical-align: middle;\n",
       "    }\n",
       "\n",
       "    .dataframe tbody tr th {\n",
       "        vertical-align: top;\n",
       "    }\n",
       "\n",
       "    .dataframe thead th {\n",
       "        text-align: right;\n",
       "    }\n",
       "</style>\n",
       "<table border=\"1\" class=\"dataframe\">\n",
       "  <thead>\n",
       "    <tr style=\"text-align: right;\">\n",
       "      <th></th>\n",
       "      <th>kills</th>\n",
       "      <th>deaths</th>\n",
       "      <th>assists</th>\n",
       "    </tr>\n",
       "    <tr>\n",
       "      <th>lane</th>\n",
       "      <th></th>\n",
       "      <th></th>\n",
       "      <th></th>\n",
       "    </tr>\n",
       "  </thead>\n",
       "  <tbody>\n",
       "    <tr>\n",
       "      <th>BOTTOM</th>\n",
       "      <td>6.0</td>\n",
       "      <td>7.0</td>\n",
       "      <td>8.5</td>\n",
       "    </tr>\n",
       "    <tr>\n",
       "      <th>MID</th>\n",
       "      <td>9.5</td>\n",
       "      <td>5.0</td>\n",
       "      <td>3.5</td>\n",
       "    </tr>\n",
       "    <tr>\n",
       "      <th>TOP</th>\n",
       "      <td>5.0</td>\n",
       "      <td>5.5</td>\n",
       "      <td>3.5</td>\n",
       "    </tr>\n",
       "  </tbody>\n",
       "</table>\n",
       "</div>"
      ],
      "text/plain": [
       "        kills  deaths  assists\n",
       "lane                          \n",
       "BOTTOM    6.0     7.0      8.5\n",
       "MID       9.5     5.0      3.5\n",
       "TOP       5.0     5.5      3.5"
      ]
     },
     "execution_count": 90,
     "metadata": {},
     "output_type": "execute_result"
    }
   ],
   "source": [
    "df2.groupby('lane').mean()"
   ]
  },
  {
   "cell_type": "code",
   "execution_count": 91,
   "id": "be5ee439",
   "metadata": {},
   "outputs": [],
   "source": [
    "df['condition'] ='none'"
   ]
  },
  {
   "cell_type": "code",
   "execution_count": 92,
   "id": "2515753a",
   "metadata": {},
   "outputs": [
    {
     "data": {
      "text/html": [
       "<div>\n",
       "<style scoped>\n",
       "    .dataframe tbody tr th:only-of-type {\n",
       "        vertical-align: middle;\n",
       "    }\n",
       "\n",
       "    .dataframe tbody tr th {\n",
       "        vertical-align: top;\n",
       "    }\n",
       "\n",
       "    .dataframe thead th {\n",
       "        text-align: right;\n",
       "    }\n",
       "</style>\n",
       "<table border=\"1\" class=\"dataframe\">\n",
       "  <thead>\n",
       "    <tr style=\"text-align: right;\">\n",
       "      <th></th>\n",
       "      <th>lane</th>\n",
       "      <th>team</th>\n",
       "      <th>chmpaionName</th>\n",
       "      <th>kills</th>\n",
       "      <th>deaths</th>\n",
       "      <th>assists</th>\n",
       "      <th>condition</th>\n",
       "    </tr>\n",
       "  </thead>\n",
       "  <tbody>\n",
       "    <tr>\n",
       "      <th>0</th>\n",
       "      <td>TOP</td>\n",
       "      <td>blue</td>\n",
       "      <td>이렐리아</td>\n",
       "      <td>7</td>\n",
       "      <td>2</td>\n",
       "      <td>7</td>\n",
       "      <td>none</td>\n",
       "    </tr>\n",
       "    <tr>\n",
       "      <th>1</th>\n",
       "      <td>MID</td>\n",
       "      <td>blue</td>\n",
       "      <td>바루스</td>\n",
       "      <td>18</td>\n",
       "      <td>0</td>\n",
       "      <td>4</td>\n",
       "      <td>none</td>\n",
       "    </tr>\n",
       "    <tr>\n",
       "      <th>2</th>\n",
       "      <td>BOTTOM</td>\n",
       "      <td>blue</td>\n",
       "      <td>애쉬</td>\n",
       "      <td>1</td>\n",
       "      <td>5</td>\n",
       "      <td>15</td>\n",
       "      <td>none</td>\n",
       "    </tr>\n",
       "    <tr>\n",
       "      <th>3</th>\n",
       "      <td>TOP</td>\n",
       "      <td>red</td>\n",
       "      <td>일라오이</td>\n",
       "      <td>3</td>\n",
       "      <td>9</td>\n",
       "      <td>0</td>\n",
       "      <td>none</td>\n",
       "    </tr>\n",
       "    <tr>\n",
       "      <th>4</th>\n",
       "      <td>MID</td>\n",
       "      <td>red</td>\n",
       "      <td>벡스</td>\n",
       "      <td>1</td>\n",
       "      <td>10</td>\n",
       "      <td>3</td>\n",
       "      <td>none</td>\n",
       "    </tr>\n",
       "    <tr>\n",
       "      <th>5</th>\n",
       "      <td>BOTTOM</td>\n",
       "      <td>red</td>\n",
       "      <td>제리</td>\n",
       "      <td>11</td>\n",
       "      <td>9</td>\n",
       "      <td>2</td>\n",
       "      <td>none</td>\n",
       "    </tr>\n",
       "  </tbody>\n",
       "</table>\n",
       "</div>"
      ],
      "text/plain": [
       "     lane  team chmpaionName  kills  deaths  assists condition\n",
       "0     TOP  blue         이렐리아      7       2        7      none\n",
       "1     MID  blue          바루스     18       0        4      none\n",
       "2  BOTTOM  blue           애쉬      1       5       15      none\n",
       "3     TOP   red         일라오이      3       9        0      none\n",
       "4     MID   red           벡스      1      10        3      none\n",
       "5  BOTTOM   red           제리     11       9        2      none"
      ]
     },
     "execution_count": 92,
     "metadata": {},
     "output_type": "execute_result"
    }
   ],
   "source": [
    "df"
   ]
  },
  {
   "cell_type": "code",
   "execution_count": 93,
   "id": "5882e7ab",
   "metadata": {},
   "outputs": [],
   "source": [
    "df['condition'] = df.apply(lambda x:'good' if x.deaths < 6 else 'bad',axis = 1)"
   ]
  },
  {
   "cell_type": "code",
   "execution_count": 95,
   "id": "6e1889a8",
   "metadata": {},
   "outputs": [],
   "source": [
    "def condition(x):\n",
    "    if x<6:\n",
    "        return 'good'\n",
    "    else:\n",
    "        return 'bad'"
   ]
  },
  {
   "cell_type": "raw",
   "id": "13958dd5",
   "metadata": {},
   "source": [
    "df['condition'] = df.apply(lambda x:condition(x.deaths) ,axis=1)"
   ]
  },
  {
   "cell_type": "markdown",
   "id": "14aa734e",
   "metadata": {},
   "source": [
    "# # KDA\n",
    "\n",
    "## (KILL + ASSISTS) / DEATHS\n",
    "\n",
    "### kda 컬럼 추가\n",
    "\n",
    "### none -> apply 함수를 사용해서 kda 계산 소수점 둘쨰자리까지 사용 (round 함수 사용)\n",
    "\n",
    "### kda가 높은게 위로 가도록 Sort"
   ]
  },
  {
   "cell_type": "code",
   "execution_count": 41,
   "id": "22702199",
   "metadata": {},
   "outputs": [],
   "source": [
    "a = 3.14159248"
   ]
  },
  {
   "cell_type": "code",
   "execution_count": 42,
   "id": "dd98adcf",
   "metadata": {},
   "outputs": [
    {
     "data": {
      "text/plain": [
       "3.14"
      ]
     },
     "execution_count": 42,
     "metadata": {},
     "output_type": "execute_result"
    }
   ],
   "source": [
    "round(a,2)"
   ]
  },
  {
   "cell_type": "code",
   "execution_count": 96,
   "id": "e0df298d",
   "metadata": {},
   "outputs": [],
   "source": [
    "def kda(x):\n",
    "    try:\n",
    "        kda = round((x.kills + x.assists)/x.deaths,2)\n",
    "    except:\n",
    "        kda = round((x.kills + x.assists)/1,2)\n",
    "    return kda"
   ]
  },
  {
   "cell_type": "code",
   "execution_count": 97,
   "id": "c4ba89f2",
   "metadata": {},
   "outputs": [],
   "source": [
    "df['kda'] = df.apply(lambda x:kda(x) ,axis=1)"
   ]
  },
  {
   "cell_type": "code",
   "execution_count": 98,
   "id": "9d766234",
   "metadata": {},
   "outputs": [
    {
     "data": {
      "text/html": [
       "<div>\n",
       "<style scoped>\n",
       "    .dataframe tbody tr th:only-of-type {\n",
       "        vertical-align: middle;\n",
       "    }\n",
       "\n",
       "    .dataframe tbody tr th {\n",
       "        vertical-align: top;\n",
       "    }\n",
       "\n",
       "    .dataframe thead th {\n",
       "        text-align: right;\n",
       "    }\n",
       "</style>\n",
       "<table border=\"1\" class=\"dataframe\">\n",
       "  <thead>\n",
       "    <tr style=\"text-align: right;\">\n",
       "      <th></th>\n",
       "      <th>lane</th>\n",
       "      <th>team</th>\n",
       "      <th>chmpaionName</th>\n",
       "      <th>kills</th>\n",
       "      <th>deaths</th>\n",
       "      <th>assists</th>\n",
       "      <th>condition</th>\n",
       "      <th>kda</th>\n",
       "    </tr>\n",
       "  </thead>\n",
       "  <tbody>\n",
       "    <tr>\n",
       "      <th>1</th>\n",
       "      <td>MID</td>\n",
       "      <td>blue</td>\n",
       "      <td>바루스</td>\n",
       "      <td>18</td>\n",
       "      <td>0</td>\n",
       "      <td>4</td>\n",
       "      <td>good</td>\n",
       "      <td>22.00</td>\n",
       "    </tr>\n",
       "    <tr>\n",
       "      <th>0</th>\n",
       "      <td>TOP</td>\n",
       "      <td>blue</td>\n",
       "      <td>이렐리아</td>\n",
       "      <td>7</td>\n",
       "      <td>2</td>\n",
       "      <td>7</td>\n",
       "      <td>good</td>\n",
       "      <td>7.00</td>\n",
       "    </tr>\n",
       "    <tr>\n",
       "      <th>2</th>\n",
       "      <td>BOTTOM</td>\n",
       "      <td>blue</td>\n",
       "      <td>애쉬</td>\n",
       "      <td>1</td>\n",
       "      <td>5</td>\n",
       "      <td>15</td>\n",
       "      <td>good</td>\n",
       "      <td>3.20</td>\n",
       "    </tr>\n",
       "    <tr>\n",
       "      <th>5</th>\n",
       "      <td>BOTTOM</td>\n",
       "      <td>red</td>\n",
       "      <td>제리</td>\n",
       "      <td>11</td>\n",
       "      <td>9</td>\n",
       "      <td>2</td>\n",
       "      <td>bad</td>\n",
       "      <td>1.44</td>\n",
       "    </tr>\n",
       "    <tr>\n",
       "      <th>4</th>\n",
       "      <td>MID</td>\n",
       "      <td>red</td>\n",
       "      <td>벡스</td>\n",
       "      <td>1</td>\n",
       "      <td>10</td>\n",
       "      <td>3</td>\n",
       "      <td>bad</td>\n",
       "      <td>0.40</td>\n",
       "    </tr>\n",
       "    <tr>\n",
       "      <th>3</th>\n",
       "      <td>TOP</td>\n",
       "      <td>red</td>\n",
       "      <td>일라오이</td>\n",
       "      <td>3</td>\n",
       "      <td>9</td>\n",
       "      <td>0</td>\n",
       "      <td>bad</td>\n",
       "      <td>0.33</td>\n",
       "    </tr>\n",
       "  </tbody>\n",
       "</table>\n",
       "</div>"
      ],
      "text/plain": [
       "     lane  team chmpaionName  kills  deaths  assists condition    kda\n",
       "1     MID  blue          바루스     18       0        4      good  22.00\n",
       "0     TOP  blue         이렐리아      7       2        7      good   7.00\n",
       "2  BOTTOM  blue           애쉬      1       5       15      good   3.20\n",
       "5  BOTTOM   red           제리     11       9        2       bad   1.44\n",
       "4     MID   red           벡스      1      10        3       bad   0.40\n",
       "3     TOP   red         일라오이      3       9        0       bad   0.33"
      ]
     },
     "execution_count": 98,
     "metadata": {},
     "output_type": "execute_result"
    }
   ],
   "source": [
    "df.sort_values(by = ['kda'], ascending = False)"
   ]
  },
  {
   "cell_type": "markdown",
   "id": "dda035e9",
   "metadata": {},
   "source": [
    "# Divide"
   ]
  },
  {
   "cell_type": "code",
   "execution_count": 99,
   "id": "4821f1c4",
   "metadata": {},
   "outputs": [],
   "source": [
    "blue_team = df[df.team == 'blue']\n",
    "red_team = df[df['team'] == 'red']"
   ]
  },
  {
   "cell_type": "code",
   "execution_count": 100,
   "id": "ab013351",
   "metadata": {},
   "outputs": [
    {
     "data": {
      "text/html": [
       "<div>\n",
       "<style scoped>\n",
       "    .dataframe tbody tr th:only-of-type {\n",
       "        vertical-align: middle;\n",
       "    }\n",
       "\n",
       "    .dataframe tbody tr th {\n",
       "        vertical-align: top;\n",
       "    }\n",
       "\n",
       "    .dataframe thead th {\n",
       "        text-align: right;\n",
       "    }\n",
       "</style>\n",
       "<table border=\"1\" class=\"dataframe\">\n",
       "  <thead>\n",
       "    <tr style=\"text-align: right;\">\n",
       "      <th></th>\n",
       "      <th>lane</th>\n",
       "      <th>team</th>\n",
       "      <th>chmpaionName</th>\n",
       "      <th>kills</th>\n",
       "      <th>deaths</th>\n",
       "      <th>assists</th>\n",
       "      <th>condition</th>\n",
       "      <th>kda</th>\n",
       "    </tr>\n",
       "  </thead>\n",
       "  <tbody>\n",
       "    <tr>\n",
       "      <th>0</th>\n",
       "      <td>TOP</td>\n",
       "      <td>blue</td>\n",
       "      <td>이렐리아</td>\n",
       "      <td>7</td>\n",
       "      <td>2</td>\n",
       "      <td>7</td>\n",
       "      <td>good</td>\n",
       "      <td>7.0</td>\n",
       "    </tr>\n",
       "    <tr>\n",
       "      <th>1</th>\n",
       "      <td>MID</td>\n",
       "      <td>blue</td>\n",
       "      <td>바루스</td>\n",
       "      <td>18</td>\n",
       "      <td>0</td>\n",
       "      <td>4</td>\n",
       "      <td>good</td>\n",
       "      <td>22.0</td>\n",
       "    </tr>\n",
       "    <tr>\n",
       "      <th>2</th>\n",
       "      <td>BOTTOM</td>\n",
       "      <td>blue</td>\n",
       "      <td>애쉬</td>\n",
       "      <td>1</td>\n",
       "      <td>5</td>\n",
       "      <td>15</td>\n",
       "      <td>good</td>\n",
       "      <td>3.2</td>\n",
       "    </tr>\n",
       "  </tbody>\n",
       "</table>\n",
       "</div>"
      ],
      "text/plain": [
       "     lane  team chmpaionName  kills  deaths  assists condition   kda\n",
       "0     TOP  blue         이렐리아      7       2        7      good   7.0\n",
       "1     MID  blue          바루스     18       0        4      good  22.0\n",
       "2  BOTTOM  blue           애쉬      1       5       15      good   3.2"
      ]
     },
     "execution_count": 100,
     "metadata": {},
     "output_type": "execute_result"
    }
   ],
   "source": [
    "blue_team"
   ]
  },
  {
   "cell_type": "code",
   "execution_count": 101,
   "id": "b2f5fcb2",
   "metadata": {},
   "outputs": [
    {
     "data": {
      "text/html": [
       "<div>\n",
       "<style scoped>\n",
       "    .dataframe tbody tr th:only-of-type {\n",
       "        vertical-align: middle;\n",
       "    }\n",
       "\n",
       "    .dataframe tbody tr th {\n",
       "        vertical-align: top;\n",
       "    }\n",
       "\n",
       "    .dataframe thead th {\n",
       "        text-align: right;\n",
       "    }\n",
       "</style>\n",
       "<table border=\"1\" class=\"dataframe\">\n",
       "  <thead>\n",
       "    <tr style=\"text-align: right;\">\n",
       "      <th></th>\n",
       "      <th>lane</th>\n",
       "      <th>team</th>\n",
       "      <th>chmpaionName</th>\n",
       "      <th>kills</th>\n",
       "      <th>deaths</th>\n",
       "      <th>assists</th>\n",
       "      <th>condition</th>\n",
       "      <th>kda</th>\n",
       "    </tr>\n",
       "  </thead>\n",
       "  <tbody>\n",
       "    <tr>\n",
       "      <th>3</th>\n",
       "      <td>TOP</td>\n",
       "      <td>red</td>\n",
       "      <td>일라오이</td>\n",
       "      <td>3</td>\n",
       "      <td>9</td>\n",
       "      <td>0</td>\n",
       "      <td>bad</td>\n",
       "      <td>0.33</td>\n",
       "    </tr>\n",
       "    <tr>\n",
       "      <th>4</th>\n",
       "      <td>MID</td>\n",
       "      <td>red</td>\n",
       "      <td>벡스</td>\n",
       "      <td>1</td>\n",
       "      <td>10</td>\n",
       "      <td>3</td>\n",
       "      <td>bad</td>\n",
       "      <td>0.40</td>\n",
       "    </tr>\n",
       "    <tr>\n",
       "      <th>5</th>\n",
       "      <td>BOTTOM</td>\n",
       "      <td>red</td>\n",
       "      <td>제리</td>\n",
       "      <td>11</td>\n",
       "      <td>9</td>\n",
       "      <td>2</td>\n",
       "      <td>bad</td>\n",
       "      <td>1.44</td>\n",
       "    </tr>\n",
       "  </tbody>\n",
       "</table>\n",
       "</div>"
      ],
      "text/plain": [
       "     lane team chmpaionName  kills  deaths  assists condition   kda\n",
       "3     TOP  red         일라오이      3       9        0       bad  0.33\n",
       "4     MID  red           벡스      1      10        3       bad  0.40\n",
       "5  BOTTOM  red           제리     11       9        2       bad  1.44"
      ]
     },
     "execution_count": 101,
     "metadata": {},
     "output_type": "execute_result"
    }
   ],
   "source": [
    "red_team"
   ]
  },
  {
   "cell_type": "code",
   "execution_count": 102,
   "id": "8834665f",
   "metadata": {},
   "outputs": [],
   "source": [
    "concat_df = pd.concat([blue_team,red_team])"
   ]
  },
  {
   "cell_type": "code",
   "execution_count": 103,
   "id": "c5ed296f",
   "metadata": {},
   "outputs": [],
   "source": [
    "concat_df2 = pd.concat([red_team,blue_team], ignore_index = True)"
   ]
  },
  {
   "cell_type": "code",
   "execution_count": 104,
   "id": "9b4d7e47",
   "metadata": {},
   "outputs": [
    {
     "data": {
      "text/html": [
       "<div>\n",
       "<style scoped>\n",
       "    .dataframe tbody tr th:only-of-type {\n",
       "        vertical-align: middle;\n",
       "    }\n",
       "\n",
       "    .dataframe tbody tr th {\n",
       "        vertical-align: top;\n",
       "    }\n",
       "\n",
       "    .dataframe thead th {\n",
       "        text-align: right;\n",
       "    }\n",
       "</style>\n",
       "<table border=\"1\" class=\"dataframe\">\n",
       "  <thead>\n",
       "    <tr style=\"text-align: right;\">\n",
       "      <th></th>\n",
       "      <th>lane</th>\n",
       "      <th>team</th>\n",
       "      <th>chmpaionName</th>\n",
       "      <th>kills</th>\n",
       "      <th>deaths</th>\n",
       "      <th>assists</th>\n",
       "      <th>condition</th>\n",
       "      <th>kda</th>\n",
       "    </tr>\n",
       "  </thead>\n",
       "  <tbody>\n",
       "    <tr>\n",
       "      <th>0</th>\n",
       "      <td>TOP</td>\n",
       "      <td>red</td>\n",
       "      <td>일라오이</td>\n",
       "      <td>3</td>\n",
       "      <td>9</td>\n",
       "      <td>0</td>\n",
       "      <td>bad</td>\n",
       "      <td>0.33</td>\n",
       "    </tr>\n",
       "    <tr>\n",
       "      <th>1</th>\n",
       "      <td>MID</td>\n",
       "      <td>red</td>\n",
       "      <td>벡스</td>\n",
       "      <td>1</td>\n",
       "      <td>10</td>\n",
       "      <td>3</td>\n",
       "      <td>bad</td>\n",
       "      <td>0.40</td>\n",
       "    </tr>\n",
       "    <tr>\n",
       "      <th>2</th>\n",
       "      <td>BOTTOM</td>\n",
       "      <td>red</td>\n",
       "      <td>제리</td>\n",
       "      <td>11</td>\n",
       "      <td>9</td>\n",
       "      <td>2</td>\n",
       "      <td>bad</td>\n",
       "      <td>1.44</td>\n",
       "    </tr>\n",
       "    <tr>\n",
       "      <th>3</th>\n",
       "      <td>TOP</td>\n",
       "      <td>blue</td>\n",
       "      <td>이렐리아</td>\n",
       "      <td>7</td>\n",
       "      <td>2</td>\n",
       "      <td>7</td>\n",
       "      <td>good</td>\n",
       "      <td>7.00</td>\n",
       "    </tr>\n",
       "    <tr>\n",
       "      <th>4</th>\n",
       "      <td>MID</td>\n",
       "      <td>blue</td>\n",
       "      <td>바루스</td>\n",
       "      <td>18</td>\n",
       "      <td>0</td>\n",
       "      <td>4</td>\n",
       "      <td>good</td>\n",
       "      <td>22.00</td>\n",
       "    </tr>\n",
       "    <tr>\n",
       "      <th>5</th>\n",
       "      <td>BOTTOM</td>\n",
       "      <td>blue</td>\n",
       "      <td>애쉬</td>\n",
       "      <td>1</td>\n",
       "      <td>5</td>\n",
       "      <td>15</td>\n",
       "      <td>good</td>\n",
       "      <td>3.20</td>\n",
       "    </tr>\n",
       "  </tbody>\n",
       "</table>\n",
       "</div>"
      ],
      "text/plain": [
       "     lane  team chmpaionName  kills  deaths  assists condition    kda\n",
       "0     TOP   red         일라오이      3       9        0       bad   0.33\n",
       "1     MID   red           벡스      1      10        3       bad   0.40\n",
       "2  BOTTOM   red           제리     11       9        2       bad   1.44\n",
       "3     TOP  blue         이렐리아      7       2        7      good   7.00\n",
       "4     MID  blue          바루스     18       0        4      good  22.00\n",
       "5  BOTTOM  blue           애쉬      1       5       15      good   3.20"
      ]
     },
     "execution_count": 104,
     "metadata": {},
     "output_type": "execute_result"
    }
   ],
   "source": [
    "concat_df2"
   ]
  },
  {
   "cell_type": "markdown",
   "id": "5ea08c19",
   "metadata": {},
   "source": [
    "# MERGE"
   ]
  },
  {
   "cell_type": "code",
   "execution_count": 106,
   "id": "5b074d79",
   "metadata": {},
   "outputs": [],
   "source": [
    "merge_df = pd.merge(blue_team,red_team,on = ['lane'])"
   ]
  },
  {
   "cell_type": "code",
   "execution_count": 107,
   "id": "facad8ff",
   "metadata": {},
   "outputs": [
    {
     "data": {
      "text/html": [
       "<div>\n",
       "<style scoped>\n",
       "    .dataframe tbody tr th:only-of-type {\n",
       "        vertical-align: middle;\n",
       "    }\n",
       "\n",
       "    .dataframe tbody tr th {\n",
       "        vertical-align: top;\n",
       "    }\n",
       "\n",
       "    .dataframe thead th {\n",
       "        text-align: right;\n",
       "    }\n",
       "</style>\n",
       "<table border=\"1\" class=\"dataframe\">\n",
       "  <thead>\n",
       "    <tr style=\"text-align: right;\">\n",
       "      <th></th>\n",
       "      <th>lane</th>\n",
       "      <th>team_x</th>\n",
       "      <th>chmpaionName_x</th>\n",
       "      <th>kills_x</th>\n",
       "      <th>deaths_x</th>\n",
       "      <th>assists_x</th>\n",
       "      <th>condition_x</th>\n",
       "      <th>kda_x</th>\n",
       "      <th>team_y</th>\n",
       "      <th>chmpaionName_y</th>\n",
       "      <th>kills_y</th>\n",
       "      <th>deaths_y</th>\n",
       "      <th>assists_y</th>\n",
       "      <th>condition_y</th>\n",
       "      <th>kda_y</th>\n",
       "    </tr>\n",
       "  </thead>\n",
       "  <tbody>\n",
       "    <tr>\n",
       "      <th>0</th>\n",
       "      <td>TOP</td>\n",
       "      <td>blue</td>\n",
       "      <td>이렐리아</td>\n",
       "      <td>7</td>\n",
       "      <td>2</td>\n",
       "      <td>7</td>\n",
       "      <td>good</td>\n",
       "      <td>7.0</td>\n",
       "      <td>red</td>\n",
       "      <td>일라오이</td>\n",
       "      <td>3</td>\n",
       "      <td>9</td>\n",
       "      <td>0</td>\n",
       "      <td>bad</td>\n",
       "      <td>0.33</td>\n",
       "    </tr>\n",
       "    <tr>\n",
       "      <th>1</th>\n",
       "      <td>MID</td>\n",
       "      <td>blue</td>\n",
       "      <td>바루스</td>\n",
       "      <td>18</td>\n",
       "      <td>0</td>\n",
       "      <td>4</td>\n",
       "      <td>good</td>\n",
       "      <td>22.0</td>\n",
       "      <td>red</td>\n",
       "      <td>벡스</td>\n",
       "      <td>1</td>\n",
       "      <td>10</td>\n",
       "      <td>3</td>\n",
       "      <td>bad</td>\n",
       "      <td>0.40</td>\n",
       "    </tr>\n",
       "    <tr>\n",
       "      <th>2</th>\n",
       "      <td>BOTTOM</td>\n",
       "      <td>blue</td>\n",
       "      <td>애쉬</td>\n",
       "      <td>1</td>\n",
       "      <td>5</td>\n",
       "      <td>15</td>\n",
       "      <td>good</td>\n",
       "      <td>3.2</td>\n",
       "      <td>red</td>\n",
       "      <td>제리</td>\n",
       "      <td>11</td>\n",
       "      <td>9</td>\n",
       "      <td>2</td>\n",
       "      <td>bad</td>\n",
       "      <td>1.44</td>\n",
       "    </tr>\n",
       "  </tbody>\n",
       "</table>\n",
       "</div>"
      ],
      "text/plain": [
       "     lane team_x chmpaionName_x  kills_x  deaths_x  assists_x condition_x  \\\n",
       "0     TOP   blue           이렐리아        7         2          7        good   \n",
       "1     MID   blue            바루스       18         0          4        good   \n",
       "2  BOTTOM   blue             애쉬        1         5         15        good   \n",
       "\n",
       "   kda_x team_y chmpaionName_y  kills_y  deaths_y  assists_y condition_y  \\\n",
       "0    7.0    red           일라오이        3         9          0         bad   \n",
       "1   22.0    red             벡스        1        10          3         bad   \n",
       "2    3.2    red             제리       11         9          2         bad   \n",
       "\n",
       "   kda_y  \n",
       "0   0.33  \n",
       "1   0.40  \n",
       "2   1.44  "
      ]
     },
     "execution_count": 107,
     "metadata": {},
     "output_type": "execute_result"
    }
   ],
   "source": [
    "merge_df"
   ]
  },
  {
   "cell_type": "code",
   "execution_count": 108,
   "id": "10f2e102",
   "metadata": {},
   "outputs": [],
   "source": [
    "col = ['lane','blue_team','champName_blue','kills_blue','deaths_blue','assists_blue','condition_blue','kda_blue',\n",
    "      'red_team','champName_red','kills_red','deaths_red','assists_red','condition_red','kda_red']"
   ]
  },
  {
   "cell_type": "code",
   "execution_count": 109,
   "id": "fe490956",
   "metadata": {},
   "outputs": [],
   "source": [
    "merge_df.columns = col"
   ]
  },
  {
   "cell_type": "code",
   "execution_count": 110,
   "id": "351529db",
   "metadata": {},
   "outputs": [
    {
     "data": {
      "text/html": [
       "<div>\n",
       "<style scoped>\n",
       "    .dataframe tbody tr th:only-of-type {\n",
       "        vertical-align: middle;\n",
       "    }\n",
       "\n",
       "    .dataframe tbody tr th {\n",
       "        vertical-align: top;\n",
       "    }\n",
       "\n",
       "    .dataframe thead th {\n",
       "        text-align: right;\n",
       "    }\n",
       "</style>\n",
       "<table border=\"1\" class=\"dataframe\">\n",
       "  <thead>\n",
       "    <tr style=\"text-align: right;\">\n",
       "      <th></th>\n",
       "      <th>lane</th>\n",
       "      <th>blue_team</th>\n",
       "      <th>champName_blue</th>\n",
       "      <th>kills_blue</th>\n",
       "      <th>deaths_blue</th>\n",
       "      <th>assists_blue</th>\n",
       "      <th>condition_blue</th>\n",
       "      <th>kda_blue</th>\n",
       "      <th>red_team</th>\n",
       "      <th>champName_red</th>\n",
       "      <th>kills_red</th>\n",
       "      <th>deaths_red</th>\n",
       "      <th>assists_red</th>\n",
       "      <th>condition_red</th>\n",
       "      <th>kda_red</th>\n",
       "    </tr>\n",
       "  </thead>\n",
       "  <tbody>\n",
       "    <tr>\n",
       "      <th>0</th>\n",
       "      <td>TOP</td>\n",
       "      <td>blue</td>\n",
       "      <td>이렐리아</td>\n",
       "      <td>7</td>\n",
       "      <td>2</td>\n",
       "      <td>7</td>\n",
       "      <td>good</td>\n",
       "      <td>7.0</td>\n",
       "      <td>red</td>\n",
       "      <td>일라오이</td>\n",
       "      <td>3</td>\n",
       "      <td>9</td>\n",
       "      <td>0</td>\n",
       "      <td>bad</td>\n",
       "      <td>0.33</td>\n",
       "    </tr>\n",
       "    <tr>\n",
       "      <th>1</th>\n",
       "      <td>MID</td>\n",
       "      <td>blue</td>\n",
       "      <td>바루스</td>\n",
       "      <td>18</td>\n",
       "      <td>0</td>\n",
       "      <td>4</td>\n",
       "      <td>good</td>\n",
       "      <td>22.0</td>\n",
       "      <td>red</td>\n",
       "      <td>벡스</td>\n",
       "      <td>1</td>\n",
       "      <td>10</td>\n",
       "      <td>3</td>\n",
       "      <td>bad</td>\n",
       "      <td>0.40</td>\n",
       "    </tr>\n",
       "    <tr>\n",
       "      <th>2</th>\n",
       "      <td>BOTTOM</td>\n",
       "      <td>blue</td>\n",
       "      <td>애쉬</td>\n",
       "      <td>1</td>\n",
       "      <td>5</td>\n",
       "      <td>15</td>\n",
       "      <td>good</td>\n",
       "      <td>3.2</td>\n",
       "      <td>red</td>\n",
       "      <td>제리</td>\n",
       "      <td>11</td>\n",
       "      <td>9</td>\n",
       "      <td>2</td>\n",
       "      <td>bad</td>\n",
       "      <td>1.44</td>\n",
       "    </tr>\n",
       "  </tbody>\n",
       "</table>\n",
       "</div>"
      ],
      "text/plain": [
       "     lane blue_team champName_blue  kills_blue  deaths_blue  assists_blue  \\\n",
       "0     TOP      blue           이렐리아           7            2             7   \n",
       "1     MID      blue            바루스          18            0             4   \n",
       "2  BOTTOM      blue             애쉬           1            5            15   \n",
       "\n",
       "  condition_blue  kda_blue red_team champName_red  kills_red  deaths_red  \\\n",
       "0           good       7.0      red          일라오이          3           9   \n",
       "1           good      22.0      red            벡스          1          10   \n",
       "2           good       3.2      red            제리         11           9   \n",
       "\n",
       "   assists_red condition_red  kda_red  \n",
       "0            0           bad     0.33  \n",
       "1            3           bad     0.40  \n",
       "2            2           bad     1.44  "
      ]
     },
     "execution_count": 110,
     "metadata": {},
     "output_type": "execute_result"
    }
   ],
   "source": [
    "merge_df "
   ]
  },
  {
   "cell_type": "markdown",
   "id": "4d3495a1",
   "metadata": {},
   "source": [
    "# drop_duplicates"
   ]
  },
  {
   "cell_type": "code",
   "execution_count": 111,
   "id": "0aa79578",
   "metadata": {},
   "outputs": [],
   "source": [
    "dup_df = pd.concat([merge_df,merge_df])"
   ]
  },
  {
   "cell_type": "code",
   "execution_count": 112,
   "id": "e4cdc841",
   "metadata": {},
   "outputs": [
    {
     "data": {
      "text/html": [
       "<div>\n",
       "<style scoped>\n",
       "    .dataframe tbody tr th:only-of-type {\n",
       "        vertical-align: middle;\n",
       "    }\n",
       "\n",
       "    .dataframe tbody tr th {\n",
       "        vertical-align: top;\n",
       "    }\n",
       "\n",
       "    .dataframe thead th {\n",
       "        text-align: right;\n",
       "    }\n",
       "</style>\n",
       "<table border=\"1\" class=\"dataframe\">\n",
       "  <thead>\n",
       "    <tr style=\"text-align: right;\">\n",
       "      <th></th>\n",
       "      <th>lane</th>\n",
       "      <th>blue_team</th>\n",
       "      <th>champName_blue</th>\n",
       "      <th>kills_blue</th>\n",
       "      <th>deaths_blue</th>\n",
       "      <th>assists_blue</th>\n",
       "      <th>condition_blue</th>\n",
       "      <th>kda_blue</th>\n",
       "      <th>red_team</th>\n",
       "      <th>champName_red</th>\n",
       "      <th>kills_red</th>\n",
       "      <th>deaths_red</th>\n",
       "      <th>assists_red</th>\n",
       "      <th>condition_red</th>\n",
       "      <th>kda_red</th>\n",
       "    </tr>\n",
       "  </thead>\n",
       "  <tbody>\n",
       "    <tr>\n",
       "      <th>0</th>\n",
       "      <td>TOP</td>\n",
       "      <td>blue</td>\n",
       "      <td>이렐리아</td>\n",
       "      <td>7</td>\n",
       "      <td>2</td>\n",
       "      <td>7</td>\n",
       "      <td>good</td>\n",
       "      <td>7.0</td>\n",
       "      <td>red</td>\n",
       "      <td>일라오이</td>\n",
       "      <td>3</td>\n",
       "      <td>9</td>\n",
       "      <td>0</td>\n",
       "      <td>bad</td>\n",
       "      <td>0.33</td>\n",
       "    </tr>\n",
       "    <tr>\n",
       "      <th>1</th>\n",
       "      <td>MID</td>\n",
       "      <td>blue</td>\n",
       "      <td>바루스</td>\n",
       "      <td>18</td>\n",
       "      <td>0</td>\n",
       "      <td>4</td>\n",
       "      <td>good</td>\n",
       "      <td>22.0</td>\n",
       "      <td>red</td>\n",
       "      <td>벡스</td>\n",
       "      <td>1</td>\n",
       "      <td>10</td>\n",
       "      <td>3</td>\n",
       "      <td>bad</td>\n",
       "      <td>0.40</td>\n",
       "    </tr>\n",
       "    <tr>\n",
       "      <th>2</th>\n",
       "      <td>BOTTOM</td>\n",
       "      <td>blue</td>\n",
       "      <td>애쉬</td>\n",
       "      <td>1</td>\n",
       "      <td>5</td>\n",
       "      <td>15</td>\n",
       "      <td>good</td>\n",
       "      <td>3.2</td>\n",
       "      <td>red</td>\n",
       "      <td>제리</td>\n",
       "      <td>11</td>\n",
       "      <td>9</td>\n",
       "      <td>2</td>\n",
       "      <td>bad</td>\n",
       "      <td>1.44</td>\n",
       "    </tr>\n",
       "    <tr>\n",
       "      <th>0</th>\n",
       "      <td>TOP</td>\n",
       "      <td>blue</td>\n",
       "      <td>이렐리아</td>\n",
       "      <td>7</td>\n",
       "      <td>2</td>\n",
       "      <td>7</td>\n",
       "      <td>good</td>\n",
       "      <td>7.0</td>\n",
       "      <td>red</td>\n",
       "      <td>일라오이</td>\n",
       "      <td>3</td>\n",
       "      <td>9</td>\n",
       "      <td>0</td>\n",
       "      <td>bad</td>\n",
       "      <td>0.33</td>\n",
       "    </tr>\n",
       "    <tr>\n",
       "      <th>1</th>\n",
       "      <td>MID</td>\n",
       "      <td>blue</td>\n",
       "      <td>바루스</td>\n",
       "      <td>18</td>\n",
       "      <td>0</td>\n",
       "      <td>4</td>\n",
       "      <td>good</td>\n",
       "      <td>22.0</td>\n",
       "      <td>red</td>\n",
       "      <td>벡스</td>\n",
       "      <td>1</td>\n",
       "      <td>10</td>\n",
       "      <td>3</td>\n",
       "      <td>bad</td>\n",
       "      <td>0.40</td>\n",
       "    </tr>\n",
       "    <tr>\n",
       "      <th>2</th>\n",
       "      <td>BOTTOM</td>\n",
       "      <td>blue</td>\n",
       "      <td>애쉬</td>\n",
       "      <td>1</td>\n",
       "      <td>5</td>\n",
       "      <td>15</td>\n",
       "      <td>good</td>\n",
       "      <td>3.2</td>\n",
       "      <td>red</td>\n",
       "      <td>제리</td>\n",
       "      <td>11</td>\n",
       "      <td>9</td>\n",
       "      <td>2</td>\n",
       "      <td>bad</td>\n",
       "      <td>1.44</td>\n",
       "    </tr>\n",
       "  </tbody>\n",
       "</table>\n",
       "</div>"
      ],
      "text/plain": [
       "     lane blue_team champName_blue  kills_blue  deaths_blue  assists_blue  \\\n",
       "0     TOP      blue           이렐리아           7            2             7   \n",
       "1     MID      blue            바루스          18            0             4   \n",
       "2  BOTTOM      blue             애쉬           1            5            15   \n",
       "0     TOP      blue           이렐리아           7            2             7   \n",
       "1     MID      blue            바루스          18            0             4   \n",
       "2  BOTTOM      blue             애쉬           1            5            15   \n",
       "\n",
       "  condition_blue  kda_blue red_team champName_red  kills_red  deaths_red  \\\n",
       "0           good       7.0      red          일라오이          3           9   \n",
       "1           good      22.0      red            벡스          1          10   \n",
       "2           good       3.2      red            제리         11           9   \n",
       "0           good       7.0      red          일라오이          3           9   \n",
       "1           good      22.0      red            벡스          1          10   \n",
       "2           good       3.2      red            제리         11           9   \n",
       "\n",
       "   assists_red condition_red  kda_red  \n",
       "0            0           bad     0.33  \n",
       "1            3           bad     0.40  \n",
       "2            2           bad     1.44  \n",
       "0            0           bad     0.33  \n",
       "1            3           bad     0.40  \n",
       "2            2           bad     1.44  "
      ]
     },
     "execution_count": 112,
     "metadata": {},
     "output_type": "execute_result"
    }
   ],
   "source": [
    "dup_df"
   ]
  },
  {
   "cell_type": "code",
   "execution_count": 113,
   "id": "f11dc28d",
   "metadata": {},
   "outputs": [],
   "source": [
    "dup_df.drop_duplicates(['champName_blue'],inplace = True)"
   ]
  },
  {
   "cell_type": "code",
   "execution_count": 114,
   "id": "280ab922",
   "metadata": {},
   "outputs": [],
   "source": [
    "merge_df.to_csv('test.csv',index=False,encoding=\"utf-8\")"
   ]
  },
  {
   "cell_type": "code",
   "execution_count": 116,
   "id": "61466702",
   "metadata": {},
   "outputs": [],
   "source": [
    "champion_df=pd.read_csv('cn_kr.csv')"
   ]
  },
  {
   "cell_type": "code",
   "execution_count": 117,
   "id": "ba265e1b",
   "metadata": {},
   "outputs": [
    {
     "data": {
      "text/html": [
       "<div>\n",
       "<style scoped>\n",
       "    .dataframe tbody tr th:only-of-type {\n",
       "        vertical-align: middle;\n",
       "    }\n",
       "\n",
       "    .dataframe tbody tr th {\n",
       "        vertical-align: top;\n",
       "    }\n",
       "\n",
       "    .dataframe thead th {\n",
       "        text-align: right;\n",
       "    }\n",
       "</style>\n",
       "<table border=\"1\" class=\"dataframe\">\n",
       "  <thead>\n",
       "    <tr style=\"text-align: right;\">\n",
       "      <th></th>\n",
       "      <th>championId</th>\n",
       "      <th>champion_name_kr</th>\n",
       "    </tr>\n",
       "  </thead>\n",
       "  <tbody>\n",
       "    <tr>\n",
       "      <th>0</th>\n",
       "      <td>1</td>\n",
       "      <td>애니</td>\n",
       "    </tr>\n",
       "    <tr>\n",
       "      <th>1</th>\n",
       "      <td>2</td>\n",
       "      <td>올라프</td>\n",
       "    </tr>\n",
       "    <tr>\n",
       "      <th>2</th>\n",
       "      <td>3</td>\n",
       "      <td>갈리오</td>\n",
       "    </tr>\n",
       "    <tr>\n",
       "      <th>3</th>\n",
       "      <td>4</td>\n",
       "      <td>트위스티드 페이트</td>\n",
       "    </tr>\n",
       "    <tr>\n",
       "      <th>4</th>\n",
       "      <td>5</td>\n",
       "      <td>신 짜오</td>\n",
       "    </tr>\n",
       "    <tr>\n",
       "      <th>...</th>\n",
       "      <td>...</td>\n",
       "      <td>...</td>\n",
       "    </tr>\n",
       "    <tr>\n",
       "      <th>154</th>\n",
       "      <td>777</td>\n",
       "      <td>요네</td>\n",
       "    </tr>\n",
       "    <tr>\n",
       "      <th>155</th>\n",
       "      <td>875</td>\n",
       "      <td>세트</td>\n",
       "    </tr>\n",
       "    <tr>\n",
       "      <th>156</th>\n",
       "      <td>876</td>\n",
       "      <td>릴리아</td>\n",
       "    </tr>\n",
       "    <tr>\n",
       "      <th>157</th>\n",
       "      <td>887</td>\n",
       "      <td>그웬</td>\n",
       "    </tr>\n",
       "    <tr>\n",
       "      <th>158</th>\n",
       "      <td>888</td>\n",
       "      <td>레나타 글라스크</td>\n",
       "    </tr>\n",
       "  </tbody>\n",
       "</table>\n",
       "<p>159 rows × 2 columns</p>\n",
       "</div>"
      ],
      "text/plain": [
       "     championId champion_name_kr\n",
       "0             1               애니\n",
       "1             2              올라프\n",
       "2             3              갈리오\n",
       "3             4        트위스티드 페이트\n",
       "4             5             신 짜오\n",
       "..          ...              ...\n",
       "154         777               요네\n",
       "155         875               세트\n",
       "156         876              릴리아\n",
       "157         887               그웬\n",
       "158         888         레나타 글라스크\n",
       "\n",
       "[159 rows x 2 columns]"
      ]
     },
     "execution_count": 117,
     "metadata": {},
     "output_type": "execute_result"
    }
   ],
   "source": [
    "champion_df"
   ]
  },
  {
   "cell_type": "code",
   "execution_count": 118,
   "id": "07dbdcb0",
   "metadata": {},
   "outputs": [],
   "source": [
    "dsr_df=pd.read_csv('dsr.csv')"
   ]
  },
  {
   "cell_type": "code",
   "execution_count": 119,
   "id": "f642879d",
   "metadata": {},
   "outputs": [
    {
     "data": {
      "text/html": [
       "<div>\n",
       "<style scoped>\n",
       "    .dataframe tbody tr th:only-of-type {\n",
       "        vertical-align: middle;\n",
       "    }\n",
       "\n",
       "    .dataframe tbody tr th {\n",
       "        vertical-align: top;\n",
       "    }\n",
       "\n",
       "    .dataframe thead th {\n",
       "        text-align: right;\n",
       "    }\n",
       "</style>\n",
       "<table border=\"1\" class=\"dataframe\">\n",
       "  <thead>\n",
       "    <tr style=\"text-align: right;\">\n",
       "      <th></th>\n",
       "      <th>gameId</th>\n",
       "      <th>duration</th>\n",
       "      <th>participantId</th>\n",
       "      <th>championId</th>\n",
       "      <th>lane</th>\n",
       "      <th>side</th>\n",
       "      <th>win</th>\n",
       "      <th>damageDealt</th>\n",
       "      <th>damageTaken</th>\n",
       "      <th>gold</th>\n",
       "      <th>...</th>\n",
       "      <th>g21</th>\n",
       "      <th>g22</th>\n",
       "      <th>g23</th>\n",
       "      <th>g24</th>\n",
       "      <th>g25</th>\n",
       "      <th>g26</th>\n",
       "      <th>g27</th>\n",
       "      <th>g28</th>\n",
       "      <th>g29</th>\n",
       "      <th>g30</th>\n",
       "    </tr>\n",
       "  </thead>\n",
       "  <tbody>\n",
       "    <tr>\n",
       "      <th>0</th>\n",
       "      <td>5311499506</td>\n",
       "      <td>2196</td>\n",
       "      <td>1</td>\n",
       "      <td>412</td>\n",
       "      <td>Supporter</td>\n",
       "      <td>blue</td>\n",
       "      <td>True</td>\n",
       "      <td>5969</td>\n",
       "      <td>16076</td>\n",
       "      <td>9634</td>\n",
       "      <td>...</td>\n",
       "      <td>5256</td>\n",
       "      <td>5426</td>\n",
       "      <td>5647</td>\n",
       "      <td>6123</td>\n",
       "      <td>6411</td>\n",
       "      <td>7078</td>\n",
       "      <td>7228</td>\n",
       "      <td>7418</td>\n",
       "      <td>7619</td>\n",
       "      <td>7789</td>\n",
       "    </tr>\n",
       "    <tr>\n",
       "      <th>1</th>\n",
       "      <td>5311499506</td>\n",
       "      <td>2196</td>\n",
       "      <td>2</td>\n",
       "      <td>517</td>\n",
       "      <td>Middle</td>\n",
       "      <td>blue</td>\n",
       "      <td>True</td>\n",
       "      <td>21107</td>\n",
       "      <td>26083</td>\n",
       "      <td>13317</td>\n",
       "      <td>...</td>\n",
       "      <td>7191</td>\n",
       "      <td>7550</td>\n",
       "      <td>7779</td>\n",
       "      <td>8656</td>\n",
       "      <td>9200</td>\n",
       "      <td>9724</td>\n",
       "      <td>10002</td>\n",
       "      <td>10856</td>\n",
       "      <td>11142</td>\n",
       "      <td>11348</td>\n",
       "    </tr>\n",
       "    <tr>\n",
       "      <th>2</th>\n",
       "      <td>5311499506</td>\n",
       "      <td>2196</td>\n",
       "      <td>3</td>\n",
       "      <td>145</td>\n",
       "      <td>Bot</td>\n",
       "      <td>blue</td>\n",
       "      <td>True</td>\n",
       "      <td>28755</td>\n",
       "      <td>16542</td>\n",
       "      <td>19154</td>\n",
       "      <td>...</td>\n",
       "      <td>9180</td>\n",
       "      <td>9616</td>\n",
       "      <td>10379</td>\n",
       "      <td>11657</td>\n",
       "      <td>12485</td>\n",
       "      <td>13660</td>\n",
       "      <td>14015</td>\n",
       "      <td>14644</td>\n",
       "      <td>14961</td>\n",
       "      <td>15434</td>\n",
       "    </tr>\n",
       "    <tr>\n",
       "      <th>3</th>\n",
       "      <td>5311499506</td>\n",
       "      <td>2196</td>\n",
       "      <td>4</td>\n",
       "      <td>234</td>\n",
       "      <td>Jungle</td>\n",
       "      <td>blue</td>\n",
       "      <td>True</td>\n",
       "      <td>18808</td>\n",
       "      <td>31963</td>\n",
       "      <td>15297</td>\n",
       "      <td>...</td>\n",
       "      <td>8705</td>\n",
       "      <td>8958</td>\n",
       "      <td>9253</td>\n",
       "      <td>9962</td>\n",
       "      <td>10525</td>\n",
       "      <td>10972</td>\n",
       "      <td>11258</td>\n",
       "      <td>11755</td>\n",
       "      <td>12062</td>\n",
       "      <td>12229</td>\n",
       "    </tr>\n",
       "    <tr>\n",
       "      <th>4</th>\n",
       "      <td>5311499506</td>\n",
       "      <td>2196</td>\n",
       "      <td>5</td>\n",
       "      <td>266</td>\n",
       "      <td>Top</td>\n",
       "      <td>blue</td>\n",
       "      <td>True</td>\n",
       "      <td>15994</td>\n",
       "      <td>41212</td>\n",
       "      <td>13551</td>\n",
       "      <td>...</td>\n",
       "      <td>8364</td>\n",
       "      <td>8661</td>\n",
       "      <td>9182</td>\n",
       "      <td>9839</td>\n",
       "      <td>10084</td>\n",
       "      <td>10329</td>\n",
       "      <td>10667</td>\n",
       "      <td>10839</td>\n",
       "      <td>11118</td>\n",
       "      <td>11345</td>\n",
       "    </tr>\n",
       "    <tr>\n",
       "      <th>...</th>\n",
       "      <td>...</td>\n",
       "      <td>...</td>\n",
       "      <td>...</td>\n",
       "      <td>...</td>\n",
       "      <td>...</td>\n",
       "      <td>...</td>\n",
       "      <td>...</td>\n",
       "      <td>...</td>\n",
       "      <td>...</td>\n",
       "      <td>...</td>\n",
       "      <td>...</td>\n",
       "      <td>...</td>\n",
       "      <td>...</td>\n",
       "      <td>...</td>\n",
       "      <td>...</td>\n",
       "      <td>...</td>\n",
       "      <td>...</td>\n",
       "      <td>...</td>\n",
       "      <td>...</td>\n",
       "      <td>...</td>\n",
       "      <td>...</td>\n",
       "    </tr>\n",
       "    <tr>\n",
       "      <th>999995</th>\n",
       "      <td>5346520241</td>\n",
       "      <td>1786</td>\n",
       "      <td>6</td>\n",
       "      <td>89</td>\n",
       "      <td>Supporter</td>\n",
       "      <td>red</td>\n",
       "      <td>True</td>\n",
       "      <td>7562</td>\n",
       "      <td>22776</td>\n",
       "      <td>8885</td>\n",
       "      <td>...</td>\n",
       "      <td>5593</td>\n",
       "      <td>5976</td>\n",
       "      <td>6241</td>\n",
       "      <td>6457</td>\n",
       "      <td>6597</td>\n",
       "      <td>6737</td>\n",
       "      <td>7958</td>\n",
       "      <td>8299</td>\n",
       "      <td>8564</td>\n",
       "      <td>8885</td>\n",
       "    </tr>\n",
       "    <tr>\n",
       "      <th>999996</th>\n",
       "      <td>5346520241</td>\n",
       "      <td>1786</td>\n",
       "      <td>7</td>\n",
       "      <td>92</td>\n",
       "      <td>Top</td>\n",
       "      <td>red</td>\n",
       "      <td>True</td>\n",
       "      <td>15334</td>\n",
       "      <td>24188</td>\n",
       "      <td>11123</td>\n",
       "      <td>...</td>\n",
       "      <td>7571</td>\n",
       "      <td>7897</td>\n",
       "      <td>8243</td>\n",
       "      <td>8625</td>\n",
       "      <td>8747</td>\n",
       "      <td>9022</td>\n",
       "      <td>9340</td>\n",
       "      <td>10084</td>\n",
       "      <td>10726</td>\n",
       "      <td>11123</td>\n",
       "    </tr>\n",
       "    <tr>\n",
       "      <th>999997</th>\n",
       "      <td>5346520241</td>\n",
       "      <td>1786</td>\n",
       "      <td>8</td>\n",
       "      <td>91</td>\n",
       "      <td>Middle</td>\n",
       "      <td>red</td>\n",
       "      <td>True</td>\n",
       "      <td>27626</td>\n",
       "      <td>23651</td>\n",
       "      <td>13600</td>\n",
       "      <td>...</td>\n",
       "      <td>9610</td>\n",
       "      <td>9733</td>\n",
       "      <td>10676</td>\n",
       "      <td>10798</td>\n",
       "      <td>10984</td>\n",
       "      <td>11120</td>\n",
       "      <td>12223</td>\n",
       "      <td>12729</td>\n",
       "      <td>13306</td>\n",
       "      <td>13600</td>\n",
       "    </tr>\n",
       "    <tr>\n",
       "      <th>999998</th>\n",
       "      <td>5346520241</td>\n",
       "      <td>1786</td>\n",
       "      <td>9</td>\n",
       "      <td>141</td>\n",
       "      <td>Jungle</td>\n",
       "      <td>red</td>\n",
       "      <td>True</td>\n",
       "      <td>23209</td>\n",
       "      <td>25823</td>\n",
       "      <td>15988</td>\n",
       "      <td>...</td>\n",
       "      <td>10375</td>\n",
       "      <td>10932</td>\n",
       "      <td>11994</td>\n",
       "      <td>12548</td>\n",
       "      <td>12887</td>\n",
       "      <td>13039</td>\n",
       "      <td>13967</td>\n",
       "      <td>14756</td>\n",
       "      <td>15506</td>\n",
       "      <td>15988</td>\n",
       "    </tr>\n",
       "    <tr>\n",
       "      <th>999999</th>\n",
       "      <td>5346520241</td>\n",
       "      <td>1786</td>\n",
       "      <td>10</td>\n",
       "      <td>202</td>\n",
       "      <td>Bot</td>\n",
       "      <td>red</td>\n",
       "      <td>True</td>\n",
       "      <td>20059</td>\n",
       "      <td>21011</td>\n",
       "      <td>12671</td>\n",
       "      <td>...</td>\n",
       "      <td>8701</td>\n",
       "      <td>9169</td>\n",
       "      <td>9918</td>\n",
       "      <td>10116</td>\n",
       "      <td>10385</td>\n",
       "      <td>10507</td>\n",
       "      <td>11158</td>\n",
       "      <td>11380</td>\n",
       "      <td>12196</td>\n",
       "      <td>12671</td>\n",
       "    </tr>\n",
       "  </tbody>\n",
       "</table>\n",
       "<p>1000000 rows × 39 columns</p>\n",
       "</div>"
      ],
      "text/plain": [
       "            gameId  duration  participantId  championId       lane  side  \\\n",
       "0       5311499506      2196              1         412  Supporter  blue   \n",
       "1       5311499506      2196              2         517     Middle  blue   \n",
       "2       5311499506      2196              3         145        Bot  blue   \n",
       "3       5311499506      2196              4         234     Jungle  blue   \n",
       "4       5311499506      2196              5         266        Top  blue   \n",
       "...            ...       ...            ...         ...        ...   ...   \n",
       "999995  5346520241      1786              6          89  Supporter   red   \n",
       "999996  5346520241      1786              7          92        Top   red   \n",
       "999997  5346520241      1786              8          91     Middle   red   \n",
       "999998  5346520241      1786              9         141     Jungle   red   \n",
       "999999  5346520241      1786             10         202        Bot   red   \n",
       "\n",
       "         win  damageDealt  damageTaken   gold  ...    g21    g22    g23  \\\n",
       "0       True         5969        16076   9634  ...   5256   5426   5647   \n",
       "1       True        21107        26083  13317  ...   7191   7550   7779   \n",
       "2       True        28755        16542  19154  ...   9180   9616  10379   \n",
       "3       True        18808        31963  15297  ...   8705   8958   9253   \n",
       "4       True        15994        41212  13551  ...   8364   8661   9182   \n",
       "...      ...          ...          ...    ...  ...    ...    ...    ...   \n",
       "999995  True         7562        22776   8885  ...   5593   5976   6241   \n",
       "999996  True        15334        24188  11123  ...   7571   7897   8243   \n",
       "999997  True        27626        23651  13600  ...   9610   9733  10676   \n",
       "999998  True        23209        25823  15988  ...  10375  10932  11994   \n",
       "999999  True        20059        21011  12671  ...   8701   9169   9918   \n",
       "\n",
       "          g24    g25    g26    g27    g28    g29    g30  \n",
       "0        6123   6411   7078   7228   7418   7619   7789  \n",
       "1        8656   9200   9724  10002  10856  11142  11348  \n",
       "2       11657  12485  13660  14015  14644  14961  15434  \n",
       "3        9962  10525  10972  11258  11755  12062  12229  \n",
       "4        9839  10084  10329  10667  10839  11118  11345  \n",
       "...       ...    ...    ...    ...    ...    ...    ...  \n",
       "999995   6457   6597   6737   7958   8299   8564   8885  \n",
       "999996   8625   8747   9022   9340  10084  10726  11123  \n",
       "999997  10798  10984  11120  12223  12729  13306  13600  \n",
       "999998  12548  12887  13039  13967  14756  15506  15988  \n",
       "999999  10116  10385  10507  11158  11380  12196  12671  \n",
       "\n",
       "[1000000 rows x 39 columns]"
      ]
     },
     "execution_count": 119,
     "metadata": {},
     "output_type": "execute_result"
    }
   ],
   "source": [
    "dsr_df"
   ]
  },
  {
   "cell_type": "code",
   "execution_count": 121,
   "id": "95631eaf",
   "metadata": {},
   "outputs": [
    {
     "data": {
      "text/plain": [
       "Index(['gameId', 'duration', 'participantId', 'championId', 'lane', 'side',\n",
       "       'win', 'damageDealt', 'damageTaken', 'gold', 'kills', 'deaths',\n",
       "       'assists', 'g5', 'g6', 'g7', 'g8', 'g9', 'g10', 'g11', 'g12', 'g13',\n",
       "       'g14', 'g15', 'g16', 'g17', 'g18', 'g19', 'g20', 'g21', 'g22', 'g23',\n",
       "       'g24', 'g25', 'g26', 'g27', 'g28', 'g29', 'g30'],\n",
       "      dtype='object')"
      ]
     },
     "execution_count": 121,
     "metadata": {},
     "output_type": "execute_result"
    }
   ],
   "source": [
    "dsr_df.columns"
   ]
  },
  {
   "cell_type": "code",
   "execution_count": 122,
   "id": "53fea36b",
   "metadata": {},
   "outputs": [
    {
     "ename": "NameError",
     "evalue": "name 'data_solo_rank' is not defined",
     "output_type": "error",
     "traceback": [
      "\u001b[1;31m---------------------------------------------------------------------------\u001b[0m",
      "\u001b[1;31mNameError\u001b[0m                                 Traceback (most recent call last)",
      "Cell \u001b[1;32mIn[122], line 1\u001b[0m\n\u001b[1;32m----> 1\u001b[0m my_df \u001b[38;5;241m=\u001b[39m data_solo_rank[[\u001b[38;5;124m'\u001b[39m\u001b[38;5;124mgameId\u001b[39m\u001b[38;5;124m'\u001b[39m, \u001b[38;5;124m'\u001b[39m\u001b[38;5;124mduration\u001b[39m\u001b[38;5;124m'\u001b[39m, \u001b[38;5;124m'\u001b[39m\u001b[38;5;124mversion\u001b[39m\u001b[38;5;124m'\u001b[39m, \u001b[38;5;124m'\u001b[39m\u001b[38;5;124mparticipantId\u001b[39m\u001b[38;5;124m'\u001b[39m, \u001b[38;5;124m'\u001b[39m\u001b[38;5;124mchampionId\u001b[39m\u001b[38;5;124m'\u001b[39m, \u001b[38;5;124m'\u001b[39m\u001b[38;5;124mlane\u001b[39m\u001b[38;5;124m'\u001b[39m,\n\u001b[0;32m      2\u001b[0m        \u001b[38;5;124m'\u001b[39m\u001b[38;5;124mside\u001b[39m\u001b[38;5;124m'\u001b[39m, \u001b[38;5;124m'\u001b[39m\u001b[38;5;124mwin\u001b[39m\u001b[38;5;124m'\u001b[39m, \u001b[38;5;124m'\u001b[39m\u001b[38;5;124mdamageDealt\u001b[39m\u001b[38;5;124m'\u001b[39m, \u001b[38;5;124m'\u001b[39m\u001b[38;5;124mdamageTaken\u001b[39m\u001b[38;5;124m'\u001b[39m, \u001b[38;5;124m'\u001b[39m\u001b[38;5;124mgold\u001b[39m\u001b[38;5;124m'\u001b[39m, \u001b[38;5;124m'\u001b[39m\u001b[38;5;124mkills\u001b[39m\u001b[38;5;124m'\u001b[39m, \u001b[38;5;124m'\u001b[39m\u001b[38;5;124mdeaths\u001b[39m\u001b[38;5;124m'\u001b[39m,\n\u001b[0;32m      3\u001b[0m        \u001b[38;5;124m'\u001b[39m\u001b[38;5;124massists\u001b[39m\u001b[38;5;124m'\u001b[39m]]\n",
      "\u001b[1;31mNameError\u001b[0m: name 'data_solo_rank' is not defined"
     ]
    }
   ],
   "source": [
    "my_df = data_solo_rank[['gameId', 'duration', 'version', 'participantId', 'championId', 'lane',\n",
    "       'side', 'win', 'damageDealt', 'damageTaken', 'gold', 'kills', 'deaths',\n",
    "       'assists']]"
   ]
  },
  {
   "cell_type": "code",
   "execution_count": 123,
   "id": "befdef9f",
   "metadata": {},
   "outputs": [],
   "source": [
    "my_df = dsr_df[['gameId', 'duration', 'participantId', 'championId', 'lane',\n",
    "       'side', 'win', 'damageDealt', 'damageTaken', 'gold', 'kills', 'deaths',\n",
    "       'assists']].copy() #copy() -- "
   ]
  },
  {
   "cell_type": "markdown",
   "id": "51213dbd",
   "metadata": {},
   "source": [
    "# damageDealt > 딜량damageTaken >받은피해량딜량/ 피해량 > apply 만들어보기dm_per 컬럼"
   ]
  },
  {
   "cell_type": "code",
   "execution_count": 124,
   "id": "1ed3f15a",
   "metadata": {},
   "outputs": [],
   "source": [
    "my_df['dp_per']=my_df['damageDealt']/my_df['damageTaken']"
   ]
  },
  {
   "cell_type": "code",
   "execution_count": 125,
   "id": "2686e018",
   "metadata": {},
   "outputs": [
    {
     "ename": "NameError",
     "evalue": "name 'blue_df' is not defined",
     "output_type": "error",
     "traceback": [
      "\u001b[1;31m---------------------------------------------------------------------------\u001b[0m",
      "\u001b[1;31mNameError\u001b[0m                                 Traceback (most recent call last)",
      "Cell \u001b[1;32mIn[125], line 1\u001b[0m\n\u001b[1;32m----> 1\u001b[0m my_df[\u001b[38;5;124m'\u001b[39m\u001b[38;5;124mdf_per\u001b[39m\u001b[38;5;124m'\u001b[39m]\u001b[38;5;241m=\u001b[39mblue_df[\u001b[38;5;124m'\u001b[39m\u001b[38;5;124m'\u001b[39m]\n",
      "\u001b[1;31mNameError\u001b[0m: name 'blue_df' is not defined"
     ]
    }
   ],
   "source": [
    "my_df['df_per']=blue_df['']"
   ]
  }
 ],
 "metadata": {
  "kernelspec": {
   "display_name": "Python 3 (ipykernel)",
   "language": "python",
   "name": "python3"
  },
  "language_info": {
   "codemirror_mode": {
    "name": "ipython",
    "version": 3
   },
   "file_extension": ".py",
   "mimetype": "text/x-python",
   "name": "python",
   "nbconvert_exporter": "python",
   "pygments_lexer": "ipython3",
   "version": "3.11.5"
  }
 },
 "nbformat": 4,
 "nbformat_minor": 5
}
